{
  "nbformat": 4,
  "nbformat_minor": 0,
  "metadata": {
    "kernelspec": {
      "display_name": "Python 3",
      "language": "python",
      "name": "python3"
    },
    "language_info": {
      "codemirror_mode": {
        "name": "ipython",
        "version": 3
      },
      "file_extension": ".py",
      "mimetype": "text/x-python",
      "name": "python",
      "nbconvert_exporter": "python",
      "pygments_lexer": "ipython3",
      "version": "3.7.6"
    },
    "toc": {
      "base_numbering": 1,
      "nav_menu": {},
      "number_sections": true,
      "sideBar": true,
      "skip_h1_title": false,
      "title_cell": "Table of Contents",
      "title_sidebar": "Contents",
      "toc_cell": false,
      "toc_position": {},
      "toc_section_display": true,
      "toc_window_display": false
    },
    "colab": {
      "name": "keras_baseline2.ipynb",
      "provenance": []
    }
  },
  "cells": [
    {
      "cell_type": "code",
      "metadata": {
        "ExecuteTime": {
          "end_time": "2020-07-16T17:21:56.264893Z",
          "start_time": "2020-07-16T17:21:54.426815Z"
        },
        "id": "ZX15Fq1xyZHs",
        "colab_type": "code",
        "colab": {},
        "outputId": "ef75ccbb-b3ed-4198-bc6c-bf70eae43a4f"
      },
      "source": [
        "import tensorflow as tf\n",
        "from tensorflow import keras\n",
        "from tensorflow.keras import layers\n",
        "import os\n",
        "import pandas as pd\n",
        "from tensorflow.keras.applications import ResNet50V2\n",
        "\n",
        "tf.__version__"
      ],
      "execution_count": null,
      "outputs": [
        {
          "output_type": "execute_result",
          "data": {
            "text/plain": [
              "'2.3.0-dev20200522'"
            ]
          },
          "metadata": {
            "tags": []
          },
          "execution_count": 1
        }
      ]
    },
    {
      "cell_type": "code",
      "metadata": {
        "ExecuteTime": {
          "end_time": "2020-07-16T17:21:56.280891Z",
          "start_time": "2020-07-16T17:21:56.266895Z"
        },
        "id": "ne5HKbuLyZHw",
        "colab_type": "code",
        "colab": {},
        "outputId": "44b97e4a-737c-4cf0-93f4-d6a7a2663907"
      },
      "source": [
        "PATH = 'data'\n",
        "\n",
        "os.listdir(PATH)"
      ],
      "execution_count": null,
      "outputs": [
        {
          "output_type": "execute_result",
          "data": {
            "text/plain": [
              "['jpeg224',\n",
              " 'sample_submission.csv',\n",
              " 'subset.csv',\n",
              " 'test.csv',\n",
              " 'train.csv',\n",
              " 'train_split.csv',\n",
              " 'val_split.csv']"
            ]
          },
          "metadata": {
            "tags": []
          },
          "execution_count": 2
        }
      ]
    },
    {
      "cell_type": "code",
      "metadata": {
        "ExecuteTime": {
          "end_time": "2020-07-16T17:21:56.343890Z",
          "start_time": "2020-07-16T17:21:56.281889Z"
        },
        "id": "yE1XIIIIyZHy",
        "colab_type": "code",
        "colab": {},
        "outputId": "39a3fdec-9d73-413f-b46b-59aa541a7504"
      },
      "source": [
        "train = pd.read_csv(f'{PATH}/train_split.csv')\n",
        "#train = pd.read_csv(f'{PATH}/subset.csv')\n",
        "val = pd.read_csv(f'{PATH}/val_split.csv')\n",
        "\n",
        "train.shape, val.shape"
      ],
      "execution_count": null,
      "outputs": [
        {
          "output_type": "execute_result",
          "data": {
            "text/plain": [
              "((22194, 8), (10932, 8))"
            ]
          },
          "metadata": {
            "tags": []
          },
          "execution_count": 3
        }
      ]
    },
    {
      "cell_type": "code",
      "metadata": {
        "ExecuteTime": {
          "end_time": "2020-07-16T17:21:56.358890Z",
          "start_time": "2020-07-16T17:21:56.344890Z"
        },
        "id": "Tp_LDwaNyZH0",
        "colab_type": "code",
        "colab": {},
        "outputId": "233452d1-b305-48b7-a5ae-4990308196b1"
      },
      "source": [
        "train.head()"
      ],
      "execution_count": null,
      "outputs": [
        {
          "output_type": "execute_result",
          "data": {
            "text/html": [
              "<div>\n",
              "<style scoped>\n",
              "    .dataframe tbody tr th:only-of-type {\n",
              "        vertical-align: middle;\n",
              "    }\n",
              "\n",
              "    .dataframe tbody tr th {\n",
              "        vertical-align: top;\n",
              "    }\n",
              "\n",
              "    .dataframe thead th {\n",
              "        text-align: right;\n",
              "    }\n",
              "</style>\n",
              "<table border=\"1\" class=\"dataframe\">\n",
              "  <thead>\n",
              "    <tr style=\"text-align: right;\">\n",
              "      <th></th>\n",
              "      <th>image_name</th>\n",
              "      <th>patient_id</th>\n",
              "      <th>sex</th>\n",
              "      <th>age_approx</th>\n",
              "      <th>anatom_site_general_challenge</th>\n",
              "      <th>diagnosis</th>\n",
              "      <th>benign_malignant</th>\n",
              "      <th>target</th>\n",
              "    </tr>\n",
              "  </thead>\n",
              "  <tbody>\n",
              "    <tr>\n",
              "      <th>0</th>\n",
              "      <td>ISIC_6147712</td>\n",
              "      <td>IP_8210115</td>\n",
              "      <td>male</td>\n",
              "      <td>55.0</td>\n",
              "      <td>torso</td>\n",
              "      <td>unknown</td>\n",
              "      <td>benign</td>\n",
              "      <td>0</td>\n",
              "    </tr>\n",
              "    <tr>\n",
              "      <th>1</th>\n",
              "      <td>ISIC_8460669</td>\n",
              "      <td>IP_1246698</td>\n",
              "      <td>female</td>\n",
              "      <td>40.0</td>\n",
              "      <td>lower extremity</td>\n",
              "      <td>unknown</td>\n",
              "      <td>benign</td>\n",
              "      <td>0</td>\n",
              "    </tr>\n",
              "    <tr>\n",
              "      <th>2</th>\n",
              "      <td>ISIC_3272999</td>\n",
              "      <td>IP_3512888</td>\n",
              "      <td>female</td>\n",
              "      <td>35.0</td>\n",
              "      <td>torso</td>\n",
              "      <td>nevus</td>\n",
              "      <td>benign</td>\n",
              "      <td>0</td>\n",
              "    </tr>\n",
              "    <tr>\n",
              "      <th>3</th>\n",
              "      <td>ISIC_2195125</td>\n",
              "      <td>IP_4576977</td>\n",
              "      <td>male</td>\n",
              "      <td>45.0</td>\n",
              "      <td>torso</td>\n",
              "      <td>unknown</td>\n",
              "      <td>benign</td>\n",
              "      <td>0</td>\n",
              "    </tr>\n",
              "    <tr>\n",
              "      <th>4</th>\n",
              "      <td>ISIC_8557006</td>\n",
              "      <td>IP_2950485</td>\n",
              "      <td>female</td>\n",
              "      <td>40.0</td>\n",
              "      <td>lower extremity</td>\n",
              "      <td>unknown</td>\n",
              "      <td>benign</td>\n",
              "      <td>0</td>\n",
              "    </tr>\n",
              "  </tbody>\n",
              "</table>\n",
              "</div>"
            ],
            "text/plain": [
              "     image_name  patient_id     sex  age_approx anatom_site_general_challenge  \\\n",
              "0  ISIC_6147712  IP_8210115    male        55.0                         torso   \n",
              "1  ISIC_8460669  IP_1246698  female        40.0               lower extremity   \n",
              "2  ISIC_3272999  IP_3512888  female        35.0                         torso   \n",
              "3  ISIC_2195125  IP_4576977    male        45.0                         torso   \n",
              "4  ISIC_8557006  IP_2950485  female        40.0               lower extremity   \n",
              "\n",
              "  diagnosis benign_malignant  target  \n",
              "0   unknown           benign       0  \n",
              "1   unknown           benign       0  \n",
              "2     nevus           benign       0  \n",
              "3   unknown           benign       0  \n",
              "4   unknown           benign       0  "
            ]
          },
          "metadata": {
            "tags": []
          },
          "execution_count": 4
        }
      ]
    },
    {
      "cell_type": "code",
      "metadata": {
        "ExecuteTime": {
          "end_time": "2020-07-16T17:21:56.373890Z",
          "start_time": "2020-07-16T17:21:56.359890Z"
        },
        "code_folding": [],
        "id": "DGvuIlBJyZH2",
        "colab_type": "code",
        "colab": {}
      },
      "source": [
        "BATCH_SIZE = 64\n",
        "AUTO = tf.data.experimental.AUTOTUNE\n",
        "\n",
        "def decode(filename, label):\n",
        "    img = tf.io.read_file(filename)\n",
        "    img = tf.image.decode_jpeg(img, channels=3)\n",
        "    img = tf.cast(img, tf.float32)\n",
        "    return img, label\n",
        "\n",
        "def load_ds(df):\n",
        "    options = tf.data.Options()\n",
        "    options.experimental_deterministic = False\n",
        "    imgs, labels = df[\"image_name\"].values, df[\"target\"].values\n",
        "    imgs = [f'{PATH}/jpeg224/train/{img}.jpg' for img in imgs]\n",
        "    ds = tf.data.Dataset.from_tensor_slices((imgs, labels))\n",
        "    ds = ds.with_options(options)\n",
        "    ds = ds.map(decode, num_parallel_calls=AUTO)\n",
        "    ds = ds.cache()\n",
        "    ds = ds.shuffle(2048)\n",
        "    ds = ds.batch(BATCH_SIZE)\n",
        "    ds = ds.prefetch(buffer_size=AUTO)\n",
        "    return ds"
      ],
      "execution_count": null,
      "outputs": []
    },
    {
      "cell_type": "code",
      "metadata": {
        "ExecuteTime": {
          "end_time": "2020-07-16T17:21:57.119888Z",
          "start_time": "2020-07-16T17:21:56.374895Z"
        },
        "id": "KCbu2A7RyZH4",
        "colab_type": "code",
        "colab": {}
      },
      "source": [
        "train_ds = load_ds(train)\n",
        "val_ds = load_ds(val)"
      ],
      "execution_count": null,
      "outputs": []
    },
    {
      "cell_type": "code",
      "metadata": {
        "ExecuteTime": {
          "end_time": "2020-07-16T17:21:59.410941Z",
          "start_time": "2020-07-16T17:21:57.121888Z"
        },
        "code_folding": [],
        "id": "J4A3WczHyZH5",
        "colab_type": "code",
        "colab": {},
        "outputId": "e9662efe-f481-44b4-c47f-d1a6226f0c3f"
      },
      "source": [
        "IMAGE_SIZE = (224, 224, 3)\n",
        "\n",
        "encoder = ResNet50V2(\n",
        "    include_top=False,\n",
        "    input_shape=IMAGE_SIZE,\n",
        "    weights='imagenet'\n",
        ")\n",
        "encoder.trainable = False\n",
        "\n",
        "inputs = keras.Input(shape=IMAGE_SIZE)\n",
        "x = keras.layers.experimental.preprocessing.Rescaling(1./255)(inputs)\n",
        "x = encoder(x, training=False)\n",
        "x = keras.layers.GlobalAveragePooling2D()(x)\n",
        "outputs = keras.layers.Dense(1, activation=\"sigmoid\")(x)\n",
        "model = keras.Model(inputs, outputs)\n",
        "model.summary()"
      ],
      "execution_count": null,
      "outputs": [
        {
          "output_type": "stream",
          "text": [
            "Model: \"functional_1\"\n",
            "_________________________________________________________________\n",
            "Layer (type)                 Output Shape              Param #   \n",
            "=================================================================\n",
            "input_2 (InputLayer)         [(None, 224, 224, 3)]     0         \n",
            "_________________________________________________________________\n",
            "rescaling (Rescaling)        (None, 224, 224, 3)       0         \n",
            "_________________________________________________________________\n",
            "resnet50v2 (Functional)      (None, 7, 7, 2048)        23564800  \n",
            "_________________________________________________________________\n",
            "global_average_pooling2d (Gl (None, 2048)              0         \n",
            "_________________________________________________________________\n",
            "dense (Dense)                (None, 1)                 2049      \n",
            "=================================================================\n",
            "Total params: 23,566,849\n",
            "Trainable params: 2,049\n",
            "Non-trainable params: 23,564,800\n",
            "_________________________________________________________________\n"
          ],
          "name": "stdout"
        }
      ]
    },
    {
      "cell_type": "code",
      "metadata": {
        "ExecuteTime": {
          "end_time": "2020-07-16T17:21:59.440940Z",
          "start_time": "2020-07-16T17:21:59.411943Z"
        },
        "id": "1tMFD5yByZH-",
        "colab_type": "code",
        "colab": {}
      },
      "source": [
        "model.compile(\n",
        "    optimizer=tf.keras.optimizers.Adam(),\n",
        "    loss=tf.keras.losses.BinaryCrossentropy(),\n",
        "    metrics=[keras.metrics.AUC(name=\"auc\")]\n",
        ")"
      ],
      "execution_count": null,
      "outputs": []
    },
    {
      "cell_type": "code",
      "metadata": {
        "ExecuteTime": {
          "end_time": "2020-07-16T17:21:59.456938Z",
          "start_time": "2020-07-16T17:21:59.441940Z"
        },
        "code_folding": [],
        "id": "1Jo9X29vyZIA",
        "colab_type": "code",
        "colab": {}
      },
      "source": [
        "filepath = './checkpoints/checkpoint'\n",
        "cb = tf.keras.callbacks.ModelCheckpoint(\n",
        "    filepath = filepath,\n",
        "    monitor=\"val_auc\",\n",
        "    verbose=1,\n",
        "    save_best_only=True,\n",
        "    save_weights_only=True,\n",
        "    mode=\"max\"\n",
        ")"
      ],
      "execution_count": null,
      "outputs": []
    },
    {
      "cell_type": "code",
      "metadata": {
        "ExecuteTime": {
          "end_time": "2020-07-16T17:37:08.093589Z",
          "start_time": "2020-07-16T17:21:59.457938Z"
        },
        "code_folding": [],
        "id": "EAJus2JkyZIC",
        "colab_type": "code",
        "colab": {},
        "outputId": "598fb15b-b514-485e-fa01-31035d30789b"
      },
      "source": [
        "model.fit(\n",
        "    train_ds, \n",
        "    epochs=10, \n",
        "    validation_data=val_ds, \n",
        "    #validation_steps=10,\n",
        "    callbacks=[cb]\n",
        ")"
      ],
      "execution_count": null,
      "outputs": [
        {
          "output_type": "stream",
          "text": [
            "Epoch 1/10\n",
            "347/347 [==============================] - ETA: 0s - loss: 0.0922 - auc: 0.6820\n",
            "Epoch 00001: val_auc improved from -inf to 0.79516, saving model to ./checkpoints\\checkpoint\n",
            "347/347 [==============================] - 95s 274ms/step - loss: 0.0922 - auc: 0.6820 - val_loss: 0.0767 - val_auc: 0.7952\n",
            "Epoch 2/10\n",
            "347/347 [==============================] - ETA: 0s - loss: 0.0743 - auc: 0.8100\n",
            "Epoch 00002: val_auc improved from 0.79516 to 0.83388, saving model to ./checkpoints\\checkpoint\n",
            "347/347 [==============================] - 89s 258ms/step - loss: 0.0743 - auc: 0.8100 - val_loss: 0.0746 - val_auc: 0.8339\n",
            "Epoch 3/10\n",
            "347/347 [==============================] - ETA: 0s - loss: 0.0709 - auc: 0.8423\n",
            "Epoch 00003: val_auc did not improve from 0.83388\n",
            "347/347 [==============================] - 89s 258ms/step - loss: 0.0709 - auc: 0.8423 - val_loss: 0.0740 - val_auc: 0.8251\n",
            "Epoch 4/10\n",
            "347/347 [==============================] - ETA: 0s - loss: 0.0674 - auc: 0.8619\n",
            "Epoch 00004: val_auc improved from 0.83388 to 0.83514, saving model to ./checkpoints\\checkpoint\n",
            "347/347 [==============================] - 90s 258ms/step - loss: 0.0674 - auc: 0.8619 - val_loss: 0.0732 - val_auc: 0.8351\n",
            "Epoch 5/10\n",
            "347/347 [==============================] - ETA: 0s - loss: 0.0656 - auc: 0.8748\n",
            "Epoch 00005: val_auc improved from 0.83514 to 0.84001, saving model to ./checkpoints\\checkpoint\n",
            "347/347 [==============================] - 90s 259ms/step - loss: 0.0656 - auc: 0.8748 - val_loss: 0.0729 - val_auc: 0.8400\n",
            "Epoch 6/10\n",
            "347/347 [==============================] - ETA: 0s - loss: 0.0642 - auc: 0.8870\n",
            "Epoch 00006: val_auc did not improve from 0.84001\n",
            "347/347 [==============================] - 90s 258ms/step - loss: 0.0642 - auc: 0.8870 - val_loss: 0.0774 - val_auc: 0.8212\n",
            "Epoch 7/10\n",
            "347/347 [==============================] - ETA: 0s - loss: 0.0620 - auc: 0.8952\n",
            "Epoch 00007: val_auc did not improve from 0.84001\n",
            "347/347 [==============================] - 90s 259ms/step - loss: 0.0620 - auc: 0.8952 - val_loss: 0.0737 - val_auc: 0.8298\n",
            "Epoch 8/10\n",
            "347/347 [==============================] - ETA: 0s - loss: 0.0605 - auc: 0.9032\n",
            "Epoch 00008: val_auc did not improve from 0.84001\n",
            "347/347 [==============================] - 90s 260ms/step - loss: 0.0605 - auc: 0.9032 - val_loss: 0.0775 - val_auc: 0.8124\n",
            "Epoch 9/10\n",
            "347/347 [==============================] - ETA: 0s - loss: 0.0594 - auc: 0.9043\n",
            "Epoch 00009: val_auc did not improve from 0.84001\n",
            "347/347 [==============================] - 90s 259ms/step - loss: 0.0594 - auc: 0.9043 - val_loss: 0.0745 - val_auc: 0.8241\n",
            "Epoch 10/10\n",
            "347/347 [==============================] - ETA: 0s - loss: 0.0575 - auc: 0.9198\n",
            "Epoch 00010: val_auc did not improve from 0.84001\n",
            "347/347 [==============================] - 90s 258ms/step - loss: 0.0575 - auc: 0.9198 - val_loss: 0.0753 - val_auc: 0.8188\n"
          ],
          "name": "stdout"
        },
        {
          "output_type": "execute_result",
          "data": {
            "text/plain": [
              "<tensorflow.python.keras.callbacks.History at 0x265ee81f8c8>"
            ]
          },
          "metadata": {
            "tags": []
          },
          "execution_count": 10
        }
      ]
    },
    {
      "cell_type": "code",
      "metadata": {
        "ExecuteTime": {
          "end_time": "2020-07-16T17:37:09.152198Z",
          "start_time": "2020-07-16T17:37:08.095589Z"
        },
        "id": "kfY1Q5ONyZIE",
        "colab_type": "code",
        "colab": {}
      },
      "source": [
        "model.load_weights(filepath)\n",
        "model.save(\"model.h5\")"
      ],
      "execution_count": null,
      "outputs": []
    },
    {
      "cell_type": "code",
      "metadata": {
        "ExecuteTime": {
          "end_time": "2020-07-16T17:37:38.855042Z",
          "start_time": "2020-07-16T17:37:09.153198Z"
        },
        "id": "PeHYDzDTyZIF",
        "colab_type": "code",
        "colab": {},
        "outputId": "e0dda63f-6577-4840-eccf-aba5defe88e5"
      },
      "source": [
        "model.evaluate(val_ds)"
      ],
      "execution_count": null,
      "outputs": [
        {
          "output_type": "stream",
          "text": [
            "171/171 [==============================] - 29s 172ms/step - loss: 0.0729 - auc: 0.8400\n"
          ],
          "name": "stdout"
        },
        {
          "output_type": "execute_result",
          "data": {
            "text/plain": [
              "[0.07287885993719101, 0.8400139212608337]"
            ]
          },
          "metadata": {
            "tags": []
          },
          "execution_count": 12
        }
      ]
    },
    {
      "cell_type": "code",
      "metadata": {
        "ExecuteTime": {
          "end_time": "2020-07-16T17:37:38.887037Z",
          "start_time": "2020-07-16T17:37:38.856041Z"
        },
        "id": "iBwE_Zz0yZIH",
        "colab_type": "code",
        "colab": {},
        "outputId": "c9218f79-c558-45f7-d3de-7f37758b851b"
      },
      "source": [
        "test = pd.read_csv(f'{PATH}/test.csv')\n",
        "\n",
        "test.head()"
      ],
      "execution_count": null,
      "outputs": [
        {
          "output_type": "execute_result",
          "data": {
            "text/html": [
              "<div>\n",
              "<style scoped>\n",
              "    .dataframe tbody tr th:only-of-type {\n",
              "        vertical-align: middle;\n",
              "    }\n",
              "\n",
              "    .dataframe tbody tr th {\n",
              "        vertical-align: top;\n",
              "    }\n",
              "\n",
              "    .dataframe thead th {\n",
              "        text-align: right;\n",
              "    }\n",
              "</style>\n",
              "<table border=\"1\" class=\"dataframe\">\n",
              "  <thead>\n",
              "    <tr style=\"text-align: right;\">\n",
              "      <th></th>\n",
              "      <th>image_name</th>\n",
              "      <th>patient_id</th>\n",
              "      <th>sex</th>\n",
              "      <th>age_approx</th>\n",
              "      <th>anatom_site_general_challenge</th>\n",
              "    </tr>\n",
              "  </thead>\n",
              "  <tbody>\n",
              "    <tr>\n",
              "      <th>0</th>\n",
              "      <td>ISIC_0052060</td>\n",
              "      <td>IP_3579794</td>\n",
              "      <td>male</td>\n",
              "      <td>70.0</td>\n",
              "      <td>NaN</td>\n",
              "    </tr>\n",
              "    <tr>\n",
              "      <th>1</th>\n",
              "      <td>ISIC_0052349</td>\n",
              "      <td>IP_7782715</td>\n",
              "      <td>male</td>\n",
              "      <td>40.0</td>\n",
              "      <td>lower extremity</td>\n",
              "    </tr>\n",
              "    <tr>\n",
              "      <th>2</th>\n",
              "      <td>ISIC_0058510</td>\n",
              "      <td>IP_7960270</td>\n",
              "      <td>female</td>\n",
              "      <td>55.0</td>\n",
              "      <td>torso</td>\n",
              "    </tr>\n",
              "    <tr>\n",
              "      <th>3</th>\n",
              "      <td>ISIC_0073313</td>\n",
              "      <td>IP_6375035</td>\n",
              "      <td>female</td>\n",
              "      <td>50.0</td>\n",
              "      <td>torso</td>\n",
              "    </tr>\n",
              "    <tr>\n",
              "      <th>4</th>\n",
              "      <td>ISIC_0073502</td>\n",
              "      <td>IP_0589375</td>\n",
              "      <td>female</td>\n",
              "      <td>45.0</td>\n",
              "      <td>lower extremity</td>\n",
              "    </tr>\n",
              "  </tbody>\n",
              "</table>\n",
              "</div>"
            ],
            "text/plain": [
              "     image_name  patient_id     sex  age_approx anatom_site_general_challenge\n",
              "0  ISIC_0052060  IP_3579794    male        70.0                           NaN\n",
              "1  ISIC_0052349  IP_7782715    male        40.0               lower extremity\n",
              "2  ISIC_0058510  IP_7960270  female        55.0                         torso\n",
              "3  ISIC_0073313  IP_6375035  female        50.0                         torso\n",
              "4  ISIC_0073502  IP_0589375  female        45.0               lower extremity"
            ]
          },
          "metadata": {
            "tags": []
          },
          "execution_count": 13
        }
      ]
    },
    {
      "cell_type": "code",
      "metadata": {
        "ExecuteTime": {
          "end_time": "2020-07-16T17:37:38.903043Z",
          "start_time": "2020-07-16T17:37:38.888038Z"
        },
        "id": "0sfYMJzTyZIJ",
        "colab_type": "code",
        "colab": {}
      },
      "source": [
        "def decode_test(filename):\n",
        "    img = tf.io.read_file(filename)\n",
        "    img = tf.image.decode_jpeg(img, channels=3)\n",
        "    img = tf.cast(img, tf.float32)\n",
        "    return img\n",
        "\n",
        "def load_test_ds(df):\n",
        "    imgs = df[\"image_name\"].values\n",
        "    imgs = [f'{PATH}/jpeg224/test/{img}.jpg' for img in imgs]\n",
        "    ds = tf.data.Dataset.from_tensor_slices(imgs)\n",
        "    ds = ds.map(decode_test)\n",
        "    ds = ds.batch(BATCH_SIZE)\n",
        "    return ds"
      ],
      "execution_count": null,
      "outputs": []
    },
    {
      "cell_type": "code",
      "metadata": {
        "ExecuteTime": {
          "end_time": "2020-07-16T17:37:38.967040Z",
          "start_time": "2020-07-16T17:37:38.904037Z"
        },
        "id": "XK8nsYdCyZIK",
        "colab_type": "code",
        "colab": {}
      },
      "source": [
        "test_ds = load_test_ds(test)"
      ],
      "execution_count": null,
      "outputs": []
    },
    {
      "cell_type": "code",
      "metadata": {
        "ExecuteTime": {
          "end_time": "2020-07-16T17:38:07.588912Z",
          "start_time": "2020-07-16T17:37:38.968040Z"
        },
        "id": "D-6hLAdXyZIM",
        "colab_type": "code",
        "colab": {}
      },
      "source": [
        "preds = model.predict(test_ds)"
      ],
      "execution_count": null,
      "outputs": []
    },
    {
      "cell_type": "code",
      "metadata": {
        "ExecuteTime": {
          "end_time": "2020-07-16T17:38:07.604910Z",
          "start_time": "2020-07-16T17:38:07.589914Z"
        },
        "id": "BWNbyg16yZIN",
        "colab_type": "code",
        "colab": {},
        "outputId": "cce8dcde-30b2-458a-d4c5-0f8431683563"
      },
      "source": [
        "preds"
      ],
      "execution_count": null,
      "outputs": [
        {
          "output_type": "execute_result",
          "data": {
            "text/plain": [
              "array([[0.00370706],\n",
              "       [0.00145345],\n",
              "       [0.00221092],\n",
              "       ...,\n",
              "       [0.05133142],\n",
              "       [0.00280571],\n",
              "       [0.00054312]], dtype=float32)"
            ]
          },
          "metadata": {
            "tags": []
          },
          "execution_count": 17
        }
      ]
    },
    {
      "cell_type": "code",
      "metadata": {
        "ExecuteTime": {
          "end_time": "2020-07-16T17:38:07.620909Z",
          "start_time": "2020-07-16T17:38:07.606909Z"
        },
        "id": "LmXSIdkWyZIP",
        "colab_type": "code",
        "colab": {},
        "outputId": "2f1bec50-d6d5-4a37-f730-be1aa4e39654"
      },
      "source": [
        "submission = pd.DataFrame({'image_name': test['image_name'].values, 'target': preds.ravel()})\n",
        "\n",
        "submission"
      ],
      "execution_count": null,
      "outputs": [
        {
          "output_type": "execute_result",
          "data": {
            "text/html": [
              "<div>\n",
              "<style scoped>\n",
              "    .dataframe tbody tr th:only-of-type {\n",
              "        vertical-align: middle;\n",
              "    }\n",
              "\n",
              "    .dataframe tbody tr th {\n",
              "        vertical-align: top;\n",
              "    }\n",
              "\n",
              "    .dataframe thead th {\n",
              "        text-align: right;\n",
              "    }\n",
              "</style>\n",
              "<table border=\"1\" class=\"dataframe\">\n",
              "  <thead>\n",
              "    <tr style=\"text-align: right;\">\n",
              "      <th></th>\n",
              "      <th>image_name</th>\n",
              "      <th>target</th>\n",
              "    </tr>\n",
              "  </thead>\n",
              "  <tbody>\n",
              "    <tr>\n",
              "      <th>0</th>\n",
              "      <td>ISIC_0052060</td>\n",
              "      <td>0.003707</td>\n",
              "    </tr>\n",
              "    <tr>\n",
              "      <th>1</th>\n",
              "      <td>ISIC_0052349</td>\n",
              "      <td>0.001453</td>\n",
              "    </tr>\n",
              "    <tr>\n",
              "      <th>2</th>\n",
              "      <td>ISIC_0058510</td>\n",
              "      <td>0.002211</td>\n",
              "    </tr>\n",
              "    <tr>\n",
              "      <th>3</th>\n",
              "      <td>ISIC_0073313</td>\n",
              "      <td>0.000887</td>\n",
              "    </tr>\n",
              "    <tr>\n",
              "      <th>4</th>\n",
              "      <td>ISIC_0073502</td>\n",
              "      <td>0.000169</td>\n",
              "    </tr>\n",
              "    <tr>\n",
              "      <th>...</th>\n",
              "      <td>...</td>\n",
              "      <td>...</td>\n",
              "    </tr>\n",
              "    <tr>\n",
              "      <th>10977</th>\n",
              "      <td>ISIC_9992485</td>\n",
              "      <td>0.007189</td>\n",
              "    </tr>\n",
              "    <tr>\n",
              "      <th>10978</th>\n",
              "      <td>ISIC_9996992</td>\n",
              "      <td>0.090941</td>\n",
              "    </tr>\n",
              "    <tr>\n",
              "      <th>10979</th>\n",
              "      <td>ISIC_9997917</td>\n",
              "      <td>0.051331</td>\n",
              "    </tr>\n",
              "    <tr>\n",
              "      <th>10980</th>\n",
              "      <td>ISIC_9998234</td>\n",
              "      <td>0.002806</td>\n",
              "    </tr>\n",
              "    <tr>\n",
              "      <th>10981</th>\n",
              "      <td>ISIC_9999302</td>\n",
              "      <td>0.000543</td>\n",
              "    </tr>\n",
              "  </tbody>\n",
              "</table>\n",
              "<p>10982 rows × 2 columns</p>\n",
              "</div>"
            ],
            "text/plain": [
              "         image_name    target\n",
              "0      ISIC_0052060  0.003707\n",
              "1      ISIC_0052349  0.001453\n",
              "2      ISIC_0058510  0.002211\n",
              "3      ISIC_0073313  0.000887\n",
              "4      ISIC_0073502  0.000169\n",
              "...             ...       ...\n",
              "10977  ISIC_9992485  0.007189\n",
              "10978  ISIC_9996992  0.090941\n",
              "10979  ISIC_9997917  0.051331\n",
              "10980  ISIC_9998234  0.002806\n",
              "10981  ISIC_9999302  0.000543\n",
              "\n",
              "[10982 rows x 2 columns]"
            ]
          },
          "metadata": {
            "tags": []
          },
          "execution_count": 18
        }
      ]
    },
    {
      "cell_type": "code",
      "metadata": {
        "ExecuteTime": {
          "end_time": "2020-07-16T17:38:07.652911Z",
          "start_time": "2020-07-16T17:38:07.621912Z"
        },
        "id": "fIng1B6VyZIR",
        "colab_type": "code",
        "colab": {}
      },
      "source": [
        "submission.to_csv('submission.csv', index=False)"
      ],
      "execution_count": null,
      "outputs": []
    }
  ]
}