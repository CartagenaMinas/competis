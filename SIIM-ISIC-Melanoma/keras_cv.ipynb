{
 "cells": [
  {
   "cell_type": "code",
   "execution_count": 1,
   "metadata": {
    "ExecuteTime": {
     "end_time": "2020-07-02T18:02:44.938630Z",
     "start_time": "2020-07-02T18:02:42.835628Z"
    }
   },
   "outputs": [
    {
     "data": {
      "text/plain": [
       "'2.3.0-dev20200522'"
      ]
     },
     "execution_count": 1,
     "metadata": {},
     "output_type": "execute_result"
    }
   ],
   "source": [
    "import tensorflow as tf\n",
    "from tensorflow import keras\n",
    "from tensorflow.keras import layers\n",
    "from tensorflow.keras.models import load_model\n",
    "import os\n",
    "import pandas as pd\n",
    "from tensorflow.keras.applications import ResNet50V2\n",
    "from sklearn.model_selection import StratifiedKFold, train_test_split\n",
    "import numpy as np\n",
    "\n",
    "tf.__version__"
   ]
  },
  {
   "cell_type": "code",
   "execution_count": 2,
   "metadata": {
    "ExecuteTime": {
     "end_time": "2020-07-02T18:02:44.954657Z",
     "start_time": "2020-07-02T18:02:44.939630Z"
    }
   },
   "outputs": [
    {
     "data": {
      "text/plain": [
       "['jpeg224',\n",
       " 'sample_submission.csv',\n",
       " 'subset.csv',\n",
       " 'test.csv',\n",
       " 'train.csv',\n",
       " 'train_split.csv',\n",
       " 'val_split.csv']"
      ]
     },
     "execution_count": 2,
     "metadata": {},
     "output_type": "execute_result"
    }
   ],
   "source": [
    "PATH = 'data'\n",
    "\n",
    "os.listdir(PATH)"
   ]
  },
  {
   "cell_type": "code",
   "execution_count": 3,
   "metadata": {
    "ExecuteTime": {
     "end_time": "2020-07-02T18:02:45.002657Z",
     "start_time": "2020-07-02T18:02:44.955658Z"
    }
   },
   "outputs": [
    {
     "data": {
      "text/plain": [
       "(33126, 8)"
      ]
     },
     "execution_count": 3,
     "metadata": {},
     "output_type": "execute_result"
    }
   ],
   "source": [
    "train = pd.read_csv(f'{PATH}/train.csv')\n",
    "\n",
    "train.shape"
   ]
  },
  {
   "cell_type": "code",
   "execution_count": 4,
   "metadata": {
    "ExecuteTime": {
     "end_time": "2020-07-02T18:02:45.018657Z",
     "start_time": "2020-07-02T18:02:45.003657Z"
    }
   },
   "outputs": [
    {
     "data": {
      "text/html": [
       "<div>\n",
       "<style scoped>\n",
       "    .dataframe tbody tr th:only-of-type {\n",
       "        vertical-align: middle;\n",
       "    }\n",
       "\n",
       "    .dataframe tbody tr th {\n",
       "        vertical-align: top;\n",
       "    }\n",
       "\n",
       "    .dataframe thead th {\n",
       "        text-align: right;\n",
       "    }\n",
       "</style>\n",
       "<table border=\"1\" class=\"dataframe\">\n",
       "  <thead>\n",
       "    <tr style=\"text-align: right;\">\n",
       "      <th></th>\n",
       "      <th>image_name</th>\n",
       "      <th>patient_id</th>\n",
       "      <th>sex</th>\n",
       "      <th>age_approx</th>\n",
       "      <th>anatom_site_general_challenge</th>\n",
       "      <th>diagnosis</th>\n",
       "      <th>benign_malignant</th>\n",
       "      <th>target</th>\n",
       "    </tr>\n",
       "  </thead>\n",
       "  <tbody>\n",
       "    <tr>\n",
       "      <th>0</th>\n",
       "      <td>ISIC_2637011</td>\n",
       "      <td>IP_7279968</td>\n",
       "      <td>male</td>\n",
       "      <td>45.0</td>\n",
       "      <td>head/neck</td>\n",
       "      <td>unknown</td>\n",
       "      <td>benign</td>\n",
       "      <td>0</td>\n",
       "    </tr>\n",
       "    <tr>\n",
       "      <th>1</th>\n",
       "      <td>ISIC_0015719</td>\n",
       "      <td>IP_3075186</td>\n",
       "      <td>female</td>\n",
       "      <td>45.0</td>\n",
       "      <td>upper extremity</td>\n",
       "      <td>unknown</td>\n",
       "      <td>benign</td>\n",
       "      <td>0</td>\n",
       "    </tr>\n",
       "    <tr>\n",
       "      <th>2</th>\n",
       "      <td>ISIC_0052212</td>\n",
       "      <td>IP_2842074</td>\n",
       "      <td>female</td>\n",
       "      <td>50.0</td>\n",
       "      <td>lower extremity</td>\n",
       "      <td>nevus</td>\n",
       "      <td>benign</td>\n",
       "      <td>0</td>\n",
       "    </tr>\n",
       "    <tr>\n",
       "      <th>3</th>\n",
       "      <td>ISIC_0068279</td>\n",
       "      <td>IP_6890425</td>\n",
       "      <td>female</td>\n",
       "      <td>45.0</td>\n",
       "      <td>head/neck</td>\n",
       "      <td>unknown</td>\n",
       "      <td>benign</td>\n",
       "      <td>0</td>\n",
       "    </tr>\n",
       "    <tr>\n",
       "      <th>4</th>\n",
       "      <td>ISIC_0074268</td>\n",
       "      <td>IP_8723313</td>\n",
       "      <td>female</td>\n",
       "      <td>55.0</td>\n",
       "      <td>upper extremity</td>\n",
       "      <td>unknown</td>\n",
       "      <td>benign</td>\n",
       "      <td>0</td>\n",
       "    </tr>\n",
       "  </tbody>\n",
       "</table>\n",
       "</div>"
      ],
      "text/plain": [
       "     image_name  patient_id     sex  age_approx anatom_site_general_challenge  \\\n",
       "0  ISIC_2637011  IP_7279968    male        45.0                     head/neck   \n",
       "1  ISIC_0015719  IP_3075186  female        45.0               upper extremity   \n",
       "2  ISIC_0052212  IP_2842074  female        50.0               lower extremity   \n",
       "3  ISIC_0068279  IP_6890425  female        45.0                     head/neck   \n",
       "4  ISIC_0074268  IP_8723313  female        55.0               upper extremity   \n",
       "\n",
       "  diagnosis benign_malignant  target  \n",
       "0   unknown           benign       0  \n",
       "1   unknown           benign       0  \n",
       "2     nevus           benign       0  \n",
       "3   unknown           benign       0  \n",
       "4   unknown           benign       0  "
      ]
     },
     "execution_count": 4,
     "metadata": {},
     "output_type": "execute_result"
    }
   ],
   "source": [
    "train.head()"
   ]
  },
  {
   "cell_type": "code",
   "execution_count": 5,
   "metadata": {
    "ExecuteTime": {
     "end_time": "2020-07-02T18:02:45.034657Z",
     "start_time": "2020-07-02T18:02:45.019656Z"
    }
   },
   "outputs": [],
   "source": [
    "BATCH_SIZE = 64\n",
    "AUTO = tf.data.experimental.AUTOTUNE\n",
    "\n",
    "def decode(filename, label):\n",
    "    img = tf.io.read_file(filename)\n",
    "    img = tf.image.decode_jpeg(img, channels=3)\n",
    "    img = tf.cast(img, tf.float32)\n",
    "    return img, label\n",
    "\n",
    "def load_ds(df):\n",
    "    options = tf.data.Options()\n",
    "    options.experimental_deterministic = False\n",
    "    imgs, labels = df[\"image_name\"].values, df[\"target\"].values\n",
    "    imgs = [f'{PATH}/jpeg224/train/{img}.jpg' for img in imgs]\n",
    "    ds = tf.data.Dataset.from_tensor_slices((imgs, labels))\n",
    "    ds = ds.with_options(options)\n",
    "    ds = ds.map(decode, num_parallel_calls=AUTO)\n",
    "    ds = ds.cache()\n",
    "    ds = ds.shuffle(2048)\n",
    "    ds = ds.batch(BATCH_SIZE)\n",
    "    ds = ds.prefetch(buffer_size=AUTO)\n",
    "    return ds"
   ]
  },
  {
   "cell_type": "code",
   "execution_count": 6,
   "metadata": {
    "ExecuteTime": {
     "end_time": "2020-07-02T18:08:48.026632Z",
     "start_time": "2020-07-02T18:02:45.035656Z"
    },
    "code_folding": []
   },
   "outputs": [
    {
     "name": "stdout",
     "output_type": "stream",
     "text": [
      "Fold:  1\n",
      "Epoch 1/10\n",
      "35/35 [==============================] - ETA: 0s - loss: 0.2039 - auc: 0.4207\n",
      "Epoch 00001: val_auc improved from -inf to 0.42846, saving model to ./checkpoints\\checkpoint\n",
      "35/35 [==============================] - 10s 275ms/step - loss: 0.2039 - auc: 0.4207 - val_loss: 0.1047 - val_auc: 0.4285\n",
      "Epoch 2/10\n",
      "35/35 [==============================] - ETA: 0s - loss: 0.1172 - auc: 0.3541\n",
      "Epoch 00002: val_auc did not improve from 0.42846\n",
      "35/35 [==============================] - 8s 226ms/step - loss: 0.1172 - auc: 0.3541 - val_loss: 0.1260 - val_auc: 0.3438\n",
      "Epoch 3/10\n",
      "35/35 [==============================] - ETA: 0s - loss: 0.1001 - auc: 0.4144\n",
      "Epoch 00003: val_auc did not improve from 0.42846\n",
      "35/35 [==============================] - 8s 227ms/step - loss: 0.1001 - auc: 0.4144 - val_loss: 0.0912 - val_auc: 0.3666\n",
      "Epoch 4/10\n",
      "35/35 [==============================] - ETA: 0s - loss: 0.0904 - auc: 0.5409\n",
      "Epoch 00004: val_auc improved from 0.42846 to 0.52633, saving model to ./checkpoints\\checkpoint\n",
      "35/35 [==============================] - 8s 237ms/step - loss: 0.0904 - auc: 0.5409 - val_loss: 0.0791 - val_auc: 0.5263\n",
      "Epoch 5/10\n",
      "35/35 [==============================] - ETA: 0s - loss: 0.0836 - auc: 0.6746\n",
      "Epoch 00005: val_auc improved from 0.52633 to 0.64246, saving model to ./checkpoints\\checkpoint\n",
      "35/35 [==============================] - 8s 235ms/step - loss: 0.0836 - auc: 0.6746 - val_loss: 0.0796 - val_auc: 0.6425\n",
      "Epoch 6/10\n",
      "35/35 [==============================] - ETA: 0s - loss: 0.0793 - auc: 0.7245\n",
      "Epoch 00006: val_auc did not improve from 0.64246\n",
      "35/35 [==============================] - 8s 227ms/step - loss: 0.0793 - auc: 0.7245 - val_loss: 0.0932 - val_auc: 0.5762\n",
      "Epoch 7/10\n",
      "35/35 [==============================] - ETA: 0s - loss: 0.0744 - auc: 0.7995\n",
      "Epoch 00007: val_auc improved from 0.64246 to 0.73899, saving model to ./checkpoints\\checkpoint\n",
      "35/35 [==============================] - 8s 235ms/step - loss: 0.0744 - auc: 0.7995 - val_loss: 0.0902 - val_auc: 0.7390\n",
      "Epoch 8/10\n",
      "35/35 [==============================] - ETA: 0s - loss: 0.0708 - auc: 0.8382\n",
      "Epoch 00008: val_auc improved from 0.73899 to 0.77990, saving model to ./checkpoints\\checkpoint\n",
      "35/35 [==============================] - 8s 235ms/step - loss: 0.0708 - auc: 0.8382 - val_loss: 0.0901 - val_auc: 0.7799\n",
      "Epoch 9/10\n",
      "35/35 [==============================] - ETA: 0s - loss: 0.0678 - auc: 0.8628\n",
      "Epoch 00009: val_auc did not improve from 0.77990\n",
      "35/35 [==============================] - 8s 227ms/step - loss: 0.0678 - auc: 0.8628 - val_loss: 0.1037 - val_auc: 0.7293\n",
      "Epoch 10/10\n",
      "35/35 [==============================] - ETA: 0s - loss: 0.0657 - auc: 0.8867\n",
      "Epoch 00010: val_auc did not improve from 0.77990\n",
      "35/35 [==============================] - 8s 228ms/step - loss: 0.0657 - auc: 0.8867 - val_loss: 0.0614 - val_auc: 0.7571\n",
      "173/173 [==============================] - 29s 168ms/step - loss: 0.0803 - auc: 0.7450\n",
      "Fold:  2\n",
      "Epoch 1/10\n",
      "35/35 [==============================] - ETA: 0s - loss: 0.1620 - auc: 0.4546\n",
      "Epoch 00001: val_auc improved from -inf to 0.38723, saving model to ./checkpoints\\checkpoint\n",
      "35/35 [==============================] - 9s 258ms/step - loss: 0.1620 - auc: 0.4546 - val_loss: 0.0359 - val_auc: 0.3872\n",
      "Epoch 2/10\n",
      "35/35 [==============================] - ETA: 0s - loss: 0.0998 - auc: 0.4976\n",
      "Epoch 00002: val_auc did not improve from 0.38723\n",
      "35/35 [==============================] - 8s 225ms/step - loss: 0.0998 - auc: 0.4976 - val_loss: 0.0645 - val_auc: 0.3683\n",
      "Epoch 3/10\n",
      "35/35 [==============================] - ETA: 0s - loss: 0.0884 - auc: 0.6478\n",
      "Epoch 00003: val_auc improved from 0.38723 to 0.63651, saving model to ./checkpoints\\checkpoint\n",
      "35/35 [==============================] - 8s 234ms/step - loss: 0.0884 - auc: 0.6478 - val_loss: 0.0817 - val_auc: 0.6365\n",
      "Epoch 4/10\n",
      "35/35 [==============================] - ETA: 0s - loss: 0.0822 - auc: 0.7452\n",
      "Epoch 00004: val_auc improved from 0.63651 to 0.65134, saving model to ./checkpoints\\checkpoint\n",
      "35/35 [==============================] - 8s 236ms/step - loss: 0.0822 - auc: 0.7452 - val_loss: 0.0512 - val_auc: 0.6513\n",
      "Epoch 5/10\n",
      "35/35 [==============================] - ETA: 0s - loss: 0.0779 - auc: 0.7900\n",
      "Epoch 00005: val_auc improved from 0.65134 to 0.71429, saving model to ./checkpoints\\checkpoint\n",
      "35/35 [==============================] - 8s 235ms/step - loss: 0.0779 - auc: 0.7900 - val_loss: 0.0791 - val_auc: 0.7143\n",
      "Epoch 6/10\n",
      "35/35 [==============================] - ETA: 0s - loss: 0.0742 - auc: 0.8269\n",
      "Epoch 00006: val_auc improved from 0.71429 to 0.80050, saving model to ./checkpoints\\checkpoint\n",
      "35/35 [==============================] - 8s 235ms/step - loss: 0.0742 - auc: 0.8269 - val_loss: 0.0568 - val_auc: 0.8005\n",
      "Epoch 7/10\n",
      "35/35 [==============================] - ETA: 0s - loss: 0.0697 - auc: 0.8588\n",
      "Epoch 00007: val_auc did not improve from 0.80050\n",
      "35/35 [==============================] - 8s 227ms/step - loss: 0.0697 - auc: 0.8588 - val_loss: 0.0673 - val_auc: 0.6993\n",
      "Epoch 8/10\n",
      "35/35 [==============================] - ETA: 0s - loss: 0.0670 - auc: 0.8637\n",
      "Epoch 00008: val_auc did not improve from 0.80050\n",
      "35/35 [==============================] - 8s 227ms/step - loss: 0.0670 - auc: 0.8637 - val_loss: 0.0699 - val_auc: 0.6964\n",
      "Epoch 9/10\n",
      "35/35 [==============================] - ETA: 0s - loss: 0.0636 - auc: 0.8825\n",
      "Epoch 00009: val_auc did not improve from 0.80050\n",
      "35/35 [==============================] - 8s 226ms/step - loss: 0.0636 - auc: 0.8825 - val_loss: 0.1011 - val_auc: 0.6841\n",
      "Epoch 10/10\n",
      "35/35 [==============================] - ETA: 0s - loss: 0.0618 - auc: 0.8979\n",
      "Epoch 00010: val_auc improved from 0.80050 to 0.80454, saving model to ./checkpoints\\checkpoint\n",
      "35/35 [==============================] - 8s 234ms/step - loss: 0.0618 - auc: 0.8979 - val_loss: 0.0673 - val_auc: 0.8045\n",
      "173/173 [==============================] - 28s 164ms/step - loss: 0.0819 - auc: 0.7576\n",
      "Fold:  3\n",
      "Epoch 1/10\n",
      "35/35 [==============================] - ETA: 0s - loss: 0.1552 - auc: 0.4288\n",
      "Epoch 00001: val_auc improved from -inf to 0.44745, saving model to ./checkpoints\\checkpoint\n",
      "35/35 [==============================] - 9s 262ms/step - loss: 0.1552 - auc: 0.4288 - val_loss: 0.1190 - val_auc: 0.4475\n",
      "Epoch 2/10\n",
      "35/35 [==============================] - ETA: 0s - loss: 0.1013 - auc: 0.5208\n",
      "Epoch 00002: val_auc improved from 0.44745 to 0.49074, saving model to ./checkpoints\\checkpoint\n",
      "35/35 [==============================] - 8s 238ms/step - loss: 0.1013 - auc: 0.5208 - val_loss: 0.1114 - val_auc: 0.4907\n",
      "Epoch 3/10\n",
      "35/35 [==============================] - ETA: 0s - loss: 0.0876 - auc: 0.6254\n",
      "Epoch 00003: val_auc improved from 0.49074 to 0.64605, saving model to ./checkpoints\\checkpoint\n",
      "35/35 [==============================] - 8s 240ms/step - loss: 0.0876 - auc: 0.6254 - val_loss: 0.0857 - val_auc: 0.6460\n",
      "Epoch 4/10\n",
      "35/35 [==============================] - ETA: 0s - loss: 0.0800 - auc: 0.7265\n",
      "Epoch 00004: val_auc did not improve from 0.64605\n",
      "35/35 [==============================] - 8s 229ms/step - loss: 0.0800 - auc: 0.7265 - val_loss: 0.1241 - val_auc: 0.5435\n",
      "Epoch 5/10\n",
      "35/35 [==============================] - ETA: 0s - loss: 0.0742 - auc: 0.7883\n",
      "Epoch 00005: val_auc did not improve from 0.64605\n",
      "35/35 [==============================] - 8s 231ms/step - loss: 0.0742 - auc: 0.7883 - val_loss: 0.1094 - val_auc: 0.6046\n",
      "Epoch 6/10\n",
      "35/35 [==============================] - ETA: 0s - loss: 0.0705 - auc: 0.8212\n",
      "Epoch 00006: val_auc improved from 0.64605 to 0.73696, saving model to ./checkpoints\\checkpoint\n",
      "35/35 [==============================] - 8s 239ms/step - loss: 0.0705 - auc: 0.8212 - val_loss: 0.0834 - val_auc: 0.7370\n",
      "Epoch 7/10\n",
      "35/35 [==============================] - ETA: 0s - loss: 0.0673 - auc: 0.8466\n",
      "Epoch 00007: val_auc did not improve from 0.73696\n",
      "35/35 [==============================] - 8s 229ms/step - loss: 0.0673 - auc: 0.8466 - val_loss: 0.0854 - val_auc: 0.6463\n",
      "Epoch 8/10\n",
      "35/35 [==============================] - ETA: 0s - loss: 0.0645 - auc: 0.8784\n",
      "Epoch 00008: val_auc did not improve from 0.73696\n",
      "35/35 [==============================] - 8s 228ms/step - loss: 0.0645 - auc: 0.8784 - val_loss: 0.0968 - val_auc: 0.7197\n",
      "Epoch 9/10\n",
      "35/35 [==============================] - ETA: 0s - loss: 0.0618 - auc: 0.8967\n",
      "Epoch 00009: val_auc did not improve from 0.73696\n",
      "35/35 [==============================] - 8s 229ms/step - loss: 0.0618 - auc: 0.8967 - val_loss: 0.0960 - val_auc: 0.6238\n",
      "Epoch 10/10\n",
      "35/35 [==============================] - ETA: 0s - loss: 0.0591 - auc: 0.9142\n",
      "Epoch 00010: val_auc did not improve from 0.73696\n",
      "35/35 [==============================] - 8s 229ms/step - loss: 0.0591 - auc: 0.9142 - val_loss: 0.0986 - val_auc: 0.6686\n",
      "173/173 [==============================] - 28s 165ms/step - loss: 0.0846 - auc: 0.7206\n"
     ]
    }
   ],
   "source": [
    "FOLDS = 3\n",
    "aucs = []\n",
    "skf = StratifiedKFold(n_splits=FOLDS, random_state=42, shuffle=True)\n",
    "for f, (train_index,val_index) in enumerate(skf.split(X=np.zeros(len(train)), y=train['target'])):\n",
    "    print(\"Fold: \", f+1)\n",
    "    \n",
    "    train_fold = train.iloc[train_index]\n",
    "    _, subset = train_test_split(train_fold, random_state=42, test_size=0.1, shuffle=True, stratify=train_fold['target'])\n",
    "    val_fold = train.iloc[val_index]\n",
    "    \n",
    "    # DESCOMENTAR PARA UTILIZAR TODO EL DATASET !!!\n",
    "    #train_ds = load_ds(train_fold)\n",
    "    train_ds = load_ds(subset)\n",
    "    val_ds = load_ds(val_fold)\n",
    "    \n",
    "    # PROBAD A ENTRENAR TAMBIÉN RESNET A VER SI DA MEJOR !!!\n",
    "    IMAGE_SIZE = (224, 224, 3)\n",
    "    encoder = ResNet50V2(\n",
    "        include_top=False,\n",
    "        input_shape=IMAGE_SIZE,\n",
    "        weights='imagenet'\n",
    "    )\n",
    "    encoder.trainable = False\n",
    "    inputs = keras.Input(shape=IMAGE_SIZE)\n",
    "    x = keras.layers.experimental.preprocessing.Rescaling(1./255)(inputs)\n",
    "    x = encoder(x, training=False)\n",
    "    x = keras.layers.GlobalAveragePooling2D()(x)\n",
    "    outputs = keras.layers.Dense(1, activation=\"sigmoid\")(x)\n",
    "    model = keras.Model(inputs, outputs)\n",
    "    #model.summary()\n",
    "    \n",
    "    model.compile(\n",
    "        optimizer=tf.keras.optimizers.Adam(),\n",
    "        loss=tf.keras.losses.BinaryCrossentropy(),\n",
    "        metrics=[keras.metrics.AUC(name=\"auc\")]\n",
    "    )\n",
    "    \n",
    "    filepath = './checkpoints/checkpoint'\n",
    "    cb = tf.keras.callbacks.ModelCheckpoint(\n",
    "        filepath = filepath,\n",
    "        monitor=\"val_auc\",\n",
    "        verbose=1,\n",
    "        save_best_only=True,\n",
    "        save_weights_only=True,\n",
    "        mode=\"max\"\n",
    "    )\n",
    "    \n",
    "    model.fit(\n",
    "        train_ds, \n",
    "        epochs=10, \n",
    "        validation_data=val_ds, \n",
    "        validation_steps=10, # COMENTAR PARA HACER BIEN LA VALIDACIÓN !!!\n",
    "        callbacks=[cb]\n",
    "    )\n",
    "    \n",
    "    model.load_weights(filepath)\n",
    "    model.save(f\"model_fold{f+1}.h5\")\n",
    "    \n",
    "    _, auc = model.evaluate(val_ds)\n",
    "    aucs.append(auc)"
   ]
  },
  {
   "cell_type": "code",
   "execution_count": 7,
   "metadata": {
    "ExecuteTime": {
     "end_time": "2020-07-02T18:08:48.042629Z",
     "start_time": "2020-07-02T18:08:48.029631Z"
    }
   },
   "outputs": [
    {
     "data": {
      "text/plain": [
       "[0.7450290322303772, 0.7576072812080383, 0.7205542325973511]"
      ]
     },
     "execution_count": 7,
     "metadata": {},
     "output_type": "execute_result"
    }
   ],
   "source": [
    "aucs"
   ]
  },
  {
   "cell_type": "code",
   "execution_count": 8,
   "metadata": {
    "ExecuteTime": {
     "end_time": "2020-07-02T18:08:48.058628Z",
     "start_time": "2020-07-02T18:08:48.044629Z"
    }
   },
   "outputs": [
    {
     "data": {
      "text/plain": [
       "(0.7410635153452555, 0.01538453977127963)"
      ]
     },
     "execution_count": 8,
     "metadata": {},
     "output_type": "execute_result"
    }
   ],
   "source": [
    "np.mean(aucs), np.std(aucs)"
   ]
  },
  {
   "cell_type": "code",
   "execution_count": 9,
   "metadata": {
    "ExecuteTime": {
     "end_time": "2020-07-02T18:08:48.090631Z",
     "start_time": "2020-07-02T18:08:48.060628Z"
    }
   },
   "outputs": [
    {
     "data": {
      "text/html": [
       "<div>\n",
       "<style scoped>\n",
       "    .dataframe tbody tr th:only-of-type {\n",
       "        vertical-align: middle;\n",
       "    }\n",
       "\n",
       "    .dataframe tbody tr th {\n",
       "        vertical-align: top;\n",
       "    }\n",
       "\n",
       "    .dataframe thead th {\n",
       "        text-align: right;\n",
       "    }\n",
       "</style>\n",
       "<table border=\"1\" class=\"dataframe\">\n",
       "  <thead>\n",
       "    <tr style=\"text-align: right;\">\n",
       "      <th></th>\n",
       "      <th>image_name</th>\n",
       "      <th>patient_id</th>\n",
       "      <th>sex</th>\n",
       "      <th>age_approx</th>\n",
       "      <th>anatom_site_general_challenge</th>\n",
       "    </tr>\n",
       "  </thead>\n",
       "  <tbody>\n",
       "    <tr>\n",
       "      <th>0</th>\n",
       "      <td>ISIC_0052060</td>\n",
       "      <td>IP_3579794</td>\n",
       "      <td>male</td>\n",
       "      <td>70.0</td>\n",
       "      <td>NaN</td>\n",
       "    </tr>\n",
       "    <tr>\n",
       "      <th>1</th>\n",
       "      <td>ISIC_0052349</td>\n",
       "      <td>IP_7782715</td>\n",
       "      <td>male</td>\n",
       "      <td>40.0</td>\n",
       "      <td>lower extremity</td>\n",
       "    </tr>\n",
       "    <tr>\n",
       "      <th>2</th>\n",
       "      <td>ISIC_0058510</td>\n",
       "      <td>IP_7960270</td>\n",
       "      <td>female</td>\n",
       "      <td>55.0</td>\n",
       "      <td>torso</td>\n",
       "    </tr>\n",
       "    <tr>\n",
       "      <th>3</th>\n",
       "      <td>ISIC_0073313</td>\n",
       "      <td>IP_6375035</td>\n",
       "      <td>female</td>\n",
       "      <td>50.0</td>\n",
       "      <td>torso</td>\n",
       "    </tr>\n",
       "    <tr>\n",
       "      <th>4</th>\n",
       "      <td>ISIC_0073502</td>\n",
       "      <td>IP_0589375</td>\n",
       "      <td>female</td>\n",
       "      <td>45.0</td>\n",
       "      <td>lower extremity</td>\n",
       "    </tr>\n",
       "  </tbody>\n",
       "</table>\n",
       "</div>"
      ],
      "text/plain": [
       "     image_name  patient_id     sex  age_approx anatom_site_general_challenge\n",
       "0  ISIC_0052060  IP_3579794    male        70.0                           NaN\n",
       "1  ISIC_0052349  IP_7782715    male        40.0               lower extremity\n",
       "2  ISIC_0058510  IP_7960270  female        55.0                         torso\n",
       "3  ISIC_0073313  IP_6375035  female        50.0                         torso\n",
       "4  ISIC_0073502  IP_0589375  female        45.0               lower extremity"
      ]
     },
     "execution_count": 9,
     "metadata": {},
     "output_type": "execute_result"
    }
   ],
   "source": [
    "test = pd.read_csv(f'{PATH}/test.csv')\n",
    "\n",
    "test.head()"
   ]
  },
  {
   "cell_type": "code",
   "execution_count": 10,
   "metadata": {
    "ExecuteTime": {
     "end_time": "2020-07-02T18:08:48.106631Z",
     "start_time": "2020-07-02T18:08:48.092631Z"
    }
   },
   "outputs": [],
   "source": [
    "def decode_test(filename):\n",
    "    img = tf.io.read_file(filename)\n",
    "    img = tf.image.decode_jpeg(img, channels=3)\n",
    "    img = tf.cast(img, tf.float32)\n",
    "    return img\n",
    "\n",
    "def load_test_ds(df):\n",
    "    imgs = df[\"image_name\"].values\n",
    "    imgs = [f'{PATH}/jpeg224/test/{img}.jpg' for img in imgs]\n",
    "    ds = tf.data.Dataset.from_tensor_slices(imgs)\n",
    "    ds = ds.map(decode_test, num_parallel_calls=AUTO)\n",
    "    ds = ds.batch(BATCH_SIZE)\n",
    "    return ds"
   ]
  },
  {
   "cell_type": "code",
   "execution_count": 11,
   "metadata": {
    "ExecuteTime": {
     "end_time": "2020-07-02T18:08:48.186631Z",
     "start_time": "2020-07-02T18:08:48.108632Z"
    }
   },
   "outputs": [],
   "source": [
    "test_ds = load_test_ds(test)"
   ]
  },
  {
   "cell_type": "code",
   "execution_count": 12,
   "metadata": {
    "ExecuteTime": {
     "end_time": "2020-07-02T18:10:11.730104Z",
     "start_time": "2020-07-02T18:08:48.188631Z"
    }
   },
   "outputs": [
    {
     "name": "stdout",
     "output_type": "stream",
     "text": [
      "Folds 1\n",
      "Folds 2\n",
      "Folds 3\n"
     ]
    }
   ],
   "source": [
    "preds = []\n",
    "for f in range(1, FOLDS+1):\n",
    "    print(f\"Folds {f}\")\n",
    "    model_fold = load_model(f\"model_fold{f}.h5\")\n",
    "    probas = model_fold.predict(test_ds)\n",
    "    preds.append(probas)"
   ]
  },
  {
   "cell_type": "code",
   "execution_count": 13,
   "metadata": {
    "ExecuteTime": {
     "end_time": "2020-07-02T18:10:11.745635Z",
     "start_time": "2020-07-02T18:10:11.732104Z"
    }
   },
   "outputs": [
    {
     "data": {
      "text/plain": [
       "[array([[0.05757857],\n",
       "        [0.01011392],\n",
       "        [0.01120207],\n",
       "        ...,\n",
       "        [0.02039555],\n",
       "        [0.00633859],\n",
       "        [0.03073774]], dtype=float32),\n",
       " array([[0.00089891],\n",
       "        [0.00300865],\n",
       "        [0.01120145],\n",
       "        ...,\n",
       "        [0.07141326],\n",
       "        [0.00105115],\n",
       "        [0.00647851]], dtype=float32),\n",
       " array([[0.00727905],\n",
       "        [0.01598136],\n",
       "        [0.01208515],\n",
       "        ...,\n",
       "        [0.07996412],\n",
       "        [0.00636409],\n",
       "        [0.09287672]], dtype=float32)]"
      ]
     },
     "execution_count": 13,
     "metadata": {},
     "output_type": "execute_result"
    }
   ],
   "source": [
    "preds"
   ]
  },
  {
   "cell_type": "code",
   "execution_count": 14,
   "metadata": {
    "ExecuteTime": {
     "end_time": "2020-07-02T18:10:11.761631Z",
     "start_time": "2020-07-02T18:10:11.747632Z"
    }
   },
   "outputs": [
    {
     "data": {
      "text/plain": [
       "array([[0.02191885],\n",
       "       [0.00970131],\n",
       "       [0.01149622],\n",
       "       ...,\n",
       "       [0.05725764],\n",
       "       [0.00458461],\n",
       "       [0.04336432]], dtype=float32)"
      ]
     },
     "execution_count": 14,
     "metadata": {},
     "output_type": "execute_result"
    }
   ],
   "source": [
    "preds_mean = \n",
    "preds_mean"
   ]
  },
  {
   "cell_type": "code",
   "execution_count": 15,
   "metadata": {
    "ExecuteTime": {
     "end_time": "2020-07-02T18:10:11.777631Z",
     "start_time": "2020-07-02T18:10:11.763631Z"
    }
   },
   "outputs": [
    {
     "data": {
      "text/html": [
       "<div>\n",
       "<style scoped>\n",
       "    .dataframe tbody tr th:only-of-type {\n",
       "        vertical-align: middle;\n",
       "    }\n",
       "\n",
       "    .dataframe tbody tr th {\n",
       "        vertical-align: top;\n",
       "    }\n",
       "\n",
       "    .dataframe thead th {\n",
       "        text-align: right;\n",
       "    }\n",
       "</style>\n",
       "<table border=\"1\" class=\"dataframe\">\n",
       "  <thead>\n",
       "    <tr style=\"text-align: right;\">\n",
       "      <th></th>\n",
       "      <th>image_name</th>\n",
       "      <th>target</th>\n",
       "    </tr>\n",
       "  </thead>\n",
       "  <tbody>\n",
       "    <tr>\n",
       "      <th>0</th>\n",
       "      <td>ISIC_0052060</td>\n",
       "      <td>0.021919</td>\n",
       "    </tr>\n",
       "    <tr>\n",
       "      <th>1</th>\n",
       "      <td>ISIC_0052349</td>\n",
       "      <td>0.009701</td>\n",
       "    </tr>\n",
       "    <tr>\n",
       "      <th>2</th>\n",
       "      <td>ISIC_0058510</td>\n",
       "      <td>0.011496</td>\n",
       "    </tr>\n",
       "    <tr>\n",
       "      <th>3</th>\n",
       "      <td>ISIC_0073313</td>\n",
       "      <td>0.003990</td>\n",
       "    </tr>\n",
       "    <tr>\n",
       "      <th>4</th>\n",
       "      <td>ISIC_0073502</td>\n",
       "      <td>0.003079</td>\n",
       "    </tr>\n",
       "    <tr>\n",
       "      <th>...</th>\n",
       "      <td>...</td>\n",
       "      <td>...</td>\n",
       "    </tr>\n",
       "    <tr>\n",
       "      <th>10977</th>\n",
       "      <td>ISIC_9992485</td>\n",
       "      <td>0.009039</td>\n",
       "    </tr>\n",
       "    <tr>\n",
       "      <th>10978</th>\n",
       "      <td>ISIC_9996992</td>\n",
       "      <td>0.058055</td>\n",
       "    </tr>\n",
       "    <tr>\n",
       "      <th>10979</th>\n",
       "      <td>ISIC_9997917</td>\n",
       "      <td>0.057258</td>\n",
       "    </tr>\n",
       "    <tr>\n",
       "      <th>10980</th>\n",
       "      <td>ISIC_9998234</td>\n",
       "      <td>0.004585</td>\n",
       "    </tr>\n",
       "    <tr>\n",
       "      <th>10981</th>\n",
       "      <td>ISIC_9999302</td>\n",
       "      <td>0.043364</td>\n",
       "    </tr>\n",
       "  </tbody>\n",
       "</table>\n",
       "<p>10982 rows × 2 columns</p>\n",
       "</div>"
      ],
      "text/plain": [
       "         image_name    target\n",
       "0      ISIC_0052060  0.021919\n",
       "1      ISIC_0052349  0.009701\n",
       "2      ISIC_0058510  0.011496\n",
       "3      ISIC_0073313  0.003990\n",
       "4      ISIC_0073502  0.003079\n",
       "...             ...       ...\n",
       "10977  ISIC_9992485  0.009039\n",
       "10978  ISIC_9996992  0.058055\n",
       "10979  ISIC_9997917  0.057258\n",
       "10980  ISIC_9998234  0.004585\n",
       "10981  ISIC_9999302  0.043364\n",
       "\n",
       "[10982 rows x 2 columns]"
      ]
     },
     "execution_count": 15,
     "metadata": {},
     "output_type": "execute_result"
    }
   ],
   "source": [
    "submission = pd.DataFrame({'image_name': test['image_name'].values, 'target': preds_mean.ravel()})\n",
    "\n",
    "submission"
   ]
  },
  {
   "cell_type": "code",
   "execution_count": 16,
   "metadata": {
    "ExecuteTime": {
     "end_time": "2020-07-02T18:10:11.809630Z",
     "start_time": "2020-07-02T18:10:11.779631Z"
    }
   },
   "outputs": [],
   "source": [
    "submission.to_csv('submission.csv', index=False)"
   ]
  }
 ],
 "metadata": {
  "kernelspec": {
   "display_name": "Python 3",
   "language": "python",
   "name": "python3"
  },
  "language_info": {
   "codemirror_mode": {
    "name": "ipython",
    "version": 3
   },
   "file_extension": ".py",
   "mimetype": "text/x-python",
   "name": "python",
   "nbconvert_exporter": "python",
   "pygments_lexer": "ipython3",
   "version": "3.7.6"
  },
  "toc": {
   "base_numbering": 1,
   "nav_menu": {},
   "number_sections": true,
   "sideBar": true,
   "skip_h1_title": false,
   "title_cell": "Table of Contents",
   "title_sidebar": "Contents",
   "toc_cell": false,
   "toc_position": {},
   "toc_section_display": true,
   "toc_window_display": false
  }
 },
 "nbformat": 4,
 "nbformat_minor": 4
}
