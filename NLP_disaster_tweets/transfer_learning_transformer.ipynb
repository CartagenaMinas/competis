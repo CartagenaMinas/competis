{
 "cells": [
  {
   "cell_type": "code",
   "execution_count": 1,
   "metadata": {
    "ExecuteTime": {
     "end_time": "2020-09-05T10:48:03.283297Z",
     "start_time": "2020-09-05T10:48:02.176302Z"
    }
   },
   "outputs": [],
   "source": [
    "import torch\n",
    "import numpy as np\n",
    "import pandas as pd\n",
    "import matplotlib.pyplot as plt\n",
    "import torchtext\n",
    "import os\n",
    "from pathlib import Path"
   ]
  },
  {
   "cell_type": "code",
   "execution_count": 2,
   "metadata": {
    "ExecuteTime": {
     "end_time": "2020-09-05T10:48:03.298298Z",
     "start_time": "2020-09-05T10:48:03.284297Z"
    }
   },
   "outputs": [
    {
     "data": {
      "text/plain": [
       "['sample_submission.csv',\n",
       " 'submission.csv',\n",
       " 'test.csv',\n",
       " 'test_clean.csv',\n",
       " 'train.csv',\n",
       " 'train_clean.csv']"
      ]
     },
     "execution_count": 2,
     "metadata": {},
     "output_type": "execute_result"
    }
   ],
   "source": [
    "PATH = Path('./data')\n",
    "os.listdir(PATH)"
   ]
  },
  {
   "cell_type": "code",
   "execution_count": 3,
   "metadata": {
    "ExecuteTime": {
     "end_time": "2020-09-05T10:50:40.536439Z",
     "start_time": "2020-09-05T10:50:40.522440Z"
    }
   },
   "outputs": [],
   "source": [
    "#!pip install transformers"
   ]
  },
  {
   "cell_type": "code",
   "execution_count": 5,
   "metadata": {
    "ExecuteTime": {
     "end_time": "2020-09-05T10:53:01.699164Z",
     "start_time": "2020-09-05T10:52:59.936685Z"
    }
   },
   "outputs": [],
   "source": [
    "from transformers import BertTokenizer\n",
    "\n",
    "tokenizer = BertTokenizer.from_pretrained('bert-base-uncased')"
   ]
  },
  {
   "cell_type": "code",
   "execution_count": 6,
   "metadata": {
    "ExecuteTime": {
     "end_time": "2020-09-05T10:53:32.333175Z",
     "start_time": "2020-09-05T10:53:32.318174Z"
    }
   },
   "outputs": [
    {
     "data": {
      "text/plain": [
       "['#', 'hello', 'world', 'how', 'are', 'you', '?']"
      ]
     },
     "execution_count": 6,
     "metadata": {},
     "output_type": "execute_result"
    }
   ],
   "source": [
    "tokens = tokenizer.tokenize('#Hello WORLD how ARE yoU?')\n",
    "\n",
    "tokens"
   ]
  },
  {
   "cell_type": "code",
   "execution_count": 7,
   "metadata": {
    "ExecuteTime": {
     "end_time": "2020-09-05T10:54:39.685875Z",
     "start_time": "2020-09-05T10:54:39.669874Z"
    }
   },
   "outputs": [
    {
     "data": {
      "text/plain": [
       "[1001, 7592, 2088, 2129, 2024, 2017, 1029]"
      ]
     },
     "execution_count": 7,
     "metadata": {},
     "output_type": "execute_result"
    }
   ],
   "source": [
    "tokenizer.convert_tokens_to_ids(tokens)"
   ]
  },
  {
   "cell_type": "code",
   "execution_count": 8,
   "metadata": {
    "ExecuteTime": {
     "end_time": "2020-09-05T10:57:04.791990Z",
     "start_time": "2020-09-05T10:57:04.779983Z"
    }
   },
   "outputs": [],
   "source": [
    "max_input_length = tokenizer.max_model_input_sizes['bert-base-uncased']\n",
    "\n",
    "def tokenize_and_cut(sentence):\n",
    "    tokens = tokenizer.tokenize(sentence) \n",
    "    tokens = tokens[:max_input_length-2]\n",
    "    return tokens"
   ]
  },
  {
   "cell_type": "code",
   "execution_count": 9,
   "metadata": {
    "ExecuteTime": {
     "end_time": "2020-09-05T10:58:55.228389Z",
     "start_time": "2020-09-05T10:58:52.414983Z"
    }
   },
   "outputs": [
    {
     "name": "stderr",
     "output_type": "stream",
     "text": [
      "C:\\Users\\sensio\\miniconda3\\lib\\site-packages\\torchtext\\data\\field.py:36: UserWarning: RawField class will be retired in the 0.8.0 release and moved to torchtext.legacy. Please see 0.7.0 release notes for further information.\n",
      "  warnings.warn('{} class will be retired in the 0.8.0 release and moved to torchtext.legacy. Please see 0.7.0 release notes for further information.'.format(self.__class__.__name__), UserWarning)\n",
      "C:\\Users\\sensio\\miniconda3\\lib\\site-packages\\torchtext\\data\\field.py:150: UserWarning: Field class will be retired in the 0.8.0 release and moved to torchtext.legacy. Please see 0.7.0 release notes for further information.\n",
      "  warnings.warn('{} class will be retired in the 0.8.0 release and moved to torchtext.legacy. Please see 0.7.0 release notes for further information.'.format(self.__class__.__name__), UserWarning)\n",
      "C:\\Users\\sensio\\miniconda3\\lib\\site-packages\\torchtext\\data\\field.py:150: UserWarning: LabelField class will be retired in the 0.8.0 release and moved to torchtext.legacy. Please see 0.7.0 release notes for further information.\n",
      "  warnings.warn('{} class will be retired in the 0.8.0 release and moved to torchtext.legacy. Please see 0.7.0 release notes for further information.'.format(self.__class__.__name__), UserWarning)\n",
      "C:\\Users\\sensio\\miniconda3\\lib\\site-packages\\torchtext\\data\\example.py:68: UserWarning: Example class will be retired in the 0.8.0 release and moved to torchtext.legacy. Please see 0.7.0 release notes for further information.\n",
      "  warnings.warn('Example class will be retired in the 0.8.0 release and moved to torchtext.legacy. Please see 0.7.0 release notes for further information.', UserWarning)\n",
      "C:\\Users\\sensio\\miniconda3\\lib\\site-packages\\torchtext\\data\\example.py:78: UserWarning: Example class will be retired in the 0.8.0 release and moved to torchtext.legacy. Please see 0.7.0 release notes for further information.\n",
      "  warnings.warn('Example class will be retired in the 0.8.0 release and moved to torchtext.legacy. Please see 0.7.0 release notes for further information.', UserWarning)\n"
     ]
    },
    {
     "data": {
      "text/plain": [
       "7613"
      ]
     },
     "execution_count": 9,
     "metadata": {},
     "output_type": "execute_result"
    }
   ],
   "source": [
    "ID = torchtext.data.RawField()\n",
    "KEYWORD = torchtext.data.RawField()\n",
    "LOCATION = torchtext.data.RawField()\n",
    "\n",
    "TEXT = torchtext.data.Field(batch_first = True,\n",
    "                  use_vocab = False,\n",
    "                  tokenize = tokenize_and_cut,\n",
    "                  preprocessing = tokenizer.convert_tokens_to_ids,\n",
    "                  init_token = tokenizer.cls_token_id,\n",
    "                  eos_token = tokenizer.sep_token_id,\n",
    "                  pad_token = tokenizer.pad_token_id,\n",
    "                  unk_token = tokenizer.unk_token_id)\n",
    "\n",
    "LABEL = torchtext.data.LabelField(dtype = torch.long)\n",
    "\n",
    "dataset = torchtext.data.TabularDataset(\n",
    "    path = PATH / 'train.csv',\n",
    "    format = 'CSV',\n",
    "    fields = [('id', ID), ('keyword', KEYWORD), ('location', LOCATION), ('text', TEXT), ('target', LABEL)],\n",
    "    skip_header = True\n",
    ")\n",
    "\n",
    "len(dataset)"
   ]
  },
  {
   "cell_type": "code",
   "execution_count": 10,
   "metadata": {
    "ExecuteTime": {
     "end_time": "2020-09-05T10:59:05.684146Z",
     "start_time": "2020-09-05T10:59:05.671148Z"
    }
   },
   "outputs": [
    {
     "name": "stdout",
     "output_type": "stream",
     "text": [
      "{'id': '1', 'keyword': '', 'location': '', 'text': [2256, 15616, 2024, 1996, 3114, 1997, 2023, 1001, 8372, 2089, 16455, 9641, 2149, 2035], 'target': '1'}\n"
     ]
    }
   ],
   "source": [
    "ix = 0\n",
    "print(vars(dataset.examples[ix]))"
   ]
  },
  {
   "cell_type": "code",
   "execution_count": 11,
   "metadata": {
    "ExecuteTime": {
     "end_time": "2020-09-05T10:59:33.756923Z",
     "start_time": "2020-09-05T10:59:33.733926Z"
    }
   },
   "outputs": [
    {
     "data": {
      "text/plain": [
       "(4568, 3045)"
      ]
     },
     "execution_count": 11,
     "metadata": {},
     "output_type": "execute_result"
    }
   ],
   "source": [
    "train_dataset, valid_dataset = dataset.split(\n",
    "    split_ratio=0.6,\n",
    "    stratified=True,\n",
    "    strata_field='target'\n",
    ")\n",
    "\n",
    "len(train_dataset), len(valid_dataset)"
   ]
  },
  {
   "cell_type": "code",
   "execution_count": 12,
   "metadata": {
    "ExecuteTime": {
     "end_time": "2020-09-05T11:00:12.983217Z",
     "start_time": "2020-09-05T11:00:12.968217Z"
    }
   },
   "outputs": [],
   "source": [
    "#MAX_VOCAB_SIZE = 10000\n",
    "\n",
    "#TEXT.build_vocab(train_dataset, \n",
    "#                 max_size=MAX_VOCAB_SIZE,\n",
    "#                 vectors=\"glove.6B.100d\",\n",
    "#                 unk_init = torch.Tensor.normal_)\n",
    "\n",
    "LABEL.build_vocab(train_dataset)"
   ]
  },
  {
   "cell_type": "code",
   "execution_count": 14,
   "metadata": {
    "ExecuteTime": {
     "end_time": "2020-09-05T11:00:22.543554Z",
     "start_time": "2020-09-05T11:00:22.536554Z"
    }
   },
   "outputs": [
    {
     "data": {
      "text/plain": [
       "2"
      ]
     },
     "execution_count": 14,
     "metadata": {},
     "output_type": "execute_result"
    }
   ],
   "source": [
    "len(LABEL.vocab)"
   ]
  },
  {
   "cell_type": "code",
   "execution_count": 15,
   "metadata": {
    "ExecuteTime": {
     "end_time": "2020-09-05T11:00:32.890565Z",
     "start_time": "2020-09-05T11:00:32.850565Z"
    }
   },
   "outputs": [
    {
     "name": "stderr",
     "output_type": "stream",
     "text": [
      "C:\\Users\\sensio\\miniconda3\\lib\\site-packages\\torchtext\\data\\iterator.py:48: UserWarning: BucketIterator class will be retired in the 0.8.0 release and moved to torchtext.legacy. Please see 0.7.0 release notes for further information.\n",
      "  warnings.warn('{} class will be retired in the 0.8.0 release and moved to torchtext.legacy. Please see 0.7.0 release notes for further information.'.format(self.__class__.__name__), UserWarning)\n"
     ]
    }
   ],
   "source": [
    "device = \"cuda\" if torch.cuda.is_available() else \"cpu\"\n",
    "\n",
    "dataloader = {\n",
    "    'train': torchtext.data.BucketIterator(train_dataset, batch_size=64, shuffle=True, device=device),\n",
    "    'val': torchtext.data.BucketIterator(valid_dataset, batch_size=100, device=device)\n",
    "}"
   ]
  },
  {
   "cell_type": "code",
   "execution_count": 26,
   "metadata": {
    "ExecuteTime": {
     "end_time": "2020-09-05T11:08:00.814299Z",
     "start_time": "2020-09-05T11:08:00.800296Z"
    },
    "code_folding": []
   },
   "outputs": [],
   "source": [
    "from transformers import BertModel\n",
    "\n",
    "class BERT(torch.nn.Module):\n",
    "    def __init__(self, hidden_size=128, num_layers=2, n_outputs=2, bidirectional=True, dropout=0):\n",
    "        super().__init__()\n",
    "        \n",
    "        #self.embedding = torch.nn.Embedding(input_dim, embedding_dim)\n",
    "        self.bert = BertModel.from_pretrained('bert-base-uncased')\n",
    "        \n",
    "        for name, param in self.bert.named_parameters():                \n",
    "            param.requires_grad = False\n",
    "        \n",
    "        self.rnn = torch.nn.LSTM(\n",
    "            input_size=self.bert.config.to_dict()['hidden_size'], \n",
    "            hidden_size=hidden_size, \n",
    "            num_layers=num_layers,\n",
    "            bidirectional=bidirectional,\n",
    "            dropout=dropout,\n",
    "            batch_first=True\n",
    "        )\n",
    "        self.fc = torch.nn.Linear(2*hidden_size if bidirectional else hidden_size, n_outputs)\n",
    "        \n",
    "    def forward(self, text):\n",
    "        with torch.no_grad():\n",
    "            embedded = self.bert(text)[0]\n",
    "        output, _ = self.rnn(embedded)\n",
    "        # [bs, l, h]\n",
    "        return self.fc(output[:,-1,:].squeeze(1))"
   ]
  },
  {
   "cell_type": "code",
   "execution_count": 42,
   "metadata": {
    "ExecuteTime": {
     "end_time": "2020-09-05T11:22:43.449593Z",
     "start_time": "2020-09-05T11:22:43.435154Z"
    },
    "code_folding": [
     3
    ]
   },
   "outputs": [],
   "source": [
    "import sklearn.metrics as m\n",
    "from tqdm import tqdm\n",
    "\n",
    "def fit(model, dataloader, epochs=10, lr=1e-3):\n",
    "    model.to(device)\n",
    "    criterion = torch.nn.CrossEntropyLoss()\n",
    "    optimizer = torch.optim.Adam(model.parameters(), lr)\n",
    "\n",
    "    hist = {'loss': [], 'f1': [], 'val_loss': [], 'val_f1': []}\n",
    "    best_f1 = 0.\n",
    "    for e in range(1, epochs+1):\n",
    "        model.train()\n",
    "        l, f1s = [], []\n",
    "        bar = tqdm(dataloader['train'])\n",
    "        for batch in bar:\n",
    "            optimizer.zero_grad()\n",
    "            y_pred = model(batch.text)\n",
    "            loss = criterion(y_pred, batch.target)\n",
    "            l.append(loss.item())\n",
    "            loss.backward()\n",
    "            optimizer.step()\n",
    "            y_pred = torch.argmax(y_pred, axis=1)\n",
    "            f1s.append(m.f1_score(batch.target.cpu(), y_pred.cpu()))\n",
    "            bar.set_description(f\"loss {np.mean(l):.5f} f1 {np.mean(f1s):.5f}\")\n",
    "        hist['loss'].append(np.mean(l))\n",
    "        hist['f1'].append(np.mean(f1s))\n",
    "        model.eval()\n",
    "        l, acc, f1s = [], [], []\n",
    "        with torch.no_grad():\n",
    "            pg_bar = tqdm(dataloader['val'])\n",
    "            for batch in pg_bar:\n",
    "                y_pred = model(batch.text)\n",
    "                loss = criterion(y_pred, batch.target)\n",
    "                l.append(loss.item())          \n",
    "                y_pred = torch.argmax(y_pred, axis=1)\n",
    "                f1s.append(m.f1_score(batch.target.cpu(), y_pred.cpu()))\n",
    "                pg_bar.set_description(f\"val_loss {np.mean(l):.5f} val_f1 {np.mean(f1s):.5f}\")\n",
    "        hist['val_loss'].append(np.mean(l))\n",
    "        hist['val_f1'].append(np.mean(f1s))\n",
    "        if hist[\"val_f1\"][-1] > best_f1:\n",
    "            best_f1 = hist[\"val_f1\"][-1]\n",
    "            torch.save(model.state_dict(), 'ckpt.pt')\n",
    "        print(f'Epoch {e}/{epochs} loss {hist[\"loss\"][-1]:.5f} f1 {hist[\"f1\"][-1]:.5f} val_loss {hist[\"val_loss\"][-1]:.5f} val_f1 {hist[\"val_f1\"][-1]:.5f}')\n",
    "    model.load_state_dict(torch.load('ckpt.pt'))\n",
    "    return hist"
   ]
  },
  {
   "cell_type": "code",
   "execution_count": 43,
   "metadata": {
    "ExecuteTime": {
     "end_time": "2020-09-05T11:27:36.450306Z",
     "start_time": "2020-09-05T11:22:50.992806Z"
    }
   },
   "outputs": [
    {
     "name": "stderr",
     "output_type": "stream",
     "text": [
      "  0%|                                                 | 0/72 [00:00<?, ?it/s]C:\\Users\\sensio\\miniconda3\\lib\\site-packages\\torchtext\\data\\batch.py:23: UserWarning: Batch class will be retired in the 0.8.0 release and moved to torchtext.legacy. Please see 0.7.0 release notes for further information.\n",
      "  warnings.warn('{} class will be retired in the 0.8.0 release and moved to torchtext.legacy. Please see 0.7.0 release notes for further information.'.format(self.__class__.__name__), UserWarning)\n",
      "loss 0.66682 f1 0.29174: 100%|███████████████| 72/72 [00:17<00:00,  4.19it/s]\n",
      "val_loss 0.64448 val_f1 0.62714: 100%|███████| 31/31 [00:10<00:00,  2.89it/s]\n",
      "  0%|                                                 | 0/72 [00:00<?, ?it/s]"
     ]
    },
    {
     "name": "stdout",
     "output_type": "stream",
     "text": [
      "Epoch 1/10 loss 0.66682 f1 0.29174 val_loss 0.64448 val_f1 0.62714\n"
     ]
    },
    {
     "name": "stderr",
     "output_type": "stream",
     "text": [
      "loss 0.64177 f1 0.50938: 100%|███████████████| 72/72 [00:17<00:00,  4.16it/s]\n",
      "val_loss 0.65102 val_f1 0.23931: 100%|███████| 31/31 [00:10<00:00,  2.84it/s]\n",
      "  0%|                                                 | 0/72 [00:00<?, ?it/s]"
     ]
    },
    {
     "name": "stdout",
     "output_type": "stream",
     "text": [
      "Epoch 2/10 loss 0.64177 f1 0.50938 val_loss 0.65102 val_f1 0.23931\n"
     ]
    },
    {
     "name": "stderr",
     "output_type": "stream",
     "text": [
      "loss 0.61471 f1 0.56566: 100%|███████████████| 72/72 [00:17<00:00,  4.13it/s]\n",
      "val_loss 0.55959 val_f1 0.70370: 100%|███████| 31/31 [00:10<00:00,  2.86it/s]\n",
      "  0%|                                                 | 0/72 [00:00<?, ?it/s]"
     ]
    },
    {
     "name": "stdout",
     "output_type": "stream",
     "text": [
      "Epoch 3/10 loss 0.61471 f1 0.56566 val_loss 0.55959 val_f1 0.70370\n"
     ]
    },
    {
     "name": "stderr",
     "output_type": "stream",
     "text": [
      "loss 0.52392 f1 0.71359: 100%|███████████████| 72/72 [00:17<00:00,  4.14it/s]\n",
      "val_loss 0.51254 val_f1 0.68529: 100%|███████| 31/31 [00:10<00:00,  2.87it/s]\n",
      "  0%|                                                 | 0/72 [00:00<?, ?it/s]"
     ]
    },
    {
     "name": "stdout",
     "output_type": "stream",
     "text": [
      "Epoch 4/10 loss 0.52392 f1 0.71359 val_loss 0.51254 val_f1 0.68529\n"
     ]
    },
    {
     "name": "stderr",
     "output_type": "stream",
     "text": [
      "loss 0.46439 f1 0.75942: 100%|███████████████| 72/72 [00:17<00:00,  4.14it/s]\n",
      "val_loss 0.47048 val_f1 0.76374: 100%|███████| 31/31 [00:10<00:00,  2.96it/s]\n",
      "  0%|                                                 | 0/72 [00:00<?, ?it/s]"
     ]
    },
    {
     "name": "stdout",
     "output_type": "stream",
     "text": [
      "Epoch 5/10 loss 0.46439 f1 0.75942 val_loss 0.47048 val_f1 0.76374\n"
     ]
    },
    {
     "name": "stderr",
     "output_type": "stream",
     "text": [
      "loss 0.43488 f1 0.76979: 100%|███████████████| 72/72 [00:17<00:00,  4.04it/s]\n",
      "val_loss 0.42608 val_f1 0.77417: 100%|███████| 31/31 [00:11<00:00,  2.79it/s]\n",
      "  0%|                                                 | 0/72 [00:00<?, ?it/s]"
     ]
    },
    {
     "name": "stdout",
     "output_type": "stream",
     "text": [
      "Epoch 6/10 loss 0.43488 f1 0.76979 val_loss 0.42608 val_f1 0.77417\n"
     ]
    },
    {
     "name": "stderr",
     "output_type": "stream",
     "text": [
      "loss 0.42304 f1 0.78016: 100%|███████████████| 72/72 [00:17<00:00,  4.01it/s]\n",
      "val_loss 0.46245 val_f1 0.77713: 100%|███████| 31/31 [00:11<00:00,  2.74it/s]\n",
      "  0%|                                                 | 0/72 [00:00<?, ?it/s]"
     ]
    },
    {
     "name": "stdout",
     "output_type": "stream",
     "text": [
      "Epoch 7/10 loss 0.42304 f1 0.78016 val_loss 0.46245 val_f1 0.77713\n"
     ]
    },
    {
     "name": "stderr",
     "output_type": "stream",
     "text": [
      "loss 0.39801 f1 0.79162: 100%|███████████████| 72/72 [00:17<00:00,  4.06it/s]\n",
      "val_loss 0.44164 val_f1 0.77798: 100%|███████| 31/31 [00:10<00:00,  3.07it/s]\n",
      "  0%|                                                 | 0/72 [00:00<?, ?it/s]"
     ]
    },
    {
     "name": "stdout",
     "output_type": "stream",
     "text": [
      "Epoch 8/10 loss 0.39801 f1 0.79162 val_loss 0.44164 val_f1 0.77798\n"
     ]
    },
    {
     "name": "stderr",
     "output_type": "stream",
     "text": [
      "loss 0.37966 f1 0.80701: 100%|███████████████| 72/72 [00:15<00:00,  4.61it/s]\n",
      "val_loss 0.41514 val_f1 0.78735: 100%|███████| 31/31 [00:09<00:00,  3.25it/s]\n",
      "loss 0.31342 f1 0.82143:   0%|                        | 0/72 [00:00<?, ?it/s]"
     ]
    },
    {
     "name": "stdout",
     "output_type": "stream",
     "text": [
      "Epoch 9/10 loss 0.37966 f1 0.80701 val_loss 0.41514 val_f1 0.78735\n"
     ]
    },
    {
     "name": "stderr",
     "output_type": "stream",
     "text": [
      "loss 0.36388 f1 0.81163: 100%|███████████████| 72/72 [00:15<00:00,  4.69it/s]\n",
      "val_loss 0.47631 val_f1 0.77347: 100%|███████| 31/31 [00:09<00:00,  3.32it/s]\n"
     ]
    },
    {
     "name": "stdout",
     "output_type": "stream",
     "text": [
      "Epoch 10/10 loss 0.36388 f1 0.81163 val_loss 0.47631 val_f1 0.77347\n"
     ]
    }
   ],
   "source": [
    "model = BERT()\n",
    "\n",
    "hist = fit(model, dataloader)"
   ]
  },
  {
   "cell_type": "code",
   "execution_count": 44,
   "metadata": {
    "ExecuteTime": {
     "end_time": "2020-09-05T11:27:46.079773Z",
     "start_time": "2020-09-05T11:27:45.690472Z"
    }
   },
   "outputs": [
    {
     "data": {
      "image/png": "[encoded data removed]",
      "text/plain": [
       "<Figure size 2000x600 with 2 Axes>"
      ]
     },
     "metadata": {
      "needs_background": "light"
     },
     "output_type": "display_data"
    }
   ],
   "source": [
    "def plot(hist):\n",
    "    fig = plt.figure(dpi=200,figsize=(10,3))\n",
    "    ax = plt.subplot(121)\n",
    "    hist = pd.DataFrame(hist)\n",
    "    hist[['loss', 'val_loss']].plot(ax=ax, grid=True)\n",
    "    ax = plt.subplot(122)\n",
    "    hist[['f1', 'val_f1']].plot(ax=ax, grid=True)\n",
    "    plt.show()\n",
    "    \n",
    "plot(hist)"
   ]
  },
  {
   "cell_type": "code",
   "execution_count": 31,
   "metadata": {
    "ExecuteTime": {
     "end_time": "2020-09-05T11:15:03.730129Z",
     "start_time": "2020-09-05T11:15:02.490029Z"
    }
   },
   "outputs": [
    {
     "name": "stderr",
     "output_type": "stream",
     "text": [
      "C:\\Users\\sensio\\miniconda3\\lib\\site-packages\\torchtext\\data\\example.py:68: UserWarning: Example class will be retired in the 0.8.0 release and moved to torchtext.legacy. Please see 0.7.0 release notes for further information.\n",
      "  warnings.warn('Example class will be retired in the 0.8.0 release and moved to torchtext.legacy. Please see 0.7.0 release notes for further information.', UserWarning)\n",
      "C:\\Users\\sensio\\miniconda3\\lib\\site-packages\\torchtext\\data\\example.py:78: UserWarning: Example class will be retired in the 0.8.0 release and moved to torchtext.legacy. Please see 0.7.0 release notes for further information.\n",
      "  warnings.warn('Example class will be retired in the 0.8.0 release and moved to torchtext.legacy. Please see 0.7.0 release notes for further information.', UserWarning)\n"
     ]
    },
    {
     "data": {
      "text/plain": [
       "3263"
      ]
     },
     "execution_count": 31,
     "metadata": {},
     "output_type": "execute_result"
    }
   ],
   "source": [
    "test_dataset = torchtext.data.TabularDataset(\n",
    "    path = PATH / 'test.csv',\n",
    "    format = 'CSV',\n",
    "    fields = [('id', ID), ('keyword', KEYWORD), ('location', LOCATION), ('text', TEXT)],\n",
    "    skip_header = True\n",
    ")\n",
    "\n",
    "len(test_dataset)"
   ]
  },
  {
   "cell_type": "code",
   "execution_count": 32,
   "metadata": {
    "ExecuteTime": {
     "end_time": "2020-09-05T11:15:06.166673Z",
     "start_time": "2020-09-05T11:15:06.163674Z"
    }
   },
   "outputs": [
    {
     "name": "stdout",
     "output_type": "stream",
     "text": [
      "{'id': '10861', 'keyword': '', 'location': '', 'text': [8372, 3808, 3050, 3349, 1057, 2080, 3808, 3435, 24454, 2015, 1060, 2099, 7962]}\n"
     ]
    }
   ],
   "source": [
    "ix = 3258\n",
    "print(vars(test_dataset.examples[ix]))"
   ]
  },
  {
   "cell_type": "code",
   "execution_count": 33,
   "metadata": {
    "ExecuteTime": {
     "end_time": "2020-09-05T11:15:27.195418Z",
     "start_time": "2020-09-05T11:15:27.181906Z"
    }
   },
   "outputs": [
    {
     "name": "stderr",
     "output_type": "stream",
     "text": [
      "C:\\Users\\sensio\\miniconda3\\lib\\site-packages\\torchtext\\data\\iterator.py:48: UserWarning: BucketIterator class will be retired in the 0.8.0 release and moved to torchtext.legacy. Please see 0.7.0 release notes for further information.\n",
      "  warnings.warn('{} class will be retired in the 0.8.0 release and moved to torchtext.legacy. Please see 0.7.0 release notes for further information.'.format(self.__class__.__name__), UserWarning)\n"
     ]
    }
   ],
   "source": [
    "test_dataloader = torchtext.data.BucketIterator(test_dataset, batch_size=64, shuffle=False, device=device)"
   ]
  },
  {
   "cell_type": "code",
   "execution_count": 34,
   "metadata": {
    "ExecuteTime": {
     "end_time": "2020-09-05T11:15:41.007642Z",
     "start_time": "2020-09-05T11:15:41.002641Z"
    }
   },
   "outputs": [],
   "source": [
    "def predict():\n",
    "    model.eval()\n",
    "    preds = torch.tensor([]).to(device)\n",
    "    with torch.no_grad():\n",
    "        for batch in tqdm(test_dataloader):\n",
    "            y_pred = model(batch.text)        \n",
    "            y_pred = torch.argmax(y_pred, axis=1)\n",
    "            preds = torch.cat([preds, y_pred])\n",
    "    return preds"
   ]
  },
  {
   "cell_type": "code",
   "execution_count": 35,
   "metadata": {
    "ExecuteTime": {
     "end_time": "2020-09-05T11:15:52.008157Z",
     "start_time": "2020-09-05T11:15:41.111643Z"
    }
   },
   "outputs": [
    {
     "name": "stderr",
     "output_type": "stream",
     "text": [
      "  0%|                                                 | 0/51 [00:00<?, ?it/s]C:\\Users\\sensio\\miniconda3\\lib\\site-packages\\torchtext\\data\\batch.py:23: UserWarning: Batch class will be retired in the 0.8.0 release and moved to torchtext.legacy. Please see 0.7.0 release notes for further information.\n",
      "  warnings.warn('{} class will be retired in the 0.8.0 release and moved to torchtext.legacy. Please see 0.7.0 release notes for further information.'.format(self.__class__.__name__), UserWarning)\n",
      "100%|████████████████████████████████████████| 51/51 [00:10<00:00,  4.77it/s]\n"
     ]
    },
    {
     "data": {
      "text/plain": [
       "tensor([1., 1., 1.,  ..., 1., 1., 1.], device='cuda:0')"
      ]
     },
     "execution_count": 35,
     "metadata": {},
     "output_type": "execute_result"
    }
   ],
   "source": [
    "preds = predict()\n",
    "preds"
   ]
  },
  {
   "cell_type": "code",
   "execution_count": 36,
   "metadata": {
    "ExecuteTime": {
     "end_time": "2020-09-05T11:15:55.996792Z",
     "start_time": "2020-09-05T11:15:55.971796Z"
    }
   },
   "outputs": [
    {
     "data": {
      "text/html": [
       "<div>\n",
       "<style scoped>\n",
       "    .dataframe tbody tr th:only-of-type {\n",
       "        vertical-align: middle;\n",
       "    }\n",
       "\n",
       "    .dataframe tbody tr th {\n",
       "        vertical-align: top;\n",
       "    }\n",
       "\n",
       "    .dataframe thead th {\n",
       "        text-align: right;\n",
       "    }\n",
       "</style>\n",
       "<table border=\"1\" class=\"dataframe\">\n",
       "  <thead>\n",
       "    <tr style=\"text-align: right;\">\n",
       "      <th></th>\n",
       "      <th>id</th>\n",
       "      <th>target</th>\n",
       "    </tr>\n",
       "  </thead>\n",
       "  <tbody>\n",
       "    <tr>\n",
       "      <th>0</th>\n",
       "      <td>0</td>\n",
       "      <td>0</td>\n",
       "    </tr>\n",
       "    <tr>\n",
       "      <th>1</th>\n",
       "      <td>2</td>\n",
       "      <td>0</td>\n",
       "    </tr>\n",
       "    <tr>\n",
       "      <th>2</th>\n",
       "      <td>3</td>\n",
       "      <td>0</td>\n",
       "    </tr>\n",
       "    <tr>\n",
       "      <th>3</th>\n",
       "      <td>9</td>\n",
       "      <td>0</td>\n",
       "    </tr>\n",
       "    <tr>\n",
       "      <th>4</th>\n",
       "      <td>11</td>\n",
       "      <td>0</td>\n",
       "    </tr>\n",
       "    <tr>\n",
       "      <th>...</th>\n",
       "      <td>...</td>\n",
       "      <td>...</td>\n",
       "    </tr>\n",
       "    <tr>\n",
       "      <th>3258</th>\n",
       "      <td>10861</td>\n",
       "      <td>0</td>\n",
       "    </tr>\n",
       "    <tr>\n",
       "      <th>3259</th>\n",
       "      <td>10865</td>\n",
       "      <td>0</td>\n",
       "    </tr>\n",
       "    <tr>\n",
       "      <th>3260</th>\n",
       "      <td>10868</td>\n",
       "      <td>0</td>\n",
       "    </tr>\n",
       "    <tr>\n",
       "      <th>3261</th>\n",
       "      <td>10874</td>\n",
       "      <td>0</td>\n",
       "    </tr>\n",
       "    <tr>\n",
       "      <th>3262</th>\n",
       "      <td>10875</td>\n",
       "      <td>0</td>\n",
       "    </tr>\n",
       "  </tbody>\n",
       "</table>\n",
       "<p>3263 rows × 2 columns</p>\n",
       "</div>"
      ],
      "text/plain": [
       "         id  target\n",
       "0         0       0\n",
       "1         2       0\n",
       "2         3       0\n",
       "3         9       0\n",
       "4        11       0\n",
       "...     ...     ...\n",
       "3258  10861       0\n",
       "3259  10865       0\n",
       "3260  10868       0\n",
       "3261  10874       0\n",
       "3262  10875       0\n",
       "\n",
       "[3263 rows x 2 columns]"
      ]
     },
     "execution_count": 36,
     "metadata": {},
     "output_type": "execute_result"
    }
   ],
   "source": [
    "submission = pd.read_csv(PATH  / 'sample_submission.csv')\n",
    "submission"
   ]
  },
  {
   "cell_type": "code",
   "execution_count": 37,
   "metadata": {
    "ExecuteTime": {
     "end_time": "2020-09-05T11:15:58.656936Z",
     "start_time": "2020-09-05T11:15:58.641426Z"
    }
   },
   "outputs": [
    {
     "data": {
      "text/html": [
       "<div>\n",
       "<style scoped>\n",
       "    .dataframe tbody tr th:only-of-type {\n",
       "        vertical-align: middle;\n",
       "    }\n",
       "\n",
       "    .dataframe tbody tr th {\n",
       "        vertical-align: top;\n",
       "    }\n",
       "\n",
       "    .dataframe thead th {\n",
       "        text-align: right;\n",
       "    }\n",
       "</style>\n",
       "<table border=\"1\" class=\"dataframe\">\n",
       "  <thead>\n",
       "    <tr style=\"text-align: right;\">\n",
       "      <th></th>\n",
       "      <th>id</th>\n",
       "      <th>target</th>\n",
       "    </tr>\n",
       "  </thead>\n",
       "  <tbody>\n",
       "    <tr>\n",
       "      <th>0</th>\n",
       "      <td>0</td>\n",
       "      <td>1</td>\n",
       "    </tr>\n",
       "    <tr>\n",
       "      <th>1</th>\n",
       "      <td>2</td>\n",
       "      <td>1</td>\n",
       "    </tr>\n",
       "    <tr>\n",
       "      <th>2</th>\n",
       "      <td>3</td>\n",
       "      <td>1</td>\n",
       "    </tr>\n",
       "    <tr>\n",
       "      <th>3</th>\n",
       "      <td>9</td>\n",
       "      <td>1</td>\n",
       "    </tr>\n",
       "    <tr>\n",
       "      <th>4</th>\n",
       "      <td>11</td>\n",
       "      <td>1</td>\n",
       "    </tr>\n",
       "    <tr>\n",
       "      <th>...</th>\n",
       "      <td>...</td>\n",
       "      <td>...</td>\n",
       "    </tr>\n",
       "    <tr>\n",
       "      <th>3258</th>\n",
       "      <td>10861</td>\n",
       "      <td>1</td>\n",
       "    </tr>\n",
       "    <tr>\n",
       "      <th>3259</th>\n",
       "      <td>10865</td>\n",
       "      <td>1</td>\n",
       "    </tr>\n",
       "    <tr>\n",
       "      <th>3260</th>\n",
       "      <td>10868</td>\n",
       "      <td>1</td>\n",
       "    </tr>\n",
       "    <tr>\n",
       "      <th>3261</th>\n",
       "      <td>10874</td>\n",
       "      <td>1</td>\n",
       "    </tr>\n",
       "    <tr>\n",
       "      <th>3262</th>\n",
       "      <td>10875</td>\n",
       "      <td>1</td>\n",
       "    </tr>\n",
       "  </tbody>\n",
       "</table>\n",
       "<p>3263 rows × 2 columns</p>\n",
       "</div>"
      ],
      "text/plain": [
       "         id  target\n",
       "0         0       1\n",
       "1         2       1\n",
       "2         3       1\n",
       "3         9       1\n",
       "4        11       1\n",
       "...     ...     ...\n",
       "3258  10861       1\n",
       "3259  10865       1\n",
       "3260  10868       1\n",
       "3261  10874       1\n",
       "3262  10875       1\n",
       "\n",
       "[3263 rows x 2 columns]"
      ]
     },
     "execution_count": 37,
     "metadata": {},
     "output_type": "execute_result"
    }
   ],
   "source": [
    "submission.target = preds.cpu().long()\n",
    "submission"
   ]
  },
  {
   "cell_type": "code",
   "execution_count": 41,
   "metadata": {
    "ExecuteTime": {
     "end_time": "2020-09-05T11:16:02.480110Z",
     "start_time": "2020-09-05T11:16:02.461113Z"
    }
   },
   "outputs": [],
   "source": [
    "submission.to_csv('submission.csv', index=False)"
   ]
  }
 ],
 "metadata": {
  "kernelspec": {
   "display_name": "Python 3",
   "language": "python",
   "name": "python3"
  },
  "language_info": {
   "codemirror_mode": {
    "name": "ipython",
    "version": 3
   },
   "file_extension": ".py",
   "mimetype": "text/x-python",
   "name": "python",
   "nbconvert_exporter": "python",
   "pygments_lexer": "ipython3",
   "version": "3.7.6"
  },
  "toc": {
   "base_numbering": 1,
   "nav_menu": {},
   "number_sections": true,
   "sideBar": true,
   "skip_h1_title": false,
   "title_cell": "Table of Contents",
   "title_sidebar": "Contents",
   "toc_cell": false,
   "toc_position": {},
   "toc_section_display": true,
   "toc_window_display": false
  }
 },
 "nbformat": 4,
 "nbformat_minor": 4
}
