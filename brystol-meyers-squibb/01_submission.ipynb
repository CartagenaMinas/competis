{
 "cells": [
  {
   "cell_type": "code",
   "execution_count": 5,
   "metadata": {
    "ExecuteTime": {
     "end_time": "2021-03-10T14:36:55.364730Z",
     "start_time": "2021-03-10T14:36:55.313732Z"
    }
   },
   "outputs": [
    {
     "name": "stdout",
     "output_type": "stream",
     "text": [
      "The autoreload extension is already loaded. To reload it, use:\n",
      "  %reload_ext autoreload\n"
     ]
    }
   ],
   "source": [
    "%load_ext autoreload\n",
    "%autoreload 2"
   ]
  },
  {
   "cell_type": "code",
   "execution_count": 6,
   "metadata": {
    "ExecuteTime": {
     "end_time": "2021-03-10T15:20:37.106591Z",
     "start_time": "2021-03-10T15:20:32.610592Z"
    }
   },
   "outputs": [
    {
     "data": {
      "text/html": [
       "<div>\n",
       "<style scoped>\n",
       "    .dataframe tbody tr th:only-of-type {\n",
       "        vertical-align: middle;\n",
       "    }\n",
       "\n",
       "    .dataframe tbody tr th {\n",
       "        vertical-align: top;\n",
       "    }\n",
       "\n",
       "    .dataframe thead th {\n",
       "        text-align: right;\n",
       "    }\n",
       "</style>\n",
       "<table border=\"1\" class=\"dataframe\">\n",
       "  <thead>\n",
       "    <tr style=\"text-align: right;\">\n",
       "      <th></th>\n",
       "      <th>image_id</th>\n",
       "      <th>InChI</th>\n",
       "    </tr>\n",
       "  </thead>\n",
       "  <tbody>\n",
       "    <tr>\n",
       "      <th>0</th>\n",
       "      <td>000011a64c74</td>\n",
       "      <td>InChI=1S/C13H20OS/c1-9(2)8-15-13-6-5-10(3)7-12...</td>\n",
       "    </tr>\n",
       "    <tr>\n",
       "      <th>1</th>\n",
       "      <td>000019cc0cd2</td>\n",
       "      <td>InChI=1S/C21H30O4/c1-12(22)25-14-6-8-20(2)13(1...</td>\n",
       "    </tr>\n",
       "    <tr>\n",
       "      <th>2</th>\n",
       "      <td>0000252b6d2b</td>\n",
       "      <td>InChI=1S/C24H23N5O4/c1-14-13-15(7-8-17(14)28-1...</td>\n",
       "    </tr>\n",
       "    <tr>\n",
       "      <th>3</th>\n",
       "      <td>000026b49b7e</td>\n",
       "      <td>InChI=1S/C17H24N2O4S/c1-12(20)18-13(14-7-6-10-...</td>\n",
       "    </tr>\n",
       "    <tr>\n",
       "      <th>4</th>\n",
       "      <td>000026fc6c36</td>\n",
       "      <td>InChI=1S/C10H19N3O2S/c1-15-10(14)12-8-4-6-13(7...</td>\n",
       "    </tr>\n",
       "    <tr>\n",
       "      <th>...</th>\n",
       "      <td>...</td>\n",
       "      <td>...</td>\n",
       "    </tr>\n",
       "    <tr>\n",
       "      <th>2424181</th>\n",
       "      <td>ffffe824f539</td>\n",
       "      <td>InChI=1S/C10H12F2N2O3/c1-17-7-2-5(3-8(15)16)9(...</td>\n",
       "    </tr>\n",
       "    <tr>\n",
       "      <th>2424182</th>\n",
       "      <td>ffffea1ebdfa</td>\n",
       "      <td>InChI=1S/C19H20F2N4O3S/c1-10(8-20)28-14-7-12(2...</td>\n",
       "    </tr>\n",
       "    <tr>\n",
       "      <th>2424183</th>\n",
       "      <td>ffffee2b4534</td>\n",
       "      <td>InChI=1S/C22H26Cl2N2O4S/c1-16-6-2-3-10-21(16)3...</td>\n",
       "    </tr>\n",
       "    <tr>\n",
       "      <th>2424184</th>\n",
       "      <td>fffff0b6eea6</td>\n",
       "      <td>InChI=1S/C17H26N2O6S/c1-23-16-12-14(4-5-15(16)...</td>\n",
       "    </tr>\n",
       "    <tr>\n",
       "      <th>2424185</th>\n",
       "      <td>fffff608dd38</td>\n",
       "      <td>InChI=1S/C10H18N2O9P2/c1-7-10(13)9(5-11-2-3-20...</td>\n",
       "    </tr>\n",
       "  </tbody>\n",
       "</table>\n",
       "<p>2424186 rows × 2 columns</p>\n",
       "</div>"
      ],
      "text/plain": [
       "             image_id                                              InChI\n",
       "0        000011a64c74  InChI=1S/C13H20OS/c1-9(2)8-15-13-6-5-10(3)7-12...\n",
       "1        000019cc0cd2  InChI=1S/C21H30O4/c1-12(22)25-14-6-8-20(2)13(1...\n",
       "2        0000252b6d2b  InChI=1S/C24H23N5O4/c1-14-13-15(7-8-17(14)28-1...\n",
       "3        000026b49b7e  InChI=1S/C17H24N2O4S/c1-12(20)18-13(14-7-6-10-...\n",
       "4        000026fc6c36  InChI=1S/C10H19N3O2S/c1-15-10(14)12-8-4-6-13(7...\n",
       "...               ...                                                ...\n",
       "2424181  ffffe824f539  InChI=1S/C10H12F2N2O3/c1-17-7-2-5(3-8(15)16)9(...\n",
       "2424182  ffffea1ebdfa  InChI=1S/C19H20F2N4O3S/c1-10(8-20)28-14-7-12(2...\n",
       "2424183  ffffee2b4534  InChI=1S/C22H26Cl2N2O4S/c1-16-6-2-3-10-21(16)3...\n",
       "2424184  fffff0b6eea6  InChI=1S/C17H26N2O6S/c1-23-16-12-14(4-5-15(16)...\n",
       "2424185  fffff608dd38  InChI=1S/C10H18N2O9P2/c1-7-10(13)9(5-11-2-3-20...\n",
       "\n",
       "[2424186 rows x 2 columns]"
      ]
     },
     "execution_count": 6,
     "metadata": {},
     "output_type": "execute_result"
    }
   ],
   "source": [
    "import pandas as pd\n",
    "from pathlib import Path\n",
    "from Levenshtein import distance\n",
    "\n",
    "path = Path('data')\n",
    "train_labels = pd.read_csv(path / 'train_labels.csv')\n",
    "train_labels"
   ]
  },
  {
   "cell_type": "code",
   "execution_count": 7,
   "metadata": {
    "ExecuteTime": {
     "end_time": "2021-03-10T15:29:55.457717Z",
     "start_time": "2021-03-10T15:29:55.216654Z"
    }
   },
   "outputs": [
    {
     "data": {
      "text/plain": [
       "100"
      ]
     },
     "execution_count": 7,
     "metadata": {},
     "output_type": "execute_result"
    }
   ],
   "source": [
    "from src.dm import Dataset\n",
    "from src.utils import get_image_path\n",
    "import albumentations as A \n",
    "import torch\n",
    "\n",
    "\n",
    "sample = train_labels.sample(100)\n",
    "images = sample.image_id.map(get_image_path)\n",
    "\n",
    "ds = Dataset(images.values, train=False, trans=A.Compose([A.Resize(128,128)]))\n",
    "dl = torch.utils.data.DataLoader(ds, batch_size=100, num_workers=0, pin_memory=True, shuffle=False)\n",
    "\n",
    "len(ds)"
   ]
  },
  {
   "cell_type": "code",
   "execution_count": 8,
   "metadata": {
    "ExecuteTime": {
     "end_time": "2021-03-10T15:29:55.569713Z",
     "start_time": "2021-03-10T15:29:55.460720Z"
    }
   },
   "outputs": [
    {
     "data": {
      "text/plain": [
       "['transformer-val_ld=5.3365.ckpt',\n",
       " 'transformer-val_loss=0.6712.ckpt',\n",
       " 'transformer-val_loss=2.4111.ckpt',\n",
       " 'transformer-val_loss=0.6376.ckpt',\n",
       " 'transformer-val_loss=0.6519.ckpt',\n",
       " 'temp_model.ckpt',\n",
       " 'transformer-val_ld=5.3029.ckpt']"
      ]
     },
     "execution_count": 8,
     "metadata": {},
     "output_type": "execute_result"
    }
   ],
   "source": [
    "import glob \n",
    "\n",
    "models = glob.glob('*.ckpt')\n",
    "models"
   ]
  },
  {
   "cell_type": "code",
   "execution_count": 9,
   "metadata": {
    "ExecuteTime": {
     "end_time": "2021-03-10T15:29:56.143716Z",
     "start_time": "2021-03-10T15:29:55.571714Z"
    }
   },
   "outputs": [
    {
     "data": {
      "text/plain": [
       "\"batch_size\":         2048\n",
       "\"dropout\":            0.1\n",
       "\"embed_dim\":          256\n",
       "\"gpus\":               1\n",
       "\"img_size\":           128\n",
       "\"len_vocab\":          39\n",
       "\"load_from\":          False\n",
       "\"log\":                True\n",
       "\"lr\":                 0.001\n",
       "\"max_epochs\":         10\n",
       "\"max_len\":            21\n",
       "\"nhead\":              4\n",
       "\"num_decoder_layers\": 6\n",
       "\"num_encoder_layers\": 6\n",
       "\"num_workers\":        24\n",
       "\"optimizer\":          Adam\n",
       "\"patch_size\":         16\n",
       "\"pin_memory\":         True\n",
       "\"precision\":          16\n",
       "\"shuffle_train\":      False\n",
       "\"train_batches\":      400\n",
       "\"train_trans\":        {'Resize': {'width': 128, 'height': 128}}\n",
       "\"val_batches\":        50\n",
       "\"val_trans\":          {'Resize': {'width': 128, 'height': 128}}\n",
       "\"val_with_train\":     False"
      ]
     },
     "execution_count": 9,
     "metadata": {},
     "output_type": "execute_result"
    }
   ],
   "source": [
    "from src.models import Transformer\n",
    "from src.vocab import VOCAB\n",
    "\n",
    "model_path = 'transformer-val_loss=2.4111.ckpt'\n",
    "model = Transformer.load_from_checkpoint(model_path, len_vocab=len(VOCAB))\n",
    "model.hparams"
   ]
  },
  {
   "cell_type": "code",
   "execution_count": 10,
   "metadata": {
    "ExecuteTime": {
     "end_time": "2021-03-10T15:31:24.988713Z",
     "start_time": "2021-03-10T15:31:16.728714Z"
    }
   },
   "outputs": [
    {
     "name": "stderr",
     "output_type": "stream",
     "text": [
      "100%|██████████| 1/1 [00:00<00:00,  1.18it/s]\n"
     ]
    },
    {
     "data": {
      "text/plain": [
       "100"
      ]
     },
     "execution_count": 10,
     "metadata": {},
     "output_type": "execute_result"
    }
   ],
   "source": [
    "from tqdm import tqdm\n",
    "\n",
    "preds = []\n",
    "model.cuda()\n",
    "for batch in tqdm(dl):\n",
    "    outputs = model.predict(batch)\n",
    "    preds += outputs\n",
    "    \n",
    "len(preds)"
   ]
  },
  {
   "cell_type": "code",
   "execution_count": 11,
   "metadata": {},
   "outputs": [
    {
     "data": {
      "text/plain": [
       "[tensor([0, 0, 0, 0, 0, 0, 0, 0, 0, 0, 0, 0, 0, 0, 0, 0, 0, 0, 0, 0, 0],\n",
       "        device='cuda:0'),\n",
       " tensor([0, 0, 0, 0, 0, 0, 0, 0, 0, 0, 0, 0, 0, 0, 0, 0, 0, 0, 0, 0, 0],\n",
       "        device='cuda:0'),\n",
       " tensor([0, 0, 0, 0, 0, 0, 0, 0, 0, 0, 0, 0, 0, 0, 0, 0, 0, 0, 0, 0, 0],\n",
       "        device='cuda:0'),\n",
       " tensor([0, 0, 0, 0, 0, 0, 0, 0, 0, 0, 0, 0, 0, 0, 0, 0, 0, 0, 0, 0, 0],\n",
       "        device='cuda:0'),\n",
       " tensor([0, 0, 0, 0, 0, 0, 0, 0, 0, 0, 0, 0, 0, 0, 0, 0, 0, 0, 0, 0, 0],\n",
       "        device='cuda:0')]"
      ]
     },
     "execution_count": 11,
     "metadata": {},
     "output_type": "execute_result"
    }
   ],
   "source": [
    "preds[:5]"
   ]
  },
  {
   "cell_type": "code",
   "execution_count": null,
   "metadata": {
    "ExecuteTime": {
     "end_time": "2021-03-10T15:31:25.098714Z",
     "start_time": "2021-03-10T15:31:24.989714Z"
    }
   },
   "outputs": [],
   "source": [
    "preds_inchis = ['InChI=1S/' + inchi for inchi in preds]\n",
    "preds_inchis[:3]"
   ]
  },
  {
   "cell_type": "code",
   "execution_count": null,
   "metadata": {
    "ExecuteTime": {
     "end_time": "2021-03-10T15:31:34.144719Z",
     "start_time": "2021-03-10T15:31:34.029714Z"
    }
   },
   "outputs": [],
   "source": [
    "import numpy as np \n",
    "\n",
    "metric = []\n",
    "for pred, inchi in zip(preds_inchis, sample.InChI.values):\n",
    "    metric.append(distance(pred, inchi))\n",
    "    \n",
    "np.mean(metric)"
   ]
  },
  {
   "cell_type": "code",
   "execution_count": null,
   "metadata": {
    "ExecuteTime": {
     "end_time": "2021-03-10T15:31:57.969713Z",
     "start_time": "2021-03-10T15:31:50.719714Z"
    }
   },
   "outputs": [],
   "source": [
    "import glob \n",
    "from pathlib import Path \n",
    "\n",
    "test_images = glob.glob('data/test/*/*/*/*.png')\n",
    "#test_images = glob.glob('data/bms100/test/*.png')\n",
    "\n",
    "len(test_images)"
   ]
  },
  {
   "cell_type": "code",
   "execution_count": null,
   "metadata": {
    "ExecuteTime": {
     "end_time": "2021-03-10T15:31:58.080716Z",
     "start_time": "2021-03-10T15:31:57.970714Z"
    }
   },
   "outputs": [],
   "source": [
    "from src.dm import Dataset\n",
    "import albumentations as A \n",
    "\n",
    "#limit = 100000\n",
    "#test_images = test_images[:limit]\n",
    "\n",
    "ds = Dataset(test_images, train=False, trans=A.Compose([A.Resize(128,128)]))\n",
    "#ds = Dataset(test_images, train=False, trans=None)\n",
    "len(ds)"
   ]
  },
  {
   "cell_type": "code",
   "execution_count": null,
   "metadata": {
    "ExecuteTime": {
     "end_time": "2021-03-10T15:31:58.254716Z",
     "start_time": "2021-03-10T15:31:58.082718Z"
    }
   },
   "outputs": [],
   "source": [
    "import torch\n",
    "\n",
    "dl = torch.utils.data.DataLoader(ds, batch_size=100, num_workers=0, pin_memory=True, shuffle=False)\n",
    "\n",
    "imgs = next(iter(dl))\n",
    "imgs.shape"
   ]
  },
  {
   "cell_type": "code",
   "execution_count": null,
   "metadata": {
    "ExecuteTime": {
     "end_time": "2021-03-10T16:44:44.348835Z",
     "start_time": "2021-03-10T15:31:58.255717Z"
    }
   },
   "outputs": [],
   "source": [
    "from tqdm import tqdm\n",
    "\n",
    "preds = []\n",
    "model.cuda()\n",
    "for batch in tqdm(dl):\n",
    "    outputs = model.predict(batch.cuda())\n",
    "    preds += outputs\n",
    "len(preds)"
   ]
  },
  {
   "cell_type": "code",
   "execution_count": null,
   "metadata": {
    "ExecuteTime": {
     "end_time": "2021-03-10T16:44:44.350836Z",
     "start_time": "2021-03-10T15:31:51.543Z"
    }
   },
   "outputs": [],
   "source": [
    "import pandas as pd\n",
    "\n",
    "submission = pd.DataFrame({\n",
    "    'image_id': [image_id.split('/')[-1][:-4] for image_id in test_images],\n",
    "    #'image_id': [image_id.split('/')[-1][:-4] for image_id in test_images[:32]],\n",
    "    'InChI': ['InChI=1S/'+pred for pred in preds]\n",
    "})\n",
    "\n",
    "submission"
   ]
  },
  {
   "cell_type": "code",
   "execution_count": null,
   "metadata": {},
   "outputs": [],
   "source": [
    "submission.sample(10)"
   ]
  },
  {
   "cell_type": "code",
   "execution_count": null,
   "metadata": {},
   "outputs": [],
   "source": [
    "submission.to_csv('submission.csv', index=False)"
   ]
  },
  {
   "cell_type": "code",
   "execution_count": null,
   "metadata": {},
   "outputs": [],
   "source": [
    "#!kaggle competitions list\n",
    "#!kaggle competitions submit bms-molecular-translation -f submission.csv -m \"My submission message\""
   ]
  }
 ],
 "metadata": {
  "kernelspec": {
   "display_name": "Python 3",
   "language": "python",
   "name": "python3"
  },
  "language_info": {
   "codemirror_mode": {
    "name": "ipython",
    "version": 3
   },
   "file_extension": ".py",
   "mimetype": "text/x-python",
   "name": "python",
   "nbconvert_exporter": "python",
   "pygments_lexer": "ipython3",
   "version": "3.8.2"
  },
  "toc": {
   "base_numbering": 1,
   "nav_menu": {},
   "number_sections": true,
   "sideBar": true,
   "skip_h1_title": false,
   "title_cell": "Table of Contents",
   "title_sidebar": "Contents",
   "toc_cell": false,
   "toc_position": {},
   "toc_section_display": true,
   "toc_window_display": false
  }
 },
 "nbformat": 4,
 "nbformat_minor": 4
}
