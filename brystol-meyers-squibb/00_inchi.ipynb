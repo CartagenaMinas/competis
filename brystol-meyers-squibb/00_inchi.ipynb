{
 "cells": [
  {
   "cell_type": "markdown",
   "metadata": {},
   "source": [
    "https://en.wikipedia.org/wiki/International_Chemical_Identifier\n",
    "\n",
    "- identificador de sustancias químicas, diseñado para proporcionar una forma estándar y legible de codificar la información molecular y para facilitar la búsqueda de información en bases de datos y en la web.\n",
    "- The first, main, layer of the InChI refers to this core parent structure, giving its chemical formula, non-hydrogen connectivity without bond order (/c sublayer) and hydrogen connectivity (/h sublayer.) The /q portion of the charge layer gives its charge, and the /p portion of the charge layer tells how many protons (hydrogen ions) must be added to or removed from it to regenerate the original structure. If present, the stereochemical layer, with sublayers /b, /t, /m and /s, gives stereochemical information, and the isotopic layer /i (which may contain sublayers /h, /b, /t, /m and /s) gives isotopic information. These are the only layers which can occur in a standard InChI.\n",
    "- Every InChI starts with the string \"InChI=\" followed by the version number, currently 1. If the InChI is standard, this is followed by the letter S for standard InChIs, which is a fully standardized InChI flavor maintaining the same level of attention to structure details and the same conventions for drawing perception. "
   ]
  },
  {
   "cell_type": "code",
   "execution_count": 1,
   "metadata": {
    "ExecuteTime": {
     "end_time": "2021-03-10T17:23:47.436165Z",
     "start_time": "2021-03-10T17:23:47.428074Z"
    }
   },
   "outputs": [
    {
     "data": {
      "text/plain": [
       "['sample_submission.csv', 'test', 'train', 'train_labels.csv']"
      ]
     },
     "execution_count": 1,
     "metadata": {},
     "output_type": "execute_result"
    }
   ],
   "source": [
    "import os\n",
    "from pathlib import Path\n",
    "\n",
    "path = Path('data')\n",
    "os.listdir(path)"
   ]
  },
  {
   "cell_type": "code",
   "execution_count": 2,
   "metadata": {
    "ExecuteTime": {
     "end_time": "2021-03-10T17:23:52.221936Z",
     "start_time": "2021-03-10T17:23:47.614052Z"
    }
   },
   "outputs": [
    {
     "data": {
      "text/html": [
       "<div>\n",
       "<style scoped>\n",
       "    .dataframe tbody tr th:only-of-type {\n",
       "        vertical-align: middle;\n",
       "    }\n",
       "\n",
       "    .dataframe tbody tr th {\n",
       "        vertical-align: top;\n",
       "    }\n",
       "\n",
       "    .dataframe thead th {\n",
       "        text-align: right;\n",
       "    }\n",
       "</style>\n",
       "<table border=\"1\" class=\"dataframe\">\n",
       "  <thead>\n",
       "    <tr style=\"text-align: right;\">\n",
       "      <th></th>\n",
       "      <th>image_id</th>\n",
       "      <th>InChI</th>\n",
       "    </tr>\n",
       "  </thead>\n",
       "  <tbody>\n",
       "    <tr>\n",
       "      <th>0</th>\n",
       "      <td>000011a64c74</td>\n",
       "      <td>InChI=1S/C13H20OS/c1-9(2)8-15-13-6-5-10(3)7-12...</td>\n",
       "    </tr>\n",
       "    <tr>\n",
       "      <th>1</th>\n",
       "      <td>000019cc0cd2</td>\n",
       "      <td>InChI=1S/C21H30O4/c1-12(22)25-14-6-8-20(2)13(1...</td>\n",
       "    </tr>\n",
       "    <tr>\n",
       "      <th>2</th>\n",
       "      <td>0000252b6d2b</td>\n",
       "      <td>InChI=1S/C24H23N5O4/c1-14-13-15(7-8-17(14)28-1...</td>\n",
       "    </tr>\n",
       "    <tr>\n",
       "      <th>3</th>\n",
       "      <td>000026b49b7e</td>\n",
       "      <td>InChI=1S/C17H24N2O4S/c1-12(20)18-13(14-7-6-10-...</td>\n",
       "    </tr>\n",
       "    <tr>\n",
       "      <th>4</th>\n",
       "      <td>000026fc6c36</td>\n",
       "      <td>InChI=1S/C10H19N3O2S/c1-15-10(14)12-8-4-6-13(7...</td>\n",
       "    </tr>\n",
       "    <tr>\n",
       "      <th>...</th>\n",
       "      <td>...</td>\n",
       "      <td>...</td>\n",
       "    </tr>\n",
       "    <tr>\n",
       "      <th>2424181</th>\n",
       "      <td>ffffe824f539</td>\n",
       "      <td>InChI=1S/C10H12F2N2O3/c1-17-7-2-5(3-8(15)16)9(...</td>\n",
       "    </tr>\n",
       "    <tr>\n",
       "      <th>2424182</th>\n",
       "      <td>ffffea1ebdfa</td>\n",
       "      <td>InChI=1S/C19H20F2N4O3S/c1-10(8-20)28-14-7-12(2...</td>\n",
       "    </tr>\n",
       "    <tr>\n",
       "      <th>2424183</th>\n",
       "      <td>ffffee2b4534</td>\n",
       "      <td>InChI=1S/C22H26Cl2N2O4S/c1-16-6-2-3-10-21(16)3...</td>\n",
       "    </tr>\n",
       "    <tr>\n",
       "      <th>2424184</th>\n",
       "      <td>fffff0b6eea6</td>\n",
       "      <td>InChI=1S/C17H26N2O6S/c1-23-16-12-14(4-5-15(16)...</td>\n",
       "    </tr>\n",
       "    <tr>\n",
       "      <th>2424185</th>\n",
       "      <td>fffff608dd38</td>\n",
       "      <td>InChI=1S/C10H18N2O9P2/c1-7-10(13)9(5-11-2-3-20...</td>\n",
       "    </tr>\n",
       "  </tbody>\n",
       "</table>\n",
       "<p>2424186 rows × 2 columns</p>\n",
       "</div>"
      ],
      "text/plain": [
       "             image_id                                              InChI\n",
       "0        000011a64c74  InChI=1S/C13H20OS/c1-9(2)8-15-13-6-5-10(3)7-12...\n",
       "1        000019cc0cd2  InChI=1S/C21H30O4/c1-12(22)25-14-6-8-20(2)13(1...\n",
       "2        0000252b6d2b  InChI=1S/C24H23N5O4/c1-14-13-15(7-8-17(14)28-1...\n",
       "3        000026b49b7e  InChI=1S/C17H24N2O4S/c1-12(20)18-13(14-7-6-10-...\n",
       "4        000026fc6c36  InChI=1S/C10H19N3O2S/c1-15-10(14)12-8-4-6-13(7...\n",
       "...               ...                                                ...\n",
       "2424181  ffffe824f539  InChI=1S/C10H12F2N2O3/c1-17-7-2-5(3-8(15)16)9(...\n",
       "2424182  ffffea1ebdfa  InChI=1S/C19H20F2N4O3S/c1-10(8-20)28-14-7-12(2...\n",
       "2424183  ffffee2b4534  InChI=1S/C22H26Cl2N2O4S/c1-16-6-2-3-10-21(16)3...\n",
       "2424184  fffff0b6eea6  InChI=1S/C17H26N2O6S/c1-23-16-12-14(4-5-15(16)...\n",
       "2424185  fffff608dd38  InChI=1S/C10H18N2O9P2/c1-7-10(13)9(5-11-2-3-20...\n",
       "\n",
       "[2424186 rows x 2 columns]"
      ]
     },
     "execution_count": 2,
     "metadata": {},
     "output_type": "execute_result"
    }
   ],
   "source": [
    "import pandas as pd\n",
    "\n",
    "train_labels = pd.read_csv(path / 'train_labels.csv')\n",
    "train_labels"
   ]
  },
  {
   "cell_type": "code",
   "execution_count": 3,
   "metadata": {
    "ExecuteTime": {
     "end_time": "2021-03-10T17:23:55.379958Z",
     "start_time": "2021-03-10T17:23:55.355095Z"
    }
   },
   "outputs": [
    {
     "data": {
      "text/plain": [
       "'InChI=1S/C13H20OS/c1-9(2)8-15-13-6-5-10(3)7-12(13)11(4)14/h5-7,9,11,14H,8H2,1-4H3'"
      ]
     },
     "execution_count": 3,
     "metadata": {},
     "output_type": "execute_result"
    }
   ],
   "source": [
    "train_labels.InChI[0]"
   ]
  },
  {
   "cell_type": "code",
   "execution_count": 3,
   "metadata": {
    "ExecuteTime": {
     "end_time": "2021-03-10T10:58:46.036529Z",
     "start_time": "2021-03-10T10:58:45.848530Z"
    }
   },
   "outputs": [
    {
     "data": {
      "text/plain": [
       "image_id    0\n",
       "InChI       0\n",
       "dtype: int64"
      ]
     },
     "execution_count": 3,
     "metadata": {},
     "output_type": "execute_result"
    }
   ],
   "source": [
    "train_labels.isna().sum()"
   ]
  },
  {
   "cell_type": "code",
   "execution_count": 4,
   "metadata": {
    "ExecuteTime": {
     "end_time": "2021-03-10T10:58:46.558562Z",
     "start_time": "2021-03-10T10:58:46.037530Z"
    }
   },
   "outputs": [],
   "source": [
    "from tqdm import tqdm\n",
    "\n",
    "lenghts = train_labels.InChI.map(len)"
   ]
  },
  {
   "cell_type": "code",
   "execution_count": 5,
   "metadata": {
    "ExecuteTime": {
     "end_time": "2021-03-10T10:58:46.778614Z",
     "start_time": "2021-03-10T10:58:46.559562Z"
    }
   },
   "outputs": [
    {
     "data": {
      "image/png": "[encoded data removed]",
      "text/plain": [
       "<Figure size 576x504 with 1 Axes>"
      ]
     },
     "metadata": {},
     "output_type": "display_data"
    }
   ],
   "source": [
    "plt.hist(lenghts, bins=50)\n",
    "plt.title(\"InChI length Distribution\", fontsize=14);\n",
    "plt.show()"
   ]
  },
  {
   "cell_type": "code",
   "execution_count": 6,
   "metadata": {
    "ExecuteTime": {
     "end_time": "2021-03-10T10:58:46.794128Z",
     "start_time": "2021-03-10T10:58:46.779572Z"
    }
   },
   "outputs": [
    {
     "data": {
      "text/plain": [
       "(403, 32)"
      ]
     },
     "execution_count": 6,
     "metadata": {},
     "output_type": "execute_result"
    }
   ],
   "source": [
    "lenghts.max(), lenghts.min()"
   ]
  },
  {
   "cell_type": "code",
   "execution_count": 7,
   "metadata": {
    "ExecuteTime": {
     "end_time": "2021-03-10T10:58:50.432159Z",
     "start_time": "2021-03-10T10:58:46.795127Z"
    }
   },
   "outputs": [],
   "source": [
    "parts = train_labels.InChI.map(lambda x: x.split('/'))"
   ]
  },
  {
   "cell_type": "code",
   "execution_count": 8,
   "metadata": {
    "ExecuteTime": {
     "end_time": "2021-03-10T10:58:51.020154Z",
     "start_time": "2021-03-10T10:58:50.434158Z"
    }
   },
   "outputs": [
    {
     "data": {
      "text/plain": [
       "(11, 3)"
      ]
     },
     "execution_count": 8,
     "metadata": {},
     "output_type": "execute_result"
    }
   ],
   "source": [
    "parts_lengths = parts.map(len)\n",
    "parts_lengths.max(), parts_lengths.min()"
   ]
  },
  {
   "cell_type": "code",
   "execution_count": 9,
   "metadata": {
    "ExecuteTime": {
     "end_time": "2021-03-10T10:58:51.174154Z",
     "start_time": "2021-03-10T10:58:51.022156Z"
    }
   },
   "outputs": [
    {
     "data": {
      "image/png": "[encoded data removed]",
      "text/plain": [
       "<Figure size 576x504 with 1 Axes>"
      ]
     },
     "metadata": {},
     "output_type": "display_data"
    }
   ],
   "source": [
    "plt.hist(parts_lengths, bins=11)\n",
    "plt.title(\"InChI length Distribution\", fontsize=14);\n",
    "plt.show()"
   ]
  },
  {
   "cell_type": "code",
   "execution_count": 10,
   "metadata": {
    "ExecuteTime": {
     "end_time": "2021-03-10T10:58:51.206154Z",
     "start_time": "2021-03-10T10:58:51.175154Z"
    }
   },
   "outputs": [
    {
     "data": {
      "text/plain": [
       "4     1893702\n",
       "7      371839\n",
       "5      133623\n",
       "8       24162\n",
       "6         398\n",
       "3         307\n",
       "9         127\n",
       "10         27\n",
       "11          1\n",
       "Name: InChI, dtype: int64"
      ]
     },
     "execution_count": 10,
     "metadata": {},
     "output_type": "execute_result"
    }
   ],
   "source": [
    "parts_lengths.value_counts()"
   ]
  },
  {
   "cell_type": "code",
   "execution_count": 11,
   "metadata": {
    "ExecuteTime": {
     "end_time": "2021-03-10T10:58:51.238154Z",
     "start_time": "2021-03-10T10:58:51.207155Z"
    }
   },
   "outputs": [
    {
     "data": {
      "text/plain": [
       "4     78.117026\n",
       "7     15.338716\n",
       "5      5.512077\n",
       "8      0.996706\n",
       "6      0.016418\n",
       "3      0.012664\n",
       "9      0.005239\n",
       "10     0.001114\n",
       "11     0.000041\n",
       "Name: InChI, dtype: float64"
      ]
     },
     "execution_count": 11,
     "metadata": {},
     "output_type": "execute_result"
    }
   ],
   "source": [
    "parts_lengths.value_counts()*100 / len(parts_lengths)"
   ]
  },
  {
   "cell_type": "code",
   "execution_count": 12,
   "metadata": {
    "ExecuteTime": {
     "end_time": "2021-03-10T10:58:52.076155Z",
     "start_time": "2021-03-10T10:58:51.239155Z"
    }
   },
   "outputs": [
    {
     "data": {
      "text/plain": [
       "(array(['InChI=1S'], dtype=object),\n",
       " 0    InChI=1S\n",
       " dtype: object)"
      ]
     },
     "execution_count": 12,
     "metadata": {},
     "output_type": "execute_result"
    }
   ],
   "source": [
    "part1 = parts.map(lambda x: x[0])\n",
    "part1.unique(), part1.mode()"
   ]
  },
  {
   "cell_type": "code",
   "execution_count": 13,
   "metadata": {
    "ExecuteTime": {
     "end_time": "2021-03-10T10:58:52.458155Z",
     "start_time": "2021-03-10T10:58:52.077155Z"
    }
   },
   "outputs": [],
   "source": [
    "part2 = parts.map(lambda x: x[1])"
   ]
  },
  {
   "cell_type": "code",
   "execution_count": 14,
   "metadata": {
    "ExecuteTime": {
     "end_time": "2021-03-10T10:58:52.926154Z",
     "start_time": "2021-03-10T10:58:52.459155Z"
    }
   },
   "outputs": [
    {
     "data": {
      "text/plain": [
       "329768"
      ]
     },
     "execution_count": 14,
     "metadata": {},
     "output_type": "execute_result"
    }
   ],
   "source": [
    "len(part2.unique())"
   ]
  },
  {
   "cell_type": "code",
   "execution_count": 15,
   "metadata": {
    "ExecuteTime": {
     "end_time": "2021-03-10T10:58:53.946161Z",
     "start_time": "2021-03-10T10:58:52.927155Z"
    }
   },
   "outputs": [
    {
     "data": {
      "text/plain": [
       "C15H22N2O2    1391\n",
       "C16H24N2O2    1312\n",
       "C14H20N2O2    1214\n",
       "C17H26N2O2    1102\n",
       "C14H22N2O2    1065\n",
       "C16H22N2O3    1043\n",
       "C15H24N2O2    1040\n",
       "C16H26N2O     1014\n",
       "C15H24N2O     1012\n",
       "C15H22N2O3    1006\n",
       "Name: InChI, dtype: int64"
      ]
     },
     "execution_count": 15,
     "metadata": {},
     "output_type": "execute_result"
    }
   ],
   "source": [
    "part2.value_counts()[:10].sort_values(ascending=False)"
   ]
  },
  {
   "cell_type": "code",
   "execution_count": 16,
   "metadata": {
    "ExecuteTime": {
     "end_time": "2021-03-10T10:58:54.638157Z",
     "start_time": "2021-03-10T10:58:53.947158Z"
    }
   },
   "outputs": [
    {
     "data": {
      "image/png": "[encoded data removed]",
      "text/plain": [
       "<Figure size 576x504 with 1 Axes>"
      ]
     },
     "metadata": {},
     "output_type": "display_data"
    },
    {
     "data": {
      "text/plain": [
       "(20, 4)"
      ]
     },
     "execution_count": 16,
     "metadata": {},
     "output_type": "execute_result"
    }
   ],
   "source": [
    "part2_lengths = part2.map(len)\n",
    "plt.hist(part2_lengths, bins=20)\n",
    "plt.show()\n",
    "part2_lengths.max(), part2_lengths.min()"
   ]
  },
  {
   "cell_type": "code",
   "execution_count": 17,
   "metadata": {
    "ExecuteTime": {
     "end_time": "2021-03-10T10:58:54.686155Z",
     "start_time": "2021-03-10T10:58:54.639160Z"
    }
   },
   "outputs": [
    {
     "data": {
      "text/plain": [
       "(10    725832\n",
       " 11    498981\n",
       " 9     395756\n",
       " 12    326218\n",
       " 8     202800\n",
       " 13    157428\n",
       " 14     61322\n",
       " 7      31651\n",
       " 15     17703\n",
       " 16      3903\n",
       " 6       1899\n",
       " 17       551\n",
       " 18        64\n",
       " 5         62\n",
       " 19        10\n",
       " 4          4\n",
       " 20         2\n",
       " Name: InChI, dtype: int64,\n",
       " 10    29.941267\n",
       " 11    20.583445\n",
       " 9     16.325315\n",
       " 12    13.456806\n",
       " 8      8.365695\n",
       " 13     6.494056\n",
       " 14     2.529591\n",
       " 7      1.305634\n",
       " 15     0.730266\n",
       " 16     0.161002\n",
       " 6      0.078336\n",
       " 17     0.022729\n",
       " 18     0.002640\n",
       " 5      0.002558\n",
       " 19     0.000413\n",
       " 4      0.000165\n",
       " 20     0.000083\n",
       " Name: InChI, dtype: float64)"
      ]
     },
     "execution_count": 17,
     "metadata": {},
     "output_type": "execute_result"
    }
   ],
   "source": [
    "part2_lengths.value_counts(), part2_lengths.value_counts()*100 / len(part2_lengths)"
   ]
  },
  {
   "cell_type": "code",
   "execution_count": 18,
   "metadata": {
    "ExecuteTime": {
     "end_time": "2021-03-10T10:58:59.196158Z",
     "start_time": "2021-03-10T10:58:54.690155Z"
    }
   },
   "outputs": [
    {
     "data": {
      "text/plain": [
       "(2359241,\n",
       " c1-2-3-4-5-6-7-8-9-10-11-12-13-14-15-16-17-18(19)20                                                                                                                                           40\n",
       " c1-2-3-4-5-6-7-8-9-10-11-12-13-14-15-16-17-18-19-20(21)22                                                                                                                                     26\n",
       " c1-13(22)17-6-7-18-16-5-4-14-12-15(23)8-10-20(14,2)19(16)9-11-21(17,18)3                                                                                                                      25\n",
       " c1-2-3-4-5-6-7-8-9-10-11-12-13-14-15-16-17-18-19-20-21-22(23)24                                                                                                                               22\n",
       " c1-18-9-7-13(20)11-12(18)3-4-14-15-5-6-17(21)19(15,2)10-8-16(14)18                                                                                                                            18\n",
       " c1-4-7-10-13-16-19-22-25-27-28-29-30-32-34-37-40-43-46-49-52-58(61)64-55-56(54-63-57(60)51-48-45-42-39-36-33-24-21-18-15-12-9-6-3)65-59(62)53-50-47-44-41-38-35-31-26-23-20-17-14-11-8-5-2    17\n",
       " c1-4-7-10-13-16-19-22-25-28-29-32-34-37-40-43-46-49-52-58(61)64-55-56(65-59(62)53-50-47-44-41-38-35-31-27-24-21-18-15-12-9-6-3)54-63-57(60)51-48-45-42-39-36-33-30-26-23-20-17-14-11-8-5-2    17\n",
       " c1-2-3-6-9-15(21)12-13-17-16(18(22)14-19(17)23)10-7-4-5-8-11-20(24)25                                                                                                                         16\n",
       " c1-18(2)7-6-8-19(3)23-11-12-24-22-10-9-20-17-21(28)13-15-26(20,4)25(22)14-16-27(23,24)5                                                                                                       16\n",
       " c1-18(2)19(3)7-8-20(4)24-11-12-25-23-10-9-21-17-22(29)13-15-27(21,5)26(23)14-16-28(24,25)6                                                                                                    14\n",
       " Name: InChI, dtype: int64)"
      ]
     },
     "execution_count": 18,
     "metadata": {},
     "output_type": "execute_result"
    }
   ],
   "source": [
    "part3 = parts.map(lambda x: x[2])\n",
    "len(part3.unique()), part3.value_counts()[:10].sort_values(ascending=False)"
   ]
  },
  {
   "cell_type": "code",
   "execution_count": 19,
   "metadata": {
    "ExecuteTime": {
     "end_time": "2021-03-10T10:59:00.128159Z",
     "start_time": "2021-03-10T10:58:59.198161Z"
    }
   },
   "outputs": [
    {
     "data": {
      "image/png": "[encoded data removed]",
      "text/plain": [
       "<Figure size 576x504 with 1 Axes>"
      ]
     },
     "metadata": {},
     "output_type": "display_data"
    },
    {
     "data": {
      "text/plain": [
       "(267, 4)"
      ]
     },
     "execution_count": 19,
     "metadata": {},
     "output_type": "execute_result"
    }
   ],
   "source": [
    "part3_lengths = part3.map(len)\n",
    "plt.hist(part3_lengths, bins=part3_lengths.max())\n",
    "plt.show()\n",
    "part3_lengths.max(), part3_lengths.min()"
   ]
  },
  {
   "cell_type": "code",
   "execution_count": 20,
   "metadata": {
    "ExecuteTime": {
     "end_time": "2021-03-10T10:59:00.190157Z",
     "start_time": "2021-03-10T10:59:00.131159Z"
    }
   },
   "outputs": [
    {
     "data": {
      "text/plain": [
       "(60     116474\n",
       " 57     114208\n",
       " 54     102616\n",
       " 78      90565\n",
       " 75      90477\n",
       "         ...  \n",
       " 200         1\n",
       " 209         1\n",
       " 215         1\n",
       " 218         1\n",
       " 4           1\n",
       " Name: InChI, Length: 192, dtype: int64,\n",
       " 60     4.804664\n",
       " 57     4.711190\n",
       " 54     4.233009\n",
       " 78     3.735893\n",
       " 75     3.732263\n",
       "          ...   \n",
       " 200    0.000041\n",
       " 209    0.000041\n",
       " 215    0.000041\n",
       " 218    0.000041\n",
       " 4      0.000041\n",
       " Name: InChI, Length: 192, dtype: float64)"
      ]
     },
     "execution_count": 20,
     "metadata": {},
     "output_type": "execute_result"
    }
   ],
   "source": [
    "part3_lengths.value_counts(), part3_lengths.value_counts()*100 / len(part3_lengths)"
   ]
  },
  {
   "cell_type": "code",
   "execution_count": 21,
   "metadata": {
    "ExecuteTime": {
     "end_time": "2021-03-10T10:59:03.738155Z",
     "start_time": "2021-03-10T10:59:00.191155Z"
    }
   },
   "outputs": [
    {
     "data": {
      "text/plain": [
       "(1497256,\n",
       " h2-8H,1H3       1257\n",
       " h2-7H,1H3       1170\n",
       " h3-8H,1-2H3     1136\n",
       " h2-9H,1H3       1113\n",
       " h2-6H,1H3       1084\n",
       " h3-10H,1-2H3    1070\n",
       " h3-7H,1-2H3     1038\n",
       " h2-10H,1H3      1037\n",
       " h3-6H,1-2H3     1037\n",
       " h2-5H,1H3       1036\n",
       " Name: InChI, dtype: int64)"
      ]
     },
     "execution_count": 21,
     "metadata": {},
     "output_type": "execute_result"
    }
   ],
   "source": [
    "part4 = parts.map(lambda x: x[3] if len(x) > 3 else None)\n",
    "len(part4.unique()), part4.value_counts()[:10].sort_values(ascending=False)"
   ]
  },
  {
   "cell_type": "code",
   "execution_count": 22,
   "metadata": {
    "ExecuteTime": {
     "end_time": "2021-03-10T10:59:03.753156Z",
     "start_time": "2021-03-10T10:59:03.739156Z"
    }
   },
   "outputs": [],
   "source": [
    "# basline: inchi más común"
   ]
  },
  {
   "cell_type": "code",
   "execution_count": 23,
   "metadata": {
    "ExecuteTime": {
     "end_time": "2021-03-10T10:59:04.554161Z",
     "start_time": "2021-03-10T10:59:03.755155Z"
    }
   },
   "outputs": [
    {
     "data": {
      "text/html": [
       "<div>\n",
       "<style scoped>\n",
       "    .dataframe tbody tr th:only-of-type {\n",
       "        vertical-align: middle;\n",
       "    }\n",
       "\n",
       "    .dataframe tbody tr th {\n",
       "        vertical-align: top;\n",
       "    }\n",
       "\n",
       "    .dataframe thead th {\n",
       "        text-align: right;\n",
       "    }\n",
       "</style>\n",
       "<table border=\"1\" class=\"dataframe\">\n",
       "  <thead>\n",
       "    <tr style=\"text-align: right;\">\n",
       "      <th></th>\n",
       "      <th>image_id</th>\n",
       "      <th>InChI</th>\n",
       "    </tr>\n",
       "  </thead>\n",
       "  <tbody>\n",
       "    <tr>\n",
       "      <th>0</th>\n",
       "      <td>00000d2a601c</td>\n",
       "      <td>InChI=1S/H2O/h1H2</td>\n",
       "    </tr>\n",
       "    <tr>\n",
       "      <th>1</th>\n",
       "      <td>00001f7fc849</td>\n",
       "      <td>InChI=1S/H2O/h1H2</td>\n",
       "    </tr>\n",
       "    <tr>\n",
       "      <th>2</th>\n",
       "      <td>000037687605</td>\n",
       "      <td>InChI=1S/H2O/h1H2</td>\n",
       "    </tr>\n",
       "    <tr>\n",
       "      <th>3</th>\n",
       "      <td>00004b6d55b6</td>\n",
       "      <td>InChI=1S/H2O/h1H2</td>\n",
       "    </tr>\n",
       "    <tr>\n",
       "      <th>4</th>\n",
       "      <td>00004df0fe53</td>\n",
       "      <td>InChI=1S/H2O/h1H2</td>\n",
       "    </tr>\n",
       "    <tr>\n",
       "      <th>...</th>\n",
       "      <td>...</td>\n",
       "      <td>...</td>\n",
       "    </tr>\n",
       "    <tr>\n",
       "      <th>1616102</th>\n",
       "      <td>ffffcdb2e39e</td>\n",
       "      <td>InChI=1S/H2O/h1H2</td>\n",
       "    </tr>\n",
       "    <tr>\n",
       "      <th>1616103</th>\n",
       "      <td>ffffcfddd770</td>\n",
       "      <td>InChI=1S/H2O/h1H2</td>\n",
       "    </tr>\n",
       "    <tr>\n",
       "      <th>1616104</th>\n",
       "      <td>ffffe4ab06b2</td>\n",
       "      <td>InChI=1S/H2O/h1H2</td>\n",
       "    </tr>\n",
       "    <tr>\n",
       "      <th>1616105</th>\n",
       "      <td>ffffec4033ec</td>\n",
       "      <td>InChI=1S/H2O/h1H2</td>\n",
       "    </tr>\n",
       "    <tr>\n",
       "      <th>1616106</th>\n",
       "      <td>fffffbebd4f5</td>\n",
       "      <td>InChI=1S/H2O/h1H2</td>\n",
       "    </tr>\n",
       "  </tbody>\n",
       "</table>\n",
       "<p>1616107 rows × 2 columns</p>\n",
       "</div>"
      ],
      "text/plain": [
       "             image_id              InChI\n",
       "0        00000d2a601c  InChI=1S/H2O/h1H2\n",
       "1        00001f7fc849  InChI=1S/H2O/h1H2\n",
       "2        000037687605  InChI=1S/H2O/h1H2\n",
       "3        00004b6d55b6  InChI=1S/H2O/h1H2\n",
       "4        00004df0fe53  InChI=1S/H2O/h1H2\n",
       "...               ...                ...\n",
       "1616102  ffffcdb2e39e  InChI=1S/H2O/h1H2\n",
       "1616103  ffffcfddd770  InChI=1S/H2O/h1H2\n",
       "1616104  ffffe4ab06b2  InChI=1S/H2O/h1H2\n",
       "1616105  ffffec4033ec  InChI=1S/H2O/h1H2\n",
       "1616106  fffffbebd4f5  InChI=1S/H2O/h1H2\n",
       "\n",
       "[1616107 rows x 2 columns]"
      ]
     },
     "execution_count": 23,
     "metadata": {},
     "output_type": "execute_result"
    }
   ],
   "source": [
    "sample_submission = pd.read_csv(path / 'sample_submission.csv')\n",
    "sample_submission"
   ]
  },
  {
   "cell_type": "code",
   "execution_count": 24,
   "metadata": {
    "ExecuteTime": {
     "end_time": "2021-03-10T10:59:07.771159Z",
     "start_time": "2021-03-10T10:59:04.556158Z"
    }
   },
   "outputs": [
    {
     "data": {
      "text/plain": [
       "'InChI=1S/C15H22N2O2/c1-2-3-4-5-6-7-8-9-10-11-12-13-14-15-16-17-18(19)20/h2-8H,1H3'"
      ]
     },
     "execution_count": 24,
     "metadata": {},
     "output_type": "execute_result"
    }
   ],
   "source": [
    "most_freq_part1 = part1.mode().values[0]\n",
    "most_freq_part2 = part2.mode().values[0]\n",
    "most_freq_part3 = part3.mode().values[0]\n",
    "most_freq_part4 = part4.mode().values[0]\n",
    "\n",
    "most_freq_inchi = f'{most_freq_part1}/{most_freq_part2}/{most_freq_part3}/{most_freq_part4}'\n",
    "most_freq_inchi"
   ]
  },
  {
   "cell_type": "code",
   "execution_count": 25,
   "metadata": {
    "ExecuteTime": {
     "end_time": "2021-03-10T10:59:07.802156Z",
     "start_time": "2021-03-10T10:59:07.772157Z"
    }
   },
   "outputs": [
    {
     "data": {
      "text/html": [
       "<div>\n",
       "<style scoped>\n",
       "    .dataframe tbody tr th:only-of-type {\n",
       "        vertical-align: middle;\n",
       "    }\n",
       "\n",
       "    .dataframe tbody tr th {\n",
       "        vertical-align: top;\n",
       "    }\n",
       "\n",
       "    .dataframe thead th {\n",
       "        text-align: right;\n",
       "    }\n",
       "</style>\n",
       "<table border=\"1\" class=\"dataframe\">\n",
       "  <thead>\n",
       "    <tr style=\"text-align: right;\">\n",
       "      <th></th>\n",
       "      <th>image_id</th>\n",
       "      <th>InChI</th>\n",
       "    </tr>\n",
       "  </thead>\n",
       "  <tbody>\n",
       "    <tr>\n",
       "      <th>0</th>\n",
       "      <td>00000d2a601c</td>\n",
       "      <td>InChI=1S/C15H22N2O2/c1-2-3-4-5-6-7-8-9-10-11-1...</td>\n",
       "    </tr>\n",
       "    <tr>\n",
       "      <th>1</th>\n",
       "      <td>00001f7fc849</td>\n",
       "      <td>InChI=1S/C15H22N2O2/c1-2-3-4-5-6-7-8-9-10-11-1...</td>\n",
       "    </tr>\n",
       "    <tr>\n",
       "      <th>2</th>\n",
       "      <td>000037687605</td>\n",
       "      <td>InChI=1S/C15H22N2O2/c1-2-3-4-5-6-7-8-9-10-11-1...</td>\n",
       "    </tr>\n",
       "    <tr>\n",
       "      <th>3</th>\n",
       "      <td>00004b6d55b6</td>\n",
       "      <td>InChI=1S/C15H22N2O2/c1-2-3-4-5-6-7-8-9-10-11-1...</td>\n",
       "    </tr>\n",
       "    <tr>\n",
       "      <th>4</th>\n",
       "      <td>00004df0fe53</td>\n",
       "      <td>InChI=1S/C15H22N2O2/c1-2-3-4-5-6-7-8-9-10-11-1...</td>\n",
       "    </tr>\n",
       "    <tr>\n",
       "      <th>...</th>\n",
       "      <td>...</td>\n",
       "      <td>...</td>\n",
       "    </tr>\n",
       "    <tr>\n",
       "      <th>1616102</th>\n",
       "      <td>ffffcdb2e39e</td>\n",
       "      <td>InChI=1S/C15H22N2O2/c1-2-3-4-5-6-7-8-9-10-11-1...</td>\n",
       "    </tr>\n",
       "    <tr>\n",
       "      <th>1616103</th>\n",
       "      <td>ffffcfddd770</td>\n",
       "      <td>InChI=1S/C15H22N2O2/c1-2-3-4-5-6-7-8-9-10-11-1...</td>\n",
       "    </tr>\n",
       "    <tr>\n",
       "      <th>1616104</th>\n",
       "      <td>ffffe4ab06b2</td>\n",
       "      <td>InChI=1S/C15H22N2O2/c1-2-3-4-5-6-7-8-9-10-11-1...</td>\n",
       "    </tr>\n",
       "    <tr>\n",
       "      <th>1616105</th>\n",
       "      <td>ffffec4033ec</td>\n",
       "      <td>InChI=1S/C15H22N2O2/c1-2-3-4-5-6-7-8-9-10-11-1...</td>\n",
       "    </tr>\n",
       "    <tr>\n",
       "      <th>1616106</th>\n",
       "      <td>fffffbebd4f5</td>\n",
       "      <td>InChI=1S/C15H22N2O2/c1-2-3-4-5-6-7-8-9-10-11-1...</td>\n",
       "    </tr>\n",
       "  </tbody>\n",
       "</table>\n",
       "<p>1616107 rows × 2 columns</p>\n",
       "</div>"
      ],
      "text/plain": [
       "             image_id                                              InChI\n",
       "0        00000d2a601c  InChI=1S/C15H22N2O2/c1-2-3-4-5-6-7-8-9-10-11-1...\n",
       "1        00001f7fc849  InChI=1S/C15H22N2O2/c1-2-3-4-5-6-7-8-9-10-11-1...\n",
       "2        000037687605  InChI=1S/C15H22N2O2/c1-2-3-4-5-6-7-8-9-10-11-1...\n",
       "3        00004b6d55b6  InChI=1S/C15H22N2O2/c1-2-3-4-5-6-7-8-9-10-11-1...\n",
       "4        00004df0fe53  InChI=1S/C15H22N2O2/c1-2-3-4-5-6-7-8-9-10-11-1...\n",
       "...               ...                                                ...\n",
       "1616102  ffffcdb2e39e  InChI=1S/C15H22N2O2/c1-2-3-4-5-6-7-8-9-10-11-1...\n",
       "1616103  ffffcfddd770  InChI=1S/C15H22N2O2/c1-2-3-4-5-6-7-8-9-10-11-1...\n",
       "1616104  ffffe4ab06b2  InChI=1S/C15H22N2O2/c1-2-3-4-5-6-7-8-9-10-11-1...\n",
       "1616105  ffffec4033ec  InChI=1S/C15H22N2O2/c1-2-3-4-5-6-7-8-9-10-11-1...\n",
       "1616106  fffffbebd4f5  InChI=1S/C15H22N2O2/c1-2-3-4-5-6-7-8-9-10-11-1...\n",
       "\n",
       "[1616107 rows x 2 columns]"
      ]
     },
     "execution_count": 25,
     "metadata": {},
     "output_type": "execute_result"
    }
   ],
   "source": [
    "sample_submission.InChI = most_freq_inchi\n",
    "sample_submission"
   ]
  },
  {
   "cell_type": "code",
   "execution_count": 26,
   "metadata": {
    "ExecuteTime": {
     "end_time": "2021-03-10T10:59:11.075156Z",
     "start_time": "2021-03-10T10:59:07.803157Z"
    }
   },
   "outputs": [],
   "source": [
    "sample_submission.to_csv('submission.csv', index=False)"
   ]
  },
  {
   "cell_type": "code",
   "execution_count": 27,
   "metadata": {
    "ExecuteTime": {
     "end_time": "2021-03-10T10:59:19.010154Z",
     "start_time": "2021-03-10T10:59:11.076156Z"
    }
   },
   "outputs": [
    {
     "name": "stdout",
     "output_type": "stream",
     "text": [
      "Successfully submitted to Bristol-Myers Squibb – Molecular Translation\n"
     ]
    },
    {
     "name": "stderr",
     "output_type": "stream",
     "text": [
      "\n",
      "  0%|          | 0.00/151M [00:00<?, ?B/s]\n",
      "  0%|          | 96.0k/151M [00:00<02:49, 936kB/s]\n",
      "  2%|1         | 2.79M/151M [00:01<02:12, 1.17MB/s]\n",
      "  4%|3         | 5.45M/151M [00:01<01:32, 1.64MB/s]\n",
      " 12%|#2        | 18.4M/151M [00:01<00:59, 2.34MB/s]\n",
      " 18%|#7        | 26.6M/151M [00:01<00:39, 3.30MB/s]\n",
      " 23%|##2       | 34.1M/151M [00:01<00:26, 4.63MB/s]\n",
      " 27%|##6       | 40.2M/151M [00:01<00:18, 6.42MB/s]\n",
      " 31%|###       | 46.4M/151M [00:02<00:17, 6.42MB/s]\n",
      " 36%|###5      | 53.9M/151M [00:02<00:11, 8.87MB/s]\n",
      " 39%|###9      | 59.3M/151M [00:02<00:08, 10.8MB/s]\n",
      " 44%|####4     | 66.7M/151M [00:03<00:06, 14.6MB/s]\n",
      " 48%|####7     | 72.1M/151M [00:03<00:05, 16.5MB/s]\n",
      " 52%|#####2    | 78.8M/151M [00:03<00:03, 21.4MB/s]\n",
      " 57%|#####7    | 86.3M/151M [00:03<00:02, 27.4MB/s]\n",
      " 61%|######    | 92.1M/151M [00:03<00:02, 26.9MB/s]\n",
      " 65%|######4   | 97.8M/151M [00:03<00:01, 32.2MB/s]\n",
      " 68%|######8   | 103M/151M [00:04<00:01, 30.2MB/s] \n",
      " 73%|#######2  | 110M/151M [00:04<00:01, 36.9MB/s]\n",
      " 76%|#######6  | 115M/151M [00:04<00:00, 38.7MB/s]\n",
      " 79%|#######9  | 120M/151M [00:04<00:00, 35.2MB/s]\n",
      " 84%|########4 | 127M/151M [00:04<00:00, 42.1MB/s]\n",
      " 88%|########8 | 133M/151M [00:04<00:00, 46.4MB/s]\n",
      " 92%|#########1| 139M/151M [00:04<00:00, 39.1MB/s]\n",
      " 96%|#########6| 146M/151M [00:04<00:00, 44.9MB/s]\n",
      "100%|#########9| 151M/151M [00:05<00:00, 34.9MB/s]\n",
      "100%|##########| 151M/151M [00:06<00:00, 24.1MB/s]\n"
     ]
    }
   ],
   "source": [
    "#!kaggle competitions list\n",
    "#!kaggle competitions submit bms-molecular-translation -f submission.csv -m \"most frequent\""
   ]
  }
 ],
 "metadata": {
  "kernelspec": {
   "display_name": "Python 3",
   "language": "python",
   "name": "python3"
  },
  "language_info": {
   "codemirror_mode": {
    "name": "ipython",
    "version": 3
   },
   "file_extension": ".py",
   "mimetype": "text/x-python",
   "name": "python",
   "nbconvert_exporter": "python",
   "pygments_lexer": "ipython3",
   "version": "3.8.2"
  },
  "toc": {
   "base_numbering": 1,
   "nav_menu": {},
   "number_sections": true,
   "sideBar": true,
   "skip_h1_title": false,
   "title_cell": "Table of Contents",
   "title_sidebar": "Contents",
   "toc_cell": false,
   "toc_position": {},
   "toc_section_display": true,
   "toc_window_display": false
  }
 },
 "nbformat": 4,
 "nbformat_minor": 4
}
