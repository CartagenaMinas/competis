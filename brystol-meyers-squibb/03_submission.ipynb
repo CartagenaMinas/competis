{
 "cells": [
  {
   "cell_type": "code",
   "execution_count": 1,
   "metadata": {
    "ExecuteTime": {
     "end_time": "2021-03-10T14:36:55.364730Z",
     "start_time": "2021-03-10T14:36:55.313732Z"
    }
   },
   "outputs": [],
   "source": [
    "%load_ext autoreload\n",
    "%autoreload 2"
   ]
  },
  {
   "cell_type": "markdown",
   "metadata": {},
   "source": [
    "# Load model"
   ]
  },
  {
   "cell_type": "code",
   "execution_count": 5,
   "metadata": {
    "ExecuteTime": {
     "end_time": "2021-03-10T15:20:37.106591Z",
     "start_time": "2021-03-10T15:20:32.610592Z"
    }
   },
   "outputs": [
    {
     "data": {
      "text/html": [
       "<div>\n",
       "<style scoped>\n",
       "    .dataframe tbody tr th:only-of-type {\n",
       "        vertical-align: middle;\n",
       "    }\n",
       "\n",
       "    .dataframe tbody tr th {\n",
       "        vertical-align: top;\n",
       "    }\n",
       "\n",
       "    .dataframe thead th {\n",
       "        text-align: right;\n",
       "    }\n",
       "</style>\n",
       "<table border=\"1\" class=\"dataframe\">\n",
       "  <thead>\n",
       "    <tr style=\"text-align: right;\">\n",
       "      <th></th>\n",
       "      <th>image_id</th>\n",
       "      <th>InChI</th>\n",
       "      <th>InChI_1</th>\n",
       "      <th>InChI_text</th>\n",
       "    </tr>\n",
       "  </thead>\n",
       "  <tbody>\n",
       "    <tr>\n",
       "      <th>0</th>\n",
       "      <td>000011a64c74</td>\n",
       "      <td>InChI=1S/C13H20OS/c1-9(2)8-15-13-6-5-10(3)7-12...</td>\n",
       "      <td>C13H20OS</td>\n",
       "      <td>C 13 H 20 O S /c 1 - 9 ( 2 ) 8 - 15 - 13 - 6 -...</td>\n",
       "    </tr>\n",
       "    <tr>\n",
       "      <th>1</th>\n",
       "      <td>000019cc0cd2</td>\n",
       "      <td>InChI=1S/C21H30O4/c1-12(22)25-14-6-8-20(2)13(1...</td>\n",
       "      <td>C21H30O4</td>\n",
       "      <td>C 21 H 30 O 4 /c 1 - 12 ( 22 ) 25 - 14 - 6 - 8...</td>\n",
       "    </tr>\n",
       "    <tr>\n",
       "      <th>2</th>\n",
       "      <td>0000252b6d2b</td>\n",
       "      <td>InChI=1S/C24H23N5O4/c1-14-13-15(7-8-17(14)28-1...</td>\n",
       "      <td>C24H23N5O4</td>\n",
       "      <td>C 24 H 23 N 5 O 4 /c 1 - 14 - 13 - 15 ( 7 - 8 ...</td>\n",
       "    </tr>\n",
       "    <tr>\n",
       "      <th>3</th>\n",
       "      <td>000026b49b7e</td>\n",
       "      <td>InChI=1S/C17H24N2O4S/c1-12(20)18-13(14-7-6-10-...</td>\n",
       "      <td>C17H24N2O4S</td>\n",
       "      <td>C 17 H 24 N 2 O 4 S /c 1 - 12 ( 20 ) 18 - 13 (...</td>\n",
       "    </tr>\n",
       "    <tr>\n",
       "      <th>4</th>\n",
       "      <td>000026fc6c36</td>\n",
       "      <td>InChI=1S/C10H19N3O2S/c1-15-10(14)12-8-4-6-13(7...</td>\n",
       "      <td>C10H19N3O2S</td>\n",
       "      <td>C 10 H 19 N 3 O 2 S /c 1 - 15 - 10 ( 14 ) 12 -...</td>\n",
       "    </tr>\n",
       "    <tr>\n",
       "      <th>...</th>\n",
       "      <td>...</td>\n",
       "      <td>...</td>\n",
       "      <td>...</td>\n",
       "      <td>...</td>\n",
       "    </tr>\n",
       "    <tr>\n",
       "      <th>2424181</th>\n",
       "      <td>ffffe824f539</td>\n",
       "      <td>InChI=1S/C10H12F2N2O3/c1-17-7-2-5(3-8(15)16)9(...</td>\n",
       "      <td>C10H12F2N2O3</td>\n",
       "      <td>C 10 H 12 F 2 N 2 O 3 /c 1 - 17 - 7 - 2 - 5 ( ...</td>\n",
       "    </tr>\n",
       "    <tr>\n",
       "      <th>2424182</th>\n",
       "      <td>ffffea1ebdfa</td>\n",
       "      <td>InChI=1S/C19H20F2N4O3S/c1-10(8-20)28-14-7-12(2...</td>\n",
       "      <td>C19H20F2N4O3S</td>\n",
       "      <td>C 19 H 20 F 2 N 4 O 3 S /c 1 - 10 ( 8 - 20 ) 2...</td>\n",
       "    </tr>\n",
       "    <tr>\n",
       "      <th>2424183</th>\n",
       "      <td>ffffee2b4534</td>\n",
       "      <td>InChI=1S/C22H26Cl2N2O4S/c1-16-6-2-3-10-21(16)3...</td>\n",
       "      <td>C22H26Cl2N2O4S</td>\n",
       "      <td>C 22 H 26 Cl 2 N 2 O 4 S /c 1 - 16 - 6 - 2 - 3...</td>\n",
       "    </tr>\n",
       "    <tr>\n",
       "      <th>2424184</th>\n",
       "      <td>fffff0b6eea6</td>\n",
       "      <td>InChI=1S/C17H26N2O6S/c1-23-16-12-14(4-5-15(16)...</td>\n",
       "      <td>C17H26N2O6S</td>\n",
       "      <td>C 17 H 26 N 2 O 6 S /c 1 - 23 - 16 - 12 - 14 (...</td>\n",
       "    </tr>\n",
       "    <tr>\n",
       "      <th>2424185</th>\n",
       "      <td>fffff608dd38</td>\n",
       "      <td>InChI=1S/C10H18N2O9P2/c1-7-10(13)9(5-11-2-3-20...</td>\n",
       "      <td>C10H18N2O9P2</td>\n",
       "      <td>C 10 H 18 N 2 O 9 P 2 /c 1 - 7 - 10 ( 13 ) 9 (...</td>\n",
       "    </tr>\n",
       "  </tbody>\n",
       "</table>\n",
       "<p>2424186 rows × 4 columns</p>\n",
       "</div>"
      ],
      "text/plain": [
       "             image_id                                              InChI  \\\n",
       "0        000011a64c74  InChI=1S/C13H20OS/c1-9(2)8-15-13-6-5-10(3)7-12...   \n",
       "1        000019cc0cd2  InChI=1S/C21H30O4/c1-12(22)25-14-6-8-20(2)13(1...   \n",
       "2        0000252b6d2b  InChI=1S/C24H23N5O4/c1-14-13-15(7-8-17(14)28-1...   \n",
       "3        000026b49b7e  InChI=1S/C17H24N2O4S/c1-12(20)18-13(14-7-6-10-...   \n",
       "4        000026fc6c36  InChI=1S/C10H19N3O2S/c1-15-10(14)12-8-4-6-13(7...   \n",
       "...               ...                                                ...   \n",
       "2424181  ffffe824f539  InChI=1S/C10H12F2N2O3/c1-17-7-2-5(3-8(15)16)9(...   \n",
       "2424182  ffffea1ebdfa  InChI=1S/C19H20F2N4O3S/c1-10(8-20)28-14-7-12(2...   \n",
       "2424183  ffffee2b4534  InChI=1S/C22H26Cl2N2O4S/c1-16-6-2-3-10-21(16)3...   \n",
       "2424184  fffff0b6eea6  InChI=1S/C17H26N2O6S/c1-23-16-12-14(4-5-15(16)...   \n",
       "2424185  fffff608dd38  InChI=1S/C10H18N2O9P2/c1-7-10(13)9(5-11-2-3-20...   \n",
       "\n",
       "                InChI_1                                         InChI_text  \n",
       "0              C13H20OS  C 13 H 20 O S /c 1 - 9 ( 2 ) 8 - 15 - 13 - 6 -...  \n",
       "1              C21H30O4  C 21 H 30 O 4 /c 1 - 12 ( 22 ) 25 - 14 - 6 - 8...  \n",
       "2            C24H23N5O4  C 24 H 23 N 5 O 4 /c 1 - 14 - 13 - 15 ( 7 - 8 ...  \n",
       "3           C17H24N2O4S  C 17 H 24 N 2 O 4 S /c 1 - 12 ( 20 ) 18 - 13 (...  \n",
       "4           C10H19N3O2S  C 10 H 19 N 3 O 2 S /c 1 - 15 - 10 ( 14 ) 12 -...  \n",
       "...                 ...                                                ...  \n",
       "2424181    C10H12F2N2O3  C 10 H 12 F 2 N 2 O 3 /c 1 - 17 - 7 - 2 - 5 ( ...  \n",
       "2424182   C19H20F2N4O3S  C 19 H 20 F 2 N 4 O 3 S /c 1 - 10 ( 8 - 20 ) 2...  \n",
       "2424183  C22H26Cl2N2O4S  C 22 H 26 Cl 2 N 2 O 4 S /c 1 - 16 - 6 - 2 - 3...  \n",
       "2424184     C17H26N2O6S  C 17 H 26 N 2 O 6 S /c 1 - 23 - 16 - 12 - 14 (...  \n",
       "2424185    C10H18N2O9P2  C 10 H 18 N 2 O 9 P 2 /c 1 - 7 - 10 ( 13 ) 9 (...  \n",
       "\n",
       "[2424186 rows x 4 columns]"
      ]
     },
     "execution_count": 5,
     "metadata": {},
     "output_type": "execute_result"
    }
   ],
   "source": [
    "import pandas as pd\n",
    "from pathlib import Path\n",
    "from Levenshtein import distance\n",
    "\n",
    "path = Path('data')\n",
    "train_labels = pd.read_csv(path / 'train_labels_tokenized.csv')\n",
    "train_labels"
   ]
  },
  {
   "cell_type": "code",
   "execution_count": 6,
   "metadata": {},
   "outputs": [
    {
     "name": "stdout",
     "output_type": "stream",
     "text": [
      "Training samples:  2181767\n",
      "Validation samples:  242419\n"
     ]
    }
   ],
   "source": [
    "from src.utils import parse_config_file\n",
    "from src.dm import DataModule\n",
    "\n",
    "config_file = 'base_16.yml'\n",
    "config = parse_config_file(config_file)\n",
    "#config['batch_size'] = 100\n",
    "\n",
    "dm = DataModule(**config)\n",
    "dm.setup()"
   ]
  },
  {
   "cell_type": "code",
   "execution_count": 7,
   "metadata": {
    "ExecuteTime": {
     "end_time": "2021-03-10T15:29:55.569713Z",
     "start_time": "2021-03-10T15:29:55.460720Z"
    }
   },
   "outputs": [
    {
     "data": {
      "text/plain": [
       "['transformer-val_loss=0.2392.ckpt', 'transformer-val_loss=0.3548.ckpt']"
      ]
     },
     "execution_count": 7,
     "metadata": {},
     "output_type": "execute_result"
    }
   ],
   "source": [
    "import glob \n",
    "\n",
    "models = glob.glob('*.ckpt')\n",
    "models"
   ]
  },
  {
   "cell_type": "code",
   "execution_count": 8,
   "metadata": {
    "ExecuteTime": {
     "end_time": "2021-03-10T15:29:56.143716Z",
     "start_time": "2021-03-10T15:29:55.571714Z"
    }
   },
   "outputs": [
    {
     "data": {
      "text/plain": [
       "\"batch_size\":         512\n",
       "\"dropout\":            0.1\n",
       "\"embed_dim\":          256\n",
       "\"gpus\":               1\n",
       "\"gradient_clip_val\":  1.0\n",
       "\"img_size\":           128\n",
       "\"len_vocab\":          193\n",
       "\"load_from\":          False\n",
       "\"log\":                True\n",
       "\"lr\":                 0.001\n",
       "\"max_epochs\":         10\n",
       "\"max_len\":            277\n",
       "\"nhead\":              4\n",
       "\"num_decoder_layers\": 4\n",
       "\"num_encoder_layers\": 4\n",
       "\"num_workers\":        24\n",
       "\"optimizer\":          Adam\n",
       "\"patch_size\":         16\n",
       "\"pin_memory\":         True\n",
       "\"precision\":          16\n",
       "\"scheduler\":          {'CosineAnnealingLR': {'T_max': 10, 'eta_min': 0.0001, 'verbose': True}}\n",
       "\"shuffle_train\":      True\n",
       "\"subset\":             0.33\n",
       "\"train_batches\":      1.0\n",
       "\"train_trans\":        {'Resize': {'width': 128, 'height': 128}}\n",
       "\"val_batches\":        1.0\n",
       "\"val_trans\":          {'Resize': {'width': 128, 'height': 128}}\n",
       "\"val_with_train\":     False"
      ]
     },
     "execution_count": 8,
     "metadata": {},
     "output_type": "execute_result"
    }
   ],
   "source": [
    "from src.models import Transformer\n",
    "from src.vocab import VOCAB\n",
    "\n",
    "model_path = 'transformer-val_loss=0.2392.ckpt'\n",
    "model = Transformer.load_from_checkpoint(model_path, len_vocab=len(VOCAB))\n",
    "model.hparams"
   ]
  },
  {
   "cell_type": "markdown",
   "metadata": {
    "heading_collapsed": true
   },
   "source": [
    "# Evaluate model"
   ]
  },
  {
   "cell_type": "code",
   "execution_count": 36,
   "metadata": {
    "ExecuteTime": {
     "end_time": "2021-03-10T15:31:24.988713Z",
     "start_time": "2021-03-10T15:31:16.728714Z"
    },
    "hidden": true
   },
   "outputs": [
    {
     "name": "stderr",
     "output_type": "stream",
     "text": [
      "  0%|          | 0/157 [00:16<?, ?it/s]\n"
     ]
    },
    {
     "data": {
      "text/plain": [
       "512"
      ]
     },
     "execution_count": 36,
     "metadata": {},
     "output_type": "execute_result"
    }
   ],
   "source": [
    "from tqdm import tqdm\n",
    "\n",
    "preds, labels = [], []\n",
    "model.cuda()\n",
    "for imgs, labs in tqdm(dm.val_dataloader()):\n",
    "    outputs = model.predict(imgs)\n",
    "    preds += outputs\n",
    "    labels += labs.tolist()\n",
    "    break\n",
    "    \n",
    "len(preds)"
   ]
  },
  {
   "cell_type": "code",
   "execution_count": 37,
   "metadata": {
    "hidden": true
   },
   "outputs": [],
   "source": [
    "preds_decoded = [dm.decode(pred) for pred in preds]\n",
    "preds_inchis = ['InChI=1S/' + pred for pred in preds_decoded]"
   ]
  },
  {
   "cell_type": "code",
   "execution_count": 38,
   "metadata": {
    "ExecuteTime": {
     "end_time": "2021-03-10T15:31:25.098714Z",
     "start_time": "2021-03-10T15:31:24.989714Z"
    },
    "hidden": true
   },
   "outputs": [],
   "source": [
    "labs_decoded = [dm.decode(lab) for lab in labs]\n",
    "inchis = ['InChI=1S/' + lab for lab in labs_decoded]"
   ]
  },
  {
   "cell_type": "code",
   "execution_count": 39,
   "metadata": {
    "ExecuteTime": {
     "end_time": "2021-03-10T15:31:34.144719Z",
     "start_time": "2021-03-10T15:31:34.029714Z"
    },
    "hidden": true
   },
   "outputs": [
    {
     "data": {
      "text/plain": [
       "87.62109375"
      ]
     },
     "execution_count": 39,
     "metadata": {},
     "output_type": "execute_result"
    }
   ],
   "source": [
    "import numpy as np \n",
    "\n",
    "metric = []\n",
    "for pred, inchi in zip(preds_inchis, inchis):\n",
    "    metric.append(distance(pred, inchi))\n",
    "    \n",
    "np.mean(metric)"
   ]
  },
  {
   "cell_type": "markdown",
   "metadata": {},
   "source": [
    "# Generate predictions"
   ]
  },
  {
   "cell_type": "code",
   "execution_count": 9,
   "metadata": {
    "ExecuteTime": {
     "end_time": "2021-03-10T15:31:57.969713Z",
     "start_time": "2021-03-10T15:31:50.719714Z"
    }
   },
   "outputs": [
    {
     "data": {
      "text/html": [
       "<div>\n",
       "<style scoped>\n",
       "    .dataframe tbody tr th:only-of-type {\n",
       "        vertical-align: middle;\n",
       "    }\n",
       "\n",
       "    .dataframe tbody tr th {\n",
       "        vertical-align: top;\n",
       "    }\n",
       "\n",
       "    .dataframe thead th {\n",
       "        text-align: right;\n",
       "    }\n",
       "</style>\n",
       "<table border=\"1\" class=\"dataframe\">\n",
       "  <thead>\n",
       "    <tr style=\"text-align: right;\">\n",
       "      <th></th>\n",
       "      <th>image_id</th>\n",
       "      <th>InChI</th>\n",
       "    </tr>\n",
       "  </thead>\n",
       "  <tbody>\n",
       "    <tr>\n",
       "      <th>0</th>\n",
       "      <td>00000d2a601c</td>\n",
       "      <td>InChI=1S/H2O/h1H2</td>\n",
       "    </tr>\n",
       "    <tr>\n",
       "      <th>1</th>\n",
       "      <td>00001f7fc849</td>\n",
       "      <td>InChI=1S/H2O/h1H2</td>\n",
       "    </tr>\n",
       "    <tr>\n",
       "      <th>2</th>\n",
       "      <td>000037687605</td>\n",
       "      <td>InChI=1S/H2O/h1H2</td>\n",
       "    </tr>\n",
       "    <tr>\n",
       "      <th>3</th>\n",
       "      <td>00004b6d55b6</td>\n",
       "      <td>InChI=1S/H2O/h1H2</td>\n",
       "    </tr>\n",
       "    <tr>\n",
       "      <th>4</th>\n",
       "      <td>00004df0fe53</td>\n",
       "      <td>InChI=1S/H2O/h1H2</td>\n",
       "    </tr>\n",
       "    <tr>\n",
       "      <th>...</th>\n",
       "      <td>...</td>\n",
       "      <td>...</td>\n",
       "    </tr>\n",
       "    <tr>\n",
       "      <th>1616102</th>\n",
       "      <td>ffffcdb2e39e</td>\n",
       "      <td>InChI=1S/H2O/h1H2</td>\n",
       "    </tr>\n",
       "    <tr>\n",
       "      <th>1616103</th>\n",
       "      <td>ffffcfddd770</td>\n",
       "      <td>InChI=1S/H2O/h1H2</td>\n",
       "    </tr>\n",
       "    <tr>\n",
       "      <th>1616104</th>\n",
       "      <td>ffffe4ab06b2</td>\n",
       "      <td>InChI=1S/H2O/h1H2</td>\n",
       "    </tr>\n",
       "    <tr>\n",
       "      <th>1616105</th>\n",
       "      <td>ffffec4033ec</td>\n",
       "      <td>InChI=1S/H2O/h1H2</td>\n",
       "    </tr>\n",
       "    <tr>\n",
       "      <th>1616106</th>\n",
       "      <td>fffffbebd4f5</td>\n",
       "      <td>InChI=1S/H2O/h1H2</td>\n",
       "    </tr>\n",
       "  </tbody>\n",
       "</table>\n",
       "<p>1616107 rows × 2 columns</p>\n",
       "</div>"
      ],
      "text/plain": [
       "             image_id              InChI\n",
       "0        00000d2a601c  InChI=1S/H2O/h1H2\n",
       "1        00001f7fc849  InChI=1S/H2O/h1H2\n",
       "2        000037687605  InChI=1S/H2O/h1H2\n",
       "3        00004b6d55b6  InChI=1S/H2O/h1H2\n",
       "4        00004df0fe53  InChI=1S/H2O/h1H2\n",
       "...               ...                ...\n",
       "1616102  ffffcdb2e39e  InChI=1S/H2O/h1H2\n",
       "1616103  ffffcfddd770  InChI=1S/H2O/h1H2\n",
       "1616104  ffffe4ab06b2  InChI=1S/H2O/h1H2\n",
       "1616105  ffffec4033ec  InChI=1S/H2O/h1H2\n",
       "1616106  fffffbebd4f5  InChI=1S/H2O/h1H2\n",
       "\n",
       "[1616107 rows x 2 columns]"
      ]
     },
     "execution_count": 9,
     "metadata": {},
     "output_type": "execute_result"
    }
   ],
   "source": [
    "sample_submission = pd.read_csv(path / 'sample_submission.csv')\n",
    "sample_submission"
   ]
  },
  {
   "cell_type": "code",
   "execution_count": 10,
   "metadata": {},
   "outputs": [
    {
     "data": {
      "text/html": [
       "<div>\n",
       "<style scoped>\n",
       "    .dataframe tbody tr th:only-of-type {\n",
       "        vertical-align: middle;\n",
       "    }\n",
       "\n",
       "    .dataframe tbody tr th {\n",
       "        vertical-align: top;\n",
       "    }\n",
       "\n",
       "    .dataframe thead th {\n",
       "        text-align: right;\n",
       "    }\n",
       "</style>\n",
       "<table border=\"1\" class=\"dataframe\">\n",
       "  <thead>\n",
       "    <tr style=\"text-align: right;\">\n",
       "      <th></th>\n",
       "      <th>image_id</th>\n",
       "      <th>InChI</th>\n",
       "    </tr>\n",
       "  </thead>\n",
       "  <tbody>\n",
       "    <tr>\n",
       "      <th>0</th>\n",
       "      <td>00000d2a601c</td>\n",
       "      <td>InChI=1S/C15H22N2O2/c1-2-3-4-5-6-7-8-9-10-11-1...</td>\n",
       "    </tr>\n",
       "    <tr>\n",
       "      <th>1</th>\n",
       "      <td>00001f7fc849</td>\n",
       "      <td>InChI=1S/C15H22N2O2/c1-2-3-4-5-6-7-8-9-10-11-1...</td>\n",
       "    </tr>\n",
       "    <tr>\n",
       "      <th>2</th>\n",
       "      <td>000037687605</td>\n",
       "      <td>InChI=1S/C15H22N2O2/c1-2-3-4-5-6-7-8-9-10-11-1...</td>\n",
       "    </tr>\n",
       "    <tr>\n",
       "      <th>3</th>\n",
       "      <td>00004b6d55b6</td>\n",
       "      <td>InChI=1S/C15H22N2O2/c1-2-3-4-5-6-7-8-9-10-11-1...</td>\n",
       "    </tr>\n",
       "    <tr>\n",
       "      <th>4</th>\n",
       "      <td>00004df0fe53</td>\n",
       "      <td>InChI=1S/C15H22N2O2/c1-2-3-4-5-6-7-8-9-10-11-1...</td>\n",
       "    </tr>\n",
       "    <tr>\n",
       "      <th>...</th>\n",
       "      <td>...</td>\n",
       "      <td>...</td>\n",
       "    </tr>\n",
       "    <tr>\n",
       "      <th>1616102</th>\n",
       "      <td>ffffcdb2e39e</td>\n",
       "      <td>InChI=1S/C15H22N2O2/c1-2-3-4-5-6-7-8-9-10-11-1...</td>\n",
       "    </tr>\n",
       "    <tr>\n",
       "      <th>1616103</th>\n",
       "      <td>ffffcfddd770</td>\n",
       "      <td>InChI=1S/C15H22N2O2/c1-2-3-4-5-6-7-8-9-10-11-1...</td>\n",
       "    </tr>\n",
       "    <tr>\n",
       "      <th>1616104</th>\n",
       "      <td>ffffe4ab06b2</td>\n",
       "      <td>InChI=1S/C15H22N2O2/c1-2-3-4-5-6-7-8-9-10-11-1...</td>\n",
       "    </tr>\n",
       "    <tr>\n",
       "      <th>1616105</th>\n",
       "      <td>ffffec4033ec</td>\n",
       "      <td>InChI=1S/C15H22N2O2/c1-2-3-4-5-6-7-8-9-10-11-1...</td>\n",
       "    </tr>\n",
       "    <tr>\n",
       "      <th>1616106</th>\n",
       "      <td>fffffbebd4f5</td>\n",
       "      <td>InChI=1S/C15H22N2O2/c1-2-3-4-5-6-7-8-9-10-11-1...</td>\n",
       "    </tr>\n",
       "  </tbody>\n",
       "</table>\n",
       "<p>1616107 rows × 2 columns</p>\n",
       "</div>"
      ],
      "text/plain": [
       "             image_id                                              InChI\n",
       "0        00000d2a601c  InChI=1S/C15H22N2O2/c1-2-3-4-5-6-7-8-9-10-11-1...\n",
       "1        00001f7fc849  InChI=1S/C15H22N2O2/c1-2-3-4-5-6-7-8-9-10-11-1...\n",
       "2        000037687605  InChI=1S/C15H22N2O2/c1-2-3-4-5-6-7-8-9-10-11-1...\n",
       "3        00004b6d55b6  InChI=1S/C15H22N2O2/c1-2-3-4-5-6-7-8-9-10-11-1...\n",
       "4        00004df0fe53  InChI=1S/C15H22N2O2/c1-2-3-4-5-6-7-8-9-10-11-1...\n",
       "...               ...                                                ...\n",
       "1616102  ffffcdb2e39e  InChI=1S/C15H22N2O2/c1-2-3-4-5-6-7-8-9-10-11-1...\n",
       "1616103  ffffcfddd770  InChI=1S/C15H22N2O2/c1-2-3-4-5-6-7-8-9-10-11-1...\n",
       "1616104  ffffe4ab06b2  InChI=1S/C15H22N2O2/c1-2-3-4-5-6-7-8-9-10-11-1...\n",
       "1616105  ffffec4033ec  InChI=1S/C15H22N2O2/c1-2-3-4-5-6-7-8-9-10-11-1...\n",
       "1616106  fffffbebd4f5  InChI=1S/C15H22N2O2/c1-2-3-4-5-6-7-8-9-10-11-1...\n",
       "\n",
       "[1616107 rows x 2 columns]"
      ]
     },
     "execution_count": 10,
     "metadata": {},
     "output_type": "execute_result"
    }
   ],
   "source": [
    "most_freq_inchi = 'InChI=1S/C15H22N2O2/c1-2-3-4-5-6-7-8-9-10-11-12-13-14-15-16-17-18(19)20/h2-8H,1H3'\n",
    "sample_submission.InChI = most_freq_inchi\n",
    "sample_submission"
   ]
  },
  {
   "cell_type": "code",
   "execution_count": 25,
   "metadata": {
    "ExecuteTime": {
     "end_time": "2021-03-10T15:31:58.080716Z",
     "start_time": "2021-03-10T15:31:57.970714Z"
    }
   },
   "outputs": [],
   "source": [
    "from src.dm import Dataset\n",
    "from src.utils import get_image_path\n",
    "import albumentations as A \n",
    "import torch\n",
    "\n",
    "limit = 10000\n",
    "#test_images = sample_submission.image_id[:limit]\n",
    "test_images = sample_submission.image_id\n",
    "test_images = test_images.apply(lambda i: get_image_path(i, mode=\"test\"))\n",
    "\n",
    "ds = Dataset(test_images, train=False, trans=A.Compose([A.Resize(128,128)]))\n",
    "dl = torch.utils.data.DataLoader(ds, batch_size=100, num_workers=24, pin_memory=True, shuffle=False)\n",
    "\n",
    "#assert len(ds) == limit"
   ]
  },
  {
   "cell_type": "code",
   "execution_count": 26,
   "metadata": {
    "ExecuteTime": {
     "end_time": "2021-03-10T16:44:44.348835Z",
     "start_time": "2021-03-10T15:31:58.255717Z"
    }
   },
   "outputs": [
    {
     "name": "stderr",
     "output_type": "stream",
     "text": [
      "  0%|          | 29/16162 [01:08<10:34:07,  2.36s/it]\n"
     ]
    },
    {
     "ename": "KeyboardInterrupt",
     "evalue": "",
     "output_type": "error",
     "traceback": [
      "\u001b[0;31m---------------------------------------------------------------------------\u001b[0m",
      "\u001b[0;31mKeyboardInterrupt\u001b[0m                         Traceback (most recent call last)",
      "\u001b[0;32m<ipython-input-26-d5e2a73a09c8>\u001b[0m in \u001b[0;36m<module>\u001b[0;34m\u001b[0m\n\u001b[1;32m      4\u001b[0m \u001b[0mmodel\u001b[0m\u001b[0;34m.\u001b[0m\u001b[0mcuda\u001b[0m\u001b[0;34m(\u001b[0m\u001b[0;34m)\u001b[0m\u001b[0;34m\u001b[0m\u001b[0;34m\u001b[0m\u001b[0m\n\u001b[1;32m      5\u001b[0m \u001b[0;32mfor\u001b[0m \u001b[0mbatch\u001b[0m \u001b[0;32min\u001b[0m \u001b[0mtqdm\u001b[0m\u001b[0;34m(\u001b[0m\u001b[0mdl\u001b[0m\u001b[0;34m)\u001b[0m\u001b[0;34m:\u001b[0m\u001b[0;34m\u001b[0m\u001b[0;34m\u001b[0m\u001b[0m\n\u001b[0;32m----> 6\u001b[0;31m     \u001b[0moutputs\u001b[0m \u001b[0;34m=\u001b[0m \u001b[0mmodel\u001b[0m\u001b[0;34m.\u001b[0m\u001b[0mpredict\u001b[0m\u001b[0;34m(\u001b[0m\u001b[0mbatch\u001b[0m\u001b[0;34m)\u001b[0m\u001b[0;34m\u001b[0m\u001b[0;34m\u001b[0m\u001b[0m\n\u001b[0m\u001b[1;32m      7\u001b[0m     \u001b[0mpreds\u001b[0m \u001b[0;34m+=\u001b[0m \u001b[0moutputs\u001b[0m\u001b[0;34m\u001b[0m\u001b[0;34m\u001b[0m\u001b[0m\n",
      "\u001b[0;32m~/Desktop/kaggle/brystol-meyers-squibb/src/models.py\u001b[0m in \u001b[0;36mpredict\u001b[0;34m(self, images, SOS, EOS, temp)\u001b[0m\n\u001b[1;32m     86\u001b[0m                 \u001b[0mprobs\u001b[0m \u001b[0;34m=\u001b[0m \u001b[0mF\u001b[0m\u001b[0;34m.\u001b[0m\u001b[0msoftmax\u001b[0m\u001b[0;34m(\u001b[0m\u001b[0mlogits\u001b[0m\u001b[0;34m,\u001b[0m \u001b[0mdim\u001b[0m\u001b[0;34m=\u001b[0m\u001b[0;34m-\u001b[0m\u001b[0;36m1\u001b[0m\u001b[0;34m)\u001b[0m\u001b[0;34m\u001b[0m\u001b[0;34m\u001b[0m\u001b[0m\n\u001b[1;32m     87\u001b[0m                 \u001b[0;31m# sample\u001b[0m\u001b[0;34m\u001b[0m\u001b[0;34m\u001b[0m\u001b[0;34m\u001b[0m\u001b[0m\n\u001b[0;32m---> 88\u001b[0;31m                 \u001b[0mpred\u001b[0m \u001b[0;34m=\u001b[0m \u001b[0mtorch\u001b[0m\u001b[0;34m.\u001b[0m\u001b[0mmultinomial\u001b[0m\u001b[0;34m(\u001b[0m\u001b[0mprobs\u001b[0m\u001b[0;34m,\u001b[0m \u001b[0mnum_samples\u001b[0m\u001b[0;34m=\u001b[0m\u001b[0;36m1\u001b[0m\u001b[0;34m)\u001b[0m\u001b[0;34m\u001b[0m\u001b[0;34m\u001b[0m\u001b[0m\n\u001b[0m\u001b[1;32m     89\u001b[0m                 \u001b[0;31m# add new prediction\u001b[0m\u001b[0;34m\u001b[0m\u001b[0;34m\u001b[0m\u001b[0;34m\u001b[0m\u001b[0m\n\u001b[1;32m     90\u001b[0m                 \u001b[0mtrg_input\u001b[0m \u001b[0;34m=\u001b[0m \u001b[0mtorch\u001b[0m\u001b[0;34m.\u001b[0m\u001b[0mcat\u001b[0m\u001b[0;34m(\u001b[0m\u001b[0;34m[\u001b[0m\u001b[0mtrg_input\u001b[0m\u001b[0;34m,\u001b[0m \u001b[0mpred\u001b[0m\u001b[0;34m]\u001b[0m\u001b[0;34m,\u001b[0m \u001b[0;36m1\u001b[0m\u001b[0;34m)\u001b[0m\u001b[0;34m\u001b[0m\u001b[0;34m\u001b[0m\u001b[0m\n",
      "\u001b[0;31mKeyboardInterrupt\u001b[0m: "
     ]
    }
   ],
   "source": [
    "from tqdm import tqdm\n",
    "\n",
    "preds = []\n",
    "model.cuda()\n",
    "for batch in tqdm(dl):\n",
    "    outputs = model.predict(batch)\n",
    "    preds += outputs"
   ]
  },
  {
   "cell_type": "code",
   "execution_count": 73,
   "metadata": {},
   "outputs": [
    {
     "data": {
      "text/plain": [
       "['C36H29N2O4S/c1-36(2,40)34-31-21-40-25-14-15-24(16-25)27(20-29-23-28(26-27)18-37)33(39)36-36-21-31-18-33(27)37(25)22-7-10-26(11-8-22)40-19-9-6-4-3-5-9-13-33/h3-20,24-25H,21H2,1-2H3',\n",
       " 'C33H46N4/c1-20(2)23-13-25-26(10-7-9-15-25)29-22(33(3,4)5)30-37(28(20)19-23)27(6)11-17-32(34-30)21(3)30-18-31(27)8-14-33(29,32)24/h7-16,21-20-22,24-27,35H,17-21H2,1-6H3',\n",
       " 'C19H33N5O/c1-15-11-20-19(22-15)13-21(15)23-9-5-7-18(23)24-8-3-4-17-10-16(2)6-12-24/h2,18H,3-14,20H2,1H3',\n",
       " 'C13H26O2/c1-6-7-10-11(4,5)14-12(6)9-13(2,3)8-12/h9,14H,5-8,15H2,1-4H3',\n",
       " 'C12H20N2/c1-12(2)7-8-12(3,9-13)15-11-4-5-10(14-6-11)9-11/h10H,4-9H2,1-3H3']"
      ]
     },
     "execution_count": 73,
     "metadata": {},
     "output_type": "execute_result"
    }
   ],
   "source": [
    "preds_decoded = [dm.decode(pred) for pred in preds]\n",
    "sample_submission.InChI[:limit] = ['InChI=1S/'+pred for pred in preds_decoded]\n",
    "sample_submission"
   ]
  },
  {
   "cell_type": "code",
   "execution_count": 79,
   "metadata": {},
   "outputs": [],
   "source": [
    "sample_submission.to_csv('submission.csv', index=False)"
   ]
  },
  {
   "cell_type": "code",
   "execution_count": 80,
   "metadata": {},
   "outputs": [
    {
     "name": "stdout",
     "output_type": "stream",
     "text": [
      "Warning: Looks like you're using an outdated API Version, please consider updating (server 1.5.12 / client 1.5.9)\n",
      "100%|██████████████████████████████████████| 48.8M/48.8M [00:05<00:00, 9.24MB/s]\n",
      "Successfully submitted to Bristol-Myers Squibb – Molecular Translation"
     ]
    }
   ],
   "source": [
    "#!kaggle competitions list\n",
    "#!kaggle competitions submit bms-molecular-translation -f submission.csv -m \"baseline test\""
   ]
  }
 ],
 "metadata": {
  "kernelspec": {
   "display_name": "Python 3",
   "language": "python",
   "name": "python3"
  },
  "language_info": {
   "codemirror_mode": {
    "name": "ipython",
    "version": 3
   },
   "file_extension": ".py",
   "mimetype": "text/x-python",
   "name": "python",
   "nbconvert_exporter": "python",
   "pygments_lexer": "ipython3",
   "version": "3.8.2"
  },
  "toc": {
   "base_numbering": 1,
   "nav_menu": {},
   "number_sections": true,
   "sideBar": true,
   "skip_h1_title": false,
   "title_cell": "Table of Contents",
   "title_sidebar": "Contents",
   "toc_cell": false,
   "toc_position": {},
   "toc_section_display": true,
   "toc_window_display": false
  }
 },
 "nbformat": 4,
 "nbformat_minor": 4
}
