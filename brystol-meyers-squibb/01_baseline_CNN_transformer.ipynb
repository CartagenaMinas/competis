{
 "cells": [
  {
   "cell_type": "code",
   "execution_count": 1,
   "metadata": {
    "ExecuteTime": {
     "end_time": "2021-03-10T13:14:57.921770Z",
     "start_time": "2021-03-10T13:14:57.867748Z"
    }
   },
   "outputs": [],
   "source": [
    "%load_ext autoreload\n",
    "%autoreload 2"
   ]
  },
  {
   "cell_type": "code",
   "execution_count": 2,
   "metadata": {
    "ExecuteTime": {
     "end_time": "2021-03-10T13:15:02.428447Z",
     "start_time": "2021-03-10T13:14:57.922770Z"
    }
   },
   "outputs": [
    {
     "data": {
      "text/html": [
       "<div>\n",
       "<style scoped>\n",
       "    .dataframe tbody tr th:only-of-type {\n",
       "        vertical-align: middle;\n",
       "    }\n",
       "\n",
       "    .dataframe tbody tr th {\n",
       "        vertical-align: top;\n",
       "    }\n",
       "\n",
       "    .dataframe thead th {\n",
       "        text-align: right;\n",
       "    }\n",
       "</style>\n",
       "<table border=\"1\" class=\"dataframe\">\n",
       "  <thead>\n",
       "    <tr style=\"text-align: right;\">\n",
       "      <th></th>\n",
       "      <th>image_id</th>\n",
       "      <th>InChI</th>\n",
       "    </tr>\n",
       "  </thead>\n",
       "  <tbody>\n",
       "    <tr>\n",
       "      <th>0</th>\n",
       "      <td>000011a64c74</td>\n",
       "      <td>InChI=1S/C13H20OS/c1-9(2)8-15-13-6-5-10(3)7-12...</td>\n",
       "    </tr>\n",
       "    <tr>\n",
       "      <th>1</th>\n",
       "      <td>000019cc0cd2</td>\n",
       "      <td>InChI=1S/C21H30O4/c1-12(22)25-14-6-8-20(2)13(1...</td>\n",
       "    </tr>\n",
       "    <tr>\n",
       "      <th>2</th>\n",
       "      <td>0000252b6d2b</td>\n",
       "      <td>InChI=1S/C24H23N5O4/c1-14-13-15(7-8-17(14)28-1...</td>\n",
       "    </tr>\n",
       "    <tr>\n",
       "      <th>3</th>\n",
       "      <td>000026b49b7e</td>\n",
       "      <td>InChI=1S/C17H24N2O4S/c1-12(20)18-13(14-7-6-10-...</td>\n",
       "    </tr>\n",
       "    <tr>\n",
       "      <th>4</th>\n",
       "      <td>000026fc6c36</td>\n",
       "      <td>InChI=1S/C10H19N3O2S/c1-15-10(14)12-8-4-6-13(7...</td>\n",
       "    </tr>\n",
       "    <tr>\n",
       "      <th>...</th>\n",
       "      <td>...</td>\n",
       "      <td>...</td>\n",
       "    </tr>\n",
       "    <tr>\n",
       "      <th>2424181</th>\n",
       "      <td>ffffe824f539</td>\n",
       "      <td>InChI=1S/C10H12F2N2O3/c1-17-7-2-5(3-8(15)16)9(...</td>\n",
       "    </tr>\n",
       "    <tr>\n",
       "      <th>2424182</th>\n",
       "      <td>ffffea1ebdfa</td>\n",
       "      <td>InChI=1S/C19H20F2N4O3S/c1-10(8-20)28-14-7-12(2...</td>\n",
       "    </tr>\n",
       "    <tr>\n",
       "      <th>2424183</th>\n",
       "      <td>ffffee2b4534</td>\n",
       "      <td>InChI=1S/C22H26Cl2N2O4S/c1-16-6-2-3-10-21(16)3...</td>\n",
       "    </tr>\n",
       "    <tr>\n",
       "      <th>2424184</th>\n",
       "      <td>fffff0b6eea6</td>\n",
       "      <td>InChI=1S/C17H26N2O6S/c1-23-16-12-14(4-5-15(16)...</td>\n",
       "    </tr>\n",
       "    <tr>\n",
       "      <th>2424185</th>\n",
       "      <td>fffff608dd38</td>\n",
       "      <td>InChI=1S/C10H18N2O9P2/c1-7-10(13)9(5-11-2-3-20...</td>\n",
       "    </tr>\n",
       "  </tbody>\n",
       "</table>\n",
       "<p>2424186 rows × 2 columns</p>\n",
       "</div>"
      ],
      "text/plain": [
       "             image_id                                              InChI\n",
       "0        000011a64c74  InChI=1S/C13H20OS/c1-9(2)8-15-13-6-5-10(3)7-12...\n",
       "1        000019cc0cd2  InChI=1S/C21H30O4/c1-12(22)25-14-6-8-20(2)13(1...\n",
       "2        0000252b6d2b  InChI=1S/C24H23N5O4/c1-14-13-15(7-8-17(14)28-1...\n",
       "3        000026b49b7e  InChI=1S/C17H24N2O4S/c1-12(20)18-13(14-7-6-10-...\n",
       "4        000026fc6c36  InChI=1S/C10H19N3O2S/c1-15-10(14)12-8-4-6-13(7...\n",
       "...               ...                                                ...\n",
       "2424181  ffffe824f539  InChI=1S/C10H12F2N2O3/c1-17-7-2-5(3-8(15)16)9(...\n",
       "2424182  ffffea1ebdfa  InChI=1S/C19H20F2N4O3S/c1-10(8-20)28-14-7-12(2...\n",
       "2424183  ffffee2b4534  InChI=1S/C22H26Cl2N2O4S/c1-16-6-2-3-10-21(16)3...\n",
       "2424184  fffff0b6eea6  InChI=1S/C17H26N2O6S/c1-23-16-12-14(4-5-15(16)...\n",
       "2424185  fffff608dd38  InChI=1S/C10H18N2O9P2/c1-7-10(13)9(5-11-2-3-20...\n",
       "\n",
       "[2424186 rows x 2 columns]"
      ]
     },
     "execution_count": 2,
     "metadata": {},
     "output_type": "execute_result"
    }
   ],
   "source": [
    "import pandas as pd\n",
    "from pathlib import Path\n",
    "\n",
    "path = Path('data')\n",
    "train_labels = pd.read_csv(path / 'train_labels.csv')\n",
    "train_labels"
   ]
  },
  {
   "cell_type": "markdown",
   "metadata": {},
   "source": [
    "# Image encoder"
   ]
  },
  {
   "cell_type": "code",
   "execution_count": 72,
   "metadata": {
    "ExecuteTime": {
     "end_time": "2021-03-10T13:46:37.191455Z",
     "start_time": "2021-03-10T13:46:36.927455Z"
    }
   },
   "outputs": [],
   "source": [
    "import torch\n",
    "import timm\n",
    "\n",
    "class Encoder(torch.nn.Module):\n",
    "    def __init__(self, backbone='resnet18', pretrained=False, in_channels=1):\n",
    "        super().__init__()\n",
    "        self.backbone = timm.create_model(backbone, pretrained=pretrained, features_only=True, in_chans=in_channels)\n",
    "        #self.head = torch.nn.Sequential(\n",
    "        #    torch.nn.AdaptiveAvgPool2d(output_size=(1,1)),\n",
    "        #    torch.nn.Flatten()\n",
    "        #)\n",
    "    def forward(self, x):\n",
    "        features = self.backbone(x)\n",
    "        #return self.head(features[-1])        \n",
    "        #return features[-1]        \n",
    "        bs, c, h, w = features[-1].size()\n",
    "        return features[-1].view(bs, c, -1)"
   ]
  },
  {
   "cell_type": "code",
   "execution_count": 73,
   "metadata": {
    "ExecuteTime": {
     "end_time": "2021-03-10T13:46:38.104992Z",
     "start_time": "2021-03-10T13:46:37.193455Z"
    }
   },
   "outputs": [
    {
     "data": {
      "text/plain": [
       "torch.Size([32, 512, 16])"
      ]
     },
     "execution_count": 73,
     "metadata": {},
     "output_type": "execute_result"
    }
   ],
   "source": [
    "encoder = Encoder()\n",
    "out = encoder(torch.randn(32, 1, 128, 128))\n",
    "out.shape"
   ]
  },
  {
   "cell_type": "markdown",
   "metadata": {},
   "source": [
    "# Text generator"
   ]
  },
  {
   "cell_type": "code",
   "execution_count": 74,
   "metadata": {
    "ExecuteTime": {
     "end_time": "2021-03-10T13:46:39.028516Z",
     "start_time": "2021-03-10T13:46:38.927513Z"
    }
   },
   "outputs": [],
   "source": [
    "class Decoder(torch.nn.Module):\n",
    "    def __init__(self, len_vocab, d_model=16, nhead=1, num_layers=1):\n",
    "        super().__init__()\n",
    "        self.len_vocab = len_vocab\n",
    "        #self.embedding = torch.nn.Embedding(len(VOCAB), 100)\n",
    "        encoder_layer = torch.nn.TransformerEncoderLayer(d_model=d_model, nhead=nhead)\n",
    "        self.transformer = torch.nn.TransformerEncoder(encoder_layer, num_layers=num_layers)\n",
    "        self.head = torch.nn.Linear(d_model, len_vocab)\n",
    "        \n",
    "    def forward(self, x):\n",
    "        # batch, len \n",
    "        #e = self.embedding(x)\n",
    "        # batch, len, features\n",
    "        o = self.transformer(x)\n",
    "        B, L, F = o.size()\n",
    "        # batch x len, features\n",
    "        o = self.head(o.contiguous().view(-1, F))\n",
    "        return o.contiguous().view(B, L, self.len_vocab)"
   ]
  },
  {
   "cell_type": "code",
   "execution_count": 75,
   "metadata": {
    "ExecuteTime": {
     "end_time": "2021-03-10T13:46:40.300513Z",
     "start_time": "2021-03-10T13:46:39.660513Z"
    }
   },
   "outputs": [
    {
     "data": {
      "text/plain": [
       "torch.Size([32, 512, 10])"
      ]
     },
     "execution_count": 75,
     "metadata": {},
     "output_type": "execute_result"
    }
   ],
   "source": [
    "len_vocab = 10\n",
    "decoder = Decoder(len_vocab)\n",
    "out = decoder(torch.rand((32, 512, 16)))\n",
    "out.shape"
   ]
  },
  {
   "cell_type": "markdown",
   "metadata": {},
   "source": [
    "# Vocab"
   ]
  },
  {
   "cell_type": "code",
   "execution_count": 77,
   "metadata": {
    "ExecuteTime": {
     "end_time": "2021-03-10T13:47:01.361039Z",
     "start_time": "2021-03-10T13:47:00.249512Z"
    }
   },
   "outputs": [
    {
     "data": {
      "text/plain": [
       "0                C13H20OS\n",
       "1                C21H30O4\n",
       "2              C24H23N5O4\n",
       "3             C17H24N2O4S\n",
       "4             C10H19N3O2S\n",
       "                ...      \n",
       "2424181      C10H12F2N2O3\n",
       "2424182     C19H20F2N4O3S\n",
       "2424183    C22H26Cl2N2O4S\n",
       "2424184       C17H26N2O6S\n",
       "2424185      C10H18N2O9P2\n",
       "Name: InChI, Length: 2424186, dtype: object"
      ]
     },
     "execution_count": 77,
     "metadata": {},
     "output_type": "execute_result"
    }
   ],
   "source": [
    "InChIs = train_labels.InChI.map(lambda x: x.split('/')[1])\n",
    "#InChIs = train_labels.InChI.map(lambda x: ('/').join(x.split('/')[1:4]))\n",
    "InChIs"
   ]
  },
  {
   "cell_type": "code",
   "execution_count": 78,
   "metadata": {
    "ExecuteTime": {
     "end_time": "2021-03-10T13:47:04.828168Z",
     "start_time": "2021-03-10T13:47:03.798095Z"
    }
   },
   "outputs": [
    {
     "data": {
      "text/plain": [
       "(4, 20)"
      ]
     },
     "execution_count": 78,
     "metadata": {},
     "output_type": "execute_result"
    }
   ],
   "source": [
    "InChIs.map(len).min(), InChIs.map(len).max()"
   ]
  },
  {
   "cell_type": "code",
   "execution_count": 9,
   "metadata": {
    "ExecuteTime": {
     "end_time": "2021-03-10T13:15:12.444447Z",
     "start_time": "2021-03-10T13:15:07.194447Z"
    }
   },
   "outputs": [
    {
     "data": {
      "text/plain": [
       "(['PAD',\n",
       "  'SOS',\n",
       "  'EOS',\n",
       "  '(',\n",
       "  ')',\n",
       "  '+',\n",
       "  ',',\n",
       "  '-',\n",
       "  '/',\n",
       "  '0',\n",
       "  '1',\n",
       "  '2',\n",
       "  '3',\n",
       "  '4',\n",
       "  '5',\n",
       "  '6',\n",
       "  '7',\n",
       "  '8',\n",
       "  '9',\n",
       "  'B',\n",
       "  'C',\n",
       "  'F',\n",
       "  'H',\n",
       "  'I',\n",
       "  'N',\n",
       "  'O',\n",
       "  'P',\n",
       "  'S',\n",
       "  'b',\n",
       "  'c',\n",
       "  'h',\n",
       "  'i',\n",
       "  'l',\n",
       "  'r',\n",
       "  't'],\n",
       " 35)"
      ]
     },
     "execution_count": 9,
     "metadata": {},
     "output_type": "execute_result"
    }
   ],
   "source": [
    "from src.vocab import compute_vocab\n",
    "\n",
    "special = ['PAD', 'SOS', 'EOS']\n",
    "vocab = special + sorted(list({s for InChI in InChIs for s in InChI}))\n",
    "vocab, len(vocab)"
   ]
  },
  {
   "cell_type": "code",
   "execution_count": 10,
   "metadata": {
    "ExecuteTime": {
     "end_time": "2021-03-10T13:15:12.508444Z",
     "start_time": "2021-03-10T13:15:12.445448Z"
    }
   },
   "outputs": [],
   "source": [
    "def t2ix(t, vocab):\n",
    "    return vocab.index(t)\n",
    "\n",
    "def encode(InChI, vocab):\n",
    "    tokens = [w for w in InChI]\n",
    "    ixs = [t2ix(token, vocab) for token in tokens]\n",
    "    return ixs\n",
    "\n",
    "def decode(encoded, vocab):\n",
    "    return ('').join([vocab[ix] for ix in encoded])"
   ]
  },
  {
   "cell_type": "code",
   "execution_count": 11,
   "metadata": {
    "ExecuteTime": {
     "end_time": "2021-03-10T13:15:12.588444Z",
     "start_time": "2021-03-10T13:15:12.509443Z"
    }
   },
   "outputs": [
    {
     "data": {
      "text/plain": [
       "'C13H20OS/c1-9(2)8-15-13-6-5-10(3)7-12(13)11(4)14/h5-7,9,11,14H,8H2,1-4H3'"
      ]
     },
     "execution_count": 11,
     "metadata": {},
     "output_type": "execute_result"
    }
   ],
   "source": [
    "InChI = InChIs[0]\n",
    "InChI"
   ]
  },
  {
   "cell_type": "code",
   "execution_count": 12,
   "metadata": {
    "ExecuteTime": {
     "end_time": "2021-03-10T13:15:12.652444Z",
     "start_time": "2021-03-10T13:15:12.589444Z"
    }
   },
   "outputs": [
    {
     "data": {
      "text/plain": [
       "[20,\n",
       " 10,\n",
       " 12,\n",
       " 22,\n",
       " 11,\n",
       " 9,\n",
       " 25,\n",
       " 27,\n",
       " 8,\n",
       " 29,\n",
       " 10,\n",
       " 7,\n",
       " 18,\n",
       " 3,\n",
       " 11,\n",
       " 4,\n",
       " 17,\n",
       " 7,\n",
       " 10,\n",
       " 14,\n",
       " 7,\n",
       " 10,\n",
       " 12,\n",
       " 7,\n",
       " 15,\n",
       " 7,\n",
       " 14,\n",
       " 7,\n",
       " 10,\n",
       " 9,\n",
       " 3,\n",
       " 12,\n",
       " 4,\n",
       " 16,\n",
       " 7,\n",
       " 10,\n",
       " 11,\n",
       " 3,\n",
       " 10,\n",
       " 12,\n",
       " 4,\n",
       " 10,\n",
       " 10,\n",
       " 3,\n",
       " 13,\n",
       " 4,\n",
       " 10,\n",
       " 13,\n",
       " 8,\n",
       " 30,\n",
       " 14,\n",
       " 7,\n",
       " 16,\n",
       " 6,\n",
       " 18,\n",
       " 6,\n",
       " 10,\n",
       " 10,\n",
       " 6,\n",
       " 10,\n",
       " 13,\n",
       " 22,\n",
       " 6,\n",
       " 17,\n",
       " 22,\n",
       " 11,\n",
       " 6,\n",
       " 10,\n",
       " 7,\n",
       " 13,\n",
       " 22,\n",
       " 12]"
      ]
     },
     "execution_count": 12,
     "metadata": {},
     "output_type": "execute_result"
    }
   ],
   "source": [
    "encoded = encode(InChI, vocab)\n",
    "encoded"
   ]
  },
  {
   "cell_type": "code",
   "execution_count": 13,
   "metadata": {
    "ExecuteTime": {
     "end_time": "2021-03-10T13:15:12.714444Z",
     "start_time": "2021-03-10T13:15:12.653445Z"
    }
   },
   "outputs": [
    {
     "data": {
      "text/plain": [
       "'C13H20OS/c1-9(2)8-15-13-6-5-10(3)7-12(13)11(4)14/h5-7,9,11,14H,8H2,1-4H3'"
      ]
     },
     "execution_count": 13,
     "metadata": {},
     "output_type": "execute_result"
    }
   ],
   "source": [
    "decoded = decode(encoded, vocab)\n",
    "decoded"
   ]
  },
  {
   "cell_type": "code",
   "execution_count": 14,
   "metadata": {
    "ExecuteTime": {
     "end_time": "2021-03-10T13:15:12.775443Z",
     "start_time": "2021-03-10T13:15:12.715444Z"
    }
   },
   "outputs": [],
   "source": [
    "assert InChI == decoded"
   ]
  },
  {
   "cell_type": "markdown",
   "metadata": {},
   "source": [
    "# Datamodule"
   ]
  },
  {
   "cell_type": "code",
   "execution_count": 69,
   "metadata": {
    "ExecuteTime": {
     "end_time": "2021-03-10T13:39:17.118891Z",
     "start_time": "2021-03-10T13:39:16.924889Z"
    }
   },
   "outputs": [
    {
     "data": {
      "text/plain": [
       "{'lr': 0.01,\n",
       " 'optimizer': 'Adam',\n",
       " 'batch_size': 1,\n",
       " 'num_workers': 0,\n",
       " 'pin_memory': True,\n",
       " 'subset': 0.001,\n",
       " 'model': 'Baseline',\n",
       " 'backbone': 'resnet18',\n",
       " 'pretrained': False,\n",
       " 'rnn': 'GRU',\n",
       " 'max_len': 512,\n",
       " 'train_trans': {'Resize': {'width': 128, 'height': 128}},\n",
       " 'val_trans': {'Resize': {'width': 128, 'height': 128}},\n",
       " 'gpus': 1,\n",
       " 'precision': 16,\n",
       " 'max_epochs': 50,\n",
       " 'train_batches': 1,\n",
       " 'shuffle_train': False,\n",
       " 'val_batches': 1,\n",
       " 'val_with_train': True,\n",
       " 'log': False}"
      ]
     },
     "execution_count": 69,
     "metadata": {},
     "output_type": "execute_result"
    }
   ],
   "source": [
    "from src.utils import parse_config_file\n",
    "\n",
    "config_file = 'debug.yml'\n",
    "config = parse_config_file(config_file)\n",
    "config"
   ]
  },
  {
   "cell_type": "code",
   "execution_count": 48,
   "metadata": {
    "ExecuteTime": {
     "end_time": "2021-03-10T13:23:12.482609Z",
     "start_time": "2021-03-10T13:23:07.599527Z"
    }
   },
   "outputs": [
    {
     "name": "stdout",
     "output_type": "stream",
     "text": [
      "Training samples:  2181\n",
      "Validation samples:  243\n"
     ]
    }
   ],
   "source": [
    "from src.dm import DataModule\n",
    "\n",
    "dm = DataModule(**config)\n",
    "dm.setup()"
   ]
  },
  {
   "cell_type": "code",
   "execution_count": 49,
   "metadata": {
    "ExecuteTime": {
     "end_time": "2021-03-10T13:23:12.592610Z",
     "start_time": "2021-03-10T13:23:12.483609Z"
    }
   },
   "outputs": [
    {
     "data": {
      "text/plain": [
       "(torch.Size([1, 1, 128, 128]), torch.Size([1, 512]))"
      ]
     },
     "execution_count": 49,
     "metadata": {},
     "output_type": "execute_result"
    }
   ],
   "source": [
    "images, inchis = next(iter(dm.train_dataloader()))\n",
    "images.shape, inchis.shape"
   ]
  },
  {
   "cell_type": "code",
   "execution_count": 50,
   "metadata": {
    "ExecuteTime": {
     "end_time": "2021-03-10T13:23:12.862612Z",
     "start_time": "2021-03-10T13:23:12.593609Z"
    },
    "code_folding": []
   },
   "outputs": [
    {
     "name": "stderr",
     "output_type": "stream",
     "text": [
      "C:\\Users\\sensio\\miniconda3\\lib\\site-packages\\ipykernel_launcher.py:16: UserWarning: Tight layout not applied. The bottom and top margins cannot be made large enough to accommodate all axes decorations. \n",
      "  app.launch_new_instance()\n"
     ]
    },
    {
     "data": {
      "image/png": "[encoded data removed]",
      "text/plain": [
       "<Figure size 360x360 with 1 Axes>"
      ]
     },
     "metadata": {},
     "output_type": "display_data"
    }
   ],
   "source": [
    "import matplotlib.pyplot as plt\n",
    "from skimage import io\n",
    "import random\n",
    "\n",
    "rows, columns = 1, 1\n",
    "fig = plt.figure(figsize=(5,5))\n",
    "ix = 0\n",
    "for r in range(rows):\n",
    "    for c in range(columns):\n",
    "        image = images[ix]\n",
    "        ax = plt.subplot(rows, columns, ix + 1)\n",
    "        ax.imshow(image.squeeze(0), cmap=\"gray\")\n",
    "        ax.axis('off')\n",
    "        ax.set_title(inchis[ix], size=12)\n",
    "        ix += 1\n",
    "plt.tight_layout()\n",
    "plt.show()"
   ]
  },
  {
   "cell_type": "code",
   "execution_count": 51,
   "metadata": {
    "ExecuteTime": {
     "end_time": "2021-03-10T13:23:12.970610Z",
     "start_time": "2021-03-10T13:23:12.863612Z"
    }
   },
   "outputs": [
    {
     "data": {
      "text/plain": [
       "'C11H16ClNO4S/c1-5-11(3,4)13-10(14)8-6-9(7(2)17-8)18(12,15)16/h6H,5H2,1-4H3,(H,13,14)'"
      ]
     },
     "execution_count": 51,
     "metadata": {},
     "output_type": "execute_result"
    }
   ],
   "source": [
    "decode(inchis[0], vocab).split('EOS')[0]"
   ]
  },
  {
   "cell_type": "markdown",
   "metadata": {},
   "source": [
    "# Fit one sample"
   ]
  },
  {
   "cell_type": "code",
   "execution_count": 70,
   "metadata": {
    "ExecuteTime": {
     "end_time": "2021-03-10T13:39:21.800888Z",
     "start_time": "2021-03-10T13:39:21.699889Z"
    }
   },
   "outputs": [
    {
     "name": "stderr",
     "output_type": "stream",
     "text": [
      "GPU available: True, used: True\n",
      "TPU available: None, using: 0 TPU cores\n",
      "LOCAL_RANK: 0 - CUDA_VISIBLE_DEVICES: [0]\n",
      "Using native 16bit precision.\n"
     ]
    }
   ],
   "source": [
    "import pytorch_lightning as pl\n",
    "\n",
    "dm = DataModule(**config)\n",
    "\n",
    "trainer = pl.Trainer(\n",
    "    gpus=config['gpus'],\n",
    "    precision=config['precision'],\n",
    "    max_epochs=1,\n",
    "    limit_train_batches=config['train_batches'],\n",
    "    limit_val_batches=config['val_batches']\n",
    ")"
   ]
  },
  {
   "cell_type": "code",
   "execution_count": 71,
   "metadata": {
    "ExecuteTime": {
     "end_time": "2021-03-10T13:39:27.485481Z",
     "start_time": "2021-03-10T13:39:21.835888Z"
    }
   },
   "outputs": [
    {
     "name": "stderr",
     "output_type": "stream",
     "text": [
      "\n",
      "  | Name    | Type    | Params\n",
      "------------------------------------\n",
      "0 | encoder | Encoder | 11.2 M\n",
      "1 | decoder | Decoder | 69.3 K\n",
      "------------------------------------\n",
      "11.2 M    Trainable params\n",
      "0         Non-trainable params\n",
      "11.2 M    Total params\n"
     ]
    },
    {
     "name": "stdout",
     "output_type": "stream",
     "text": [
      "Training samples:  2181\n",
      "Validation samples:  243\n"
     ]
    },
    {
     "data": {
      "application/vnd.jupyter.widget-view+json": {
       "model_id": "",
       "version_major": 2,
       "version_minor": 0
      },
      "text/plain": [
       "HBox(children=(FloatProgress(value=1.0, bar_style='info', description='Validation sanity check', layout=Layout…"
      ]
     },
     "metadata": {},
     "output_type": "display_data"
    },
    {
     "data": {
      "application/vnd.jupyter.widget-view+json": {
       "model_id": "54562a64a59a49b299029870ca6ab2ba",
       "version_major": 2,
       "version_minor": 0
      },
      "text/plain": [
       "HBox(children=(FloatProgress(value=1.0, bar_style='info', description='Training', layout=Layout(flex='2'), max…"
      ]
     },
     "metadata": {},
     "output_type": "display_data"
    },
    {
     "name": "stdout",
     "output_type": "stream",
     "text": [
      "torch.Size([1, 512, 35])\n"
     ]
    },
    {
     "data": {
      "application/vnd.jupyter.widget-view+json": {
       "model_id": "",
       "version_major": 2,
       "version_minor": 0
      },
      "text/plain": [
       "HBox(children=(FloatProgress(value=1.0, bar_style='info', description='Validating', layout=Layout(flex='2'), m…"
      ]
     },
     "metadata": {},
     "output_type": "display_data"
    },
    {
     "name": "stdout",
     "output_type": "stream",
     "text": [
      "\n"
     ]
    },
    {
     "data": {
      "text/plain": [
       "1"
      ]
     },
     "execution_count": 71,
     "metadata": {},
     "output_type": "execute_result"
    }
   ],
   "source": [
    "from src import models\n",
    "\n",
    "model = getattr(models, config['model'])(config)\n",
    "\n",
    "trainer.fit(model, dm)"
   ]
  },
  {
   "cell_type": "code",
   "execution_count": 66,
   "metadata": {
    "ExecuteTime": {
     "end_time": "2021-03-10T13:28:39.833016Z",
     "start_time": "2021-03-10T13:28:39.689019Z"
    }
   },
   "outputs": [
    {
     "data": {
      "text/plain": [
       "['411H16CH8,43/11-(-11(3,4)13-1((14)8-6-1(/(2)1)-8)18(12,1()16//6H,(H2,1-4H3,(H,13,14))PADPADPADPADPADPADPADPADPADPADPADPADPADPADPADPADPADPADPADPADPADPADPADPADPADPADPADPADPADPADPADPADPADPADPADPADPADPADPADPADPADPADPADPADPADPADPADPADPADPADPADPADPADPADPADPADPADPADPADPADPADPADPADPADPADPADPADPADPADPADPADPADPADPADPADPADPADPADPADPADPADPADPADPADPADPADPADPADPADPADPADPADPADPADPADPADPADPADPADPADPADPADPADPADPADPADPADPADPADPADPADPADPADPADPADPADPADPADPADPADPADPADPADPADPADPADPADPADPADPADPADPADPADPADPADPADPADPADPADPADPADPADPADPADPADPADPADPADPADPADPADPADPADPADPADPADPADPADPADPADPADPADPADPADPADPADPADPADPADPADPADPADPADPADPADPADPADPADPADPADPADPADPADPADPADPADPADPADPADPADPADPADPADPADPADPADPADPADPADPADPADPADPADPADPADPADPADPADPADPADPADPADPADPADPADPADPADPADPADPADPADPADPADPADPADPADPADPADPADPADPADPADPADPADPADPADPADPADPADPADPADPADPADPADPADPADPADPADPADPADPADPADPADPADPADPADPADPADPADPADPADPADPADPADPADPADPADPADPADPADPADPADPADPADPADPADPADPADPADPADPADPADPADPADPADPADPADPADPADPADPADPADPADPADPADPADPADPADPADPADPADPADPADPADPADPADPADPADPADPADPADPADPADPADPADPADPADPADPADPADPADPADPADPADPADPADPADPADPADPADPADPADPADPADPADPADPADPADPADPADPADPADPADPADPADPADPADPADPADPADPADPADPADPADPADPADPADPADPADPADPADPADPADPADPADPADPADPADPADPADPADPADPADPADPADPADPADPADPADPADPADPADPADPADPADPADPADPADPADPADPADPADPADPADPADPADPADPADPADPADPADPADPADPADPADPADPADPADPADPADPADPADPADPADPADPADPADPADPADPADPADPADPADPADPADPADPAD']"
      ]
     },
     "execution_count": 66,
     "metadata": {},
     "output_type": "execute_result"
    }
   ],
   "source": [
    "preds = model.predict(images)\n",
    "preds"
   ]
  },
  {
   "cell_type": "code",
   "execution_count": 67,
   "metadata": {
    "ExecuteTime": {
     "end_time": "2021-03-10T13:28:39.957016Z",
     "start_time": "2021-03-10T13:28:39.853018Z"
    }
   },
   "outputs": [
    {
     "data": {
      "text/plain": [
       "'C11H16ClNO4S/c1-5-11(3,4)13-10(14)8-6-9(7(2)17-8)18(12,15)16/h6H,5H2,1-4H3,(H,13,14)'"
      ]
     },
     "execution_count": 67,
     "metadata": {},
     "output_type": "execute_result"
    }
   ],
   "source": [
    "gt = decode(inchis[0], vocab).split('EOS')[0]\n",
    "gt"
   ]
  },
  {
   "cell_type": "code",
   "execution_count": 68,
   "metadata": {
    "ExecuteTime": {
     "end_time": "2021-03-10T13:28:47.833018Z",
     "start_time": "2021-03-10T13:28:47.721017Z"
    }
   },
   "outputs": [
    {
     "data": {
      "text/plain": [
       "1296"
      ]
     },
     "execution_count": 68,
     "metadata": {},
     "output_type": "execute_result"
    }
   ],
   "source": [
    "from Levenshtein import distance\n",
    "\n",
    "distance(preds[0], gt)"
   ]
  },
  {
   "cell_type": "markdown",
   "metadata": {},
   "source": [
    "# Fit one batch"
   ]
  },
  {
   "cell_type": "code",
   "execution_count": null,
   "metadata": {
    "ExecuteTime": {
     "end_time": "2021-03-10T13:15:28.066450Z",
     "start_time": "2021-03-10T13:14:58.068Z"
    }
   },
   "outputs": [],
   "source": [
    "config_file = 'debug.yml'\n",
    "config = parse_config_file(config_file)\n",
    "config"
   ]
  },
  {
   "cell_type": "code",
   "execution_count": null,
   "metadata": {
    "ExecuteTime": {
     "end_time": "2021-03-10T13:15:28.067448Z",
     "start_time": "2021-03-10T13:14:58.069Z"
    }
   },
   "outputs": [],
   "source": [
    "dm = DataModule(**config)\n",
    "\n",
    "trainer = pl.Trainer(\n",
    "    gpus=config['gpus'],\n",
    "    precision=config['precision'],\n",
    "    max_epochs=500,\n",
    "    limit_train_batches=config['train_batches'],\n",
    "    limit_val_batches=config['val_batches']\n",
    ")"
   ]
  },
  {
   "cell_type": "code",
   "execution_count": null,
   "metadata": {
    "ExecuteTime": {
     "end_time": "2021-03-10T13:15:28.067448Z",
     "start_time": "2021-03-10T13:14:58.080Z"
    }
   },
   "outputs": [],
   "source": [
    "model = getattr(models, config['model'])(config)\n",
    "\n",
    "trainer.fit(model, dm)"
   ]
  },
  {
   "cell_type": "code",
   "execution_count": null,
   "metadata": {
    "ExecuteTime": {
     "end_time": "2021-03-10T13:15:28.068451Z",
     "start_time": "2021-03-10T13:14:58.081Z"
    }
   },
   "outputs": [],
   "source": [
    "images, inchis = next(iter(dm.train_dataloader()))\n",
    "images.shape, inchis.shape"
   ]
  },
  {
   "cell_type": "code",
   "execution_count": null,
   "metadata": {
    "ExecuteTime": {
     "end_time": "2021-03-10T13:15:28.069448Z",
     "start_time": "2021-03-10T13:14:58.082Z"
    }
   },
   "outputs": [],
   "source": [
    "preds = model.predict(images)\n",
    "preds"
   ]
  },
  {
   "cell_type": "code",
   "execution_count": null,
   "metadata": {
    "ExecuteTime": {
     "end_time": "2021-03-10T13:15:28.069448Z",
     "start_time": "2021-03-10T13:14:58.083Z"
    }
   },
   "outputs": [],
   "source": [
    "gts = []\n",
    "for inchi in inchis:\n",
    "    gts.append(decode(inchi, vocab).split('EOS')[0])\n",
    "gts"
   ]
  },
  {
   "cell_type": "code",
   "execution_count": null,
   "metadata": {
    "ExecuteTime": {
     "end_time": "2021-03-10T13:15:28.070450Z",
     "start_time": "2021-03-10T13:14:58.085Z"
    }
   },
   "outputs": [],
   "source": [
    "metrics = []\n",
    "for pred, gt in zip(preds, gts):\n",
    "    metrics.append(distance(pred, gt))\n",
    "metrics"
   ]
  }
 ],
 "metadata": {
  "kernelspec": {
   "display_name": "Python 3",
   "language": "python",
   "name": "python3"
  },
  "language_info": {
   "codemirror_mode": {
    "name": "ipython",
    "version": 3
   },
   "file_extension": ".py",
   "mimetype": "text/x-python",
   "name": "python",
   "nbconvert_exporter": "python",
   "pygments_lexer": "ipython3",
   "version": "3.7.6"
  },
  "toc": {
   "base_numbering": 1,
   "nav_menu": {},
   "number_sections": true,
   "sideBar": true,
   "skip_h1_title": false,
   "title_cell": "Table of Contents",
   "title_sidebar": "Contents",
   "toc_cell": false,
   "toc_position": {},
   "toc_section_display": true,
   "toc_window_display": false
  }
 },
 "nbformat": 4,
 "nbformat_minor": 4
}
