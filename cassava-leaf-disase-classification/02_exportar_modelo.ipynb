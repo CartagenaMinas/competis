{
 "cells": [
  {
   "cell_type": "code",
   "execution_count": 1,
   "metadata": {
    "ExecuteTime": {
     "end_time": "2020-12-05T11:53:02.409978Z",
     "start_time": "2020-12-05T11:53:00.292955Z"
    }
   },
   "outputs": [],
   "source": [
    "import pytorch_lightning as pl\n",
    "import torch \n",
    "from pytorch_lightning.metrics.functional.classification import accuracy\n",
    "from tqdm import tqdm\n",
    "from src import DataModule, Resnet\n",
    "import torchvision\n",
    "import pandas as pd \n",
    "from pathlib import Path\n",
    "from skimage import io"
   ]
  },
  {
   "cell_type": "code",
   "execution_count": 3,
   "metadata": {
    "ExecuteTime": {
     "end_time": "2020-12-05T11:53:42.146445Z",
     "start_time": "2020-12-05T11:53:39.799933Z"
    }
   },
   "outputs": [
    {
     "data": {
      "text/plain": [
       "{'lr': 0.0003,\n",
       " 'optimizer': 'Adam',\n",
       " 'batch_size': 256,\n",
       " 'max_epochs': 50,\n",
       " 'precision': 16,\n",
       " 'subset': 0,\n",
       " 'test_size': 0.2,\n",
       " 'seed': 42,\n",
       " 'size': 512,\n",
       " 'backbone': 'resnet18'}"
      ]
     },
     "execution_count": 3,
     "metadata": {},
     "output_type": "execute_result"
    }
   ],
   "source": [
    "checkpoint = torch.load('./resnet18-512-val_acc=0.85654.ckpt')\n",
    "hparams = checkpoint['hyper_parameters']\n",
    "hparams"
   ]
  },
  {
   "cell_type": "code",
   "execution_count": 3,
   "metadata": {
    "ExecuteTime": {
     "end_time": "2020-12-05T11:53:30.817519Z",
     "start_time": "2020-12-05T11:53:30.755521Z"
    }
   },
   "outputs": [
    {
     "name": "stdout",
     "output_type": "stream",
     "text": [
      "Training samples:  21642\n",
      "Validation samples:  5411\n"
     ]
    }
   ],
   "source": [
    "dm = DataModule(\n",
    "    file = 'train_extra.csv', \n",
    "    batch_size=64\n",
    ")\n",
    "dm.setup()"
   ]
  },
  {
   "cell_type": "code",
   "execution_count": null,
   "metadata": {
    "ExecuteTime": {
     "end_time": "2020-12-02T17:55:55.284894Z",
     "start_time": "2020-12-02T17:55:54.960896Z"
    }
   },
   "outputs": [],
   "source": [
    "model = Resnet.load_from_checkpoint(checkpoint_path='./resnet18-256-val_acc=0.78398.ckpt')\n",
    "model.hparams"
   ]
  },
  {
   "cell_type": "code",
   "execution_count": null,
   "metadata": {
    "ExecuteTime": {
     "end_time": "2020-12-02T17:56:42.435822Z",
     "start_time": "2020-12-02T17:55:58.176523Z"
    }
   },
   "outputs": [],
   "source": [
    " def evaluate(model, dl):   \n",
    "    model.eval()\n",
    "    model.cuda()\n",
    "    acc = []\n",
    "    with torch.no_grad():\n",
    "        t = tqdm(dl)\n",
    "        for x, y in t:\n",
    "            x, y = x.cuda(), y.cuda()\n",
    "            y_hat = model(x)\n",
    "            acc.append(accuracy(y_hat, y).item())\n",
    "            t.set_description(f\"acc {np.mean(acc):.5f}\")\n",
    "            \n",
    "evaluate(model, dm.val_dataloader())"
   ]
  },
  {
   "cell_type": "code",
   "execution_count": null,
   "metadata": {
    "ExecuteTime": {
     "end_time": "2020-12-02T17:56:42.450820Z",
     "start_time": "2020-12-02T17:56:42.437822Z"
    }
   },
   "outputs": [],
   "source": [
    "class Preprocess(torch.nn.Module):\n",
    "    def __init__(self):\n",
    "        super().__init__()\n",
    "    def forward(self, x):\n",
    "        x = x.float() / 255.\n",
    "        x = x.permute(0, 3, 1, 2)\n",
    "        return x \n",
    "    \n",
    "class Postprocess(torch.nn.Module):\n",
    "    def __init__(self):\n",
    "        super().__init__()\n",
    "    def forward(self, x):\n",
    "        return torch.argmax(x, dim=1)"
   ]
  },
  {
   "cell_type": "code",
   "execution_count": null,
   "metadata": {
    "ExecuteTime": {
     "end_time": "2020-12-02T17:56:42.754922Z",
     "start_time": "2020-12-02T17:56:42.453823Z"
    }
   },
   "outputs": [],
   "source": [
    "script = torch.jit.script(torch.nn.Sequential(\n",
    "    Preprocess(),\n",
    "    model.resnet.cpu(),\n",
    "    Postprocess()\n",
    "))\n",
    "torch.jit.save(script, \"model.pt\")"
   ]
  },
  {
   "cell_type": "code",
   "execution_count": null,
   "metadata": {
    "ExecuteTime": {
     "end_time": "2020-12-02T17:56:42.770930Z",
     "start_time": "2020-12-02T17:56:42.755923Z"
    }
   },
   "outputs": [],
   "source": [
    " def evaluate2(model, dl):   \n",
    "    model.eval()\n",
    "    model.cuda()\n",
    "    acc = []\n",
    "    with torch.no_grad():\n",
    "        t = tqdm(dl)\n",
    "        for x, y in t:\n",
    "            x, y = x.cuda(), y.cuda()\n",
    "            # simulate test\n",
    "            x *= 255. \n",
    "            x = x.permute(0, 2, 3, 1).long()\n",
    "            #print(x.shape, x.dtype, x.max(), x.min())\n",
    "            y_hat = model(x)\n",
    "            acc.append(accuracy(y_hat, y).item())\n",
    "            t.set_description(f\"acc {np.mean(acc):.5f}\")"
   ]
  },
  {
   "cell_type": "code",
   "execution_count": null,
   "metadata": {
    "ExecuteTime": {
     "end_time": "2020-12-02T17:57:25.971483Z",
     "start_time": "2020-12-02T17:56:42.771930Z"
    }
   },
   "outputs": [],
   "source": [
    "loaded = torch.jit.load('model.pt')\n",
    "evaluate2(loaded, dm.val_dataloader())"
   ]
  },
  {
   "cell_type": "code",
   "execution_count": null,
   "metadata": {
    "ExecuteTime": {
     "end_time": "2020-12-02T17:57:25.986996Z",
     "start_time": "2020-12-02T17:57:25.973484Z"
    }
   },
   "outputs": [],
   "source": [
    "path = Path('./data/test_images')\n",
    "images = os.listdir(path)\n",
    "images_paths = [str(path/img) for img in images]\n",
    "len(images)"
   ]
  },
  {
   "cell_type": "code",
   "execution_count": null,
   "metadata": {
    "ExecuteTime": {
     "end_time": "2020-12-02T17:57:26.002995Z",
     "start_time": "2020-12-02T17:57:25.988996Z"
    }
   },
   "outputs": [],
   "source": [
    "def predict(model, images, bs=32):   \n",
    "    model.eval()\n",
    "    model.cuda()\n",
    "    preds = torch.tensor([]).cuda()\n",
    "    batches = len(images) // bs + 1\n",
    "    print(batches)\n",
    "    with torch.no_grad():\n",
    "        for b in tqdm(range(batches)):\n",
    "            imgs = images[bs*b:bs*(b+1)]\n",
    "            imgs = torch.from_numpy(np.array([io.imread(img) for img in imgs]))\n",
    "            y_hat = model(imgs.cuda())\n",
    "            preds = torch.cat([preds, y_hat])\n",
    "    return preds.long().cpu().numpy()"
   ]
  },
  {
   "cell_type": "code",
   "execution_count": null,
   "metadata": {
    "ExecuteTime": {
     "end_time": "2020-12-02T17:57:26.252996Z",
     "start_time": "2020-12-02T17:57:26.005998Z"
    }
   },
   "outputs": [],
   "source": [
    "loaded = torch.jit.load('model.pt')\n",
    "preds = predict(loaded, images_paths)\n",
    "preds"
   ]
  },
  {
   "cell_type": "code",
   "execution_count": null,
   "metadata": {
    "ExecuteTime": {
     "end_time": "2020-12-02T17:57:26.268997Z",
     "start_time": "2020-12-02T17:57:26.253996Z"
    }
   },
   "outputs": [],
   "source": [
    "submission = pd.DataFrame({'image_id': images, 'label': preds })\n",
    "submission"
   ]
  },
  {
   "cell_type": "code",
   "execution_count": null,
   "metadata": {
    "ExecuteTime": {
     "end_time": "2020-12-02T17:57:26.284996Z",
     "start_time": "2020-12-02T17:57:26.269997Z"
    }
   },
   "outputs": [],
   "source": [
    "submission.to_csv('submission.csv', index=False)"
   ]
  }
 ],
 "metadata": {
  "kernelspec": {
   "display_name": "Python 3",
   "language": "python",
   "name": "python3"
  },
  "language_info": {
   "codemirror_mode": {
    "name": "ipython",
    "version": 3
   },
   "file_extension": ".py",
   "mimetype": "text/x-python",
   "name": "python",
   "nbconvert_exporter": "python",
   "pygments_lexer": "ipython3",
   "version": "3.8.3"
  },
  "toc": {
   "base_numbering": 1,
   "nav_menu": {},
   "number_sections": true,
   "sideBar": true,
   "skip_h1_title": false,
   "title_cell": "Table of Contents",
   "title_sidebar": "Contents",
   "toc_cell": false,
   "toc_position": {},
   "toc_section_display": true,
   "toc_window_display": false
  }
 },
 "nbformat": 4,
 "nbformat_minor": 4
}
